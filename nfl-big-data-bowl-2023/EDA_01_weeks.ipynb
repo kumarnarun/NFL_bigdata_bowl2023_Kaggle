{
 "cells": [
  {
   "cell_type": "code",
   "execution_count": 1,
   "id": "6250c671",
   "metadata": {},
   "outputs": [],
   "source": [
    "import pandas as pd\n",
    "import numpy as np\n",
    "import matplotlib.pyplot as plt\n",
    "import seaborn as sns"
   ]
  },
  {
   "cell_type": "code",
   "execution_count": 2,
   "id": "5036597c",
   "metadata": {},
   "outputs": [
    {
     "data": {
      "text/html": [
       "<div>\n",
       "<style scoped>\n",
       "    .dataframe tbody tr th:only-of-type {\n",
       "        vertical-align: middle;\n",
       "    }\n",
       "\n",
       "    .dataframe tbody tr th {\n",
       "        vertical-align: top;\n",
       "    }\n",
       "\n",
       "    .dataframe thead th {\n",
       "        text-align: right;\n",
       "    }\n",
       "</style>\n",
       "<table border=\"1\" class=\"dataframe\">\n",
       "  <thead>\n",
       "    <tr style=\"text-align: right;\">\n",
       "      <th></th>\n",
       "      <th>gameId</th>\n",
       "      <th>playId</th>\n",
       "      <th>nflId</th>\n",
       "      <th>frameId</th>\n",
       "      <th>time</th>\n",
       "      <th>jerseyNumber</th>\n",
       "      <th>team</th>\n",
       "      <th>playDirection</th>\n",
       "      <th>x</th>\n",
       "      <th>y</th>\n",
       "      <th>s</th>\n",
       "      <th>a</th>\n",
       "      <th>dis</th>\n",
       "      <th>o</th>\n",
       "      <th>dir</th>\n",
       "      <th>event</th>\n",
       "    </tr>\n",
       "  </thead>\n",
       "  <tbody>\n",
       "    <tr>\n",
       "      <th>0</th>\n",
       "      <td>2021090900</td>\n",
       "      <td>97</td>\n",
       "      <td>25511.0</td>\n",
       "      <td>1</td>\n",
       "      <td>2021-09-10T00:26:31.100</td>\n",
       "      <td>12.0</td>\n",
       "      <td>TB</td>\n",
       "      <td>right</td>\n",
       "      <td>37.77</td>\n",
       "      <td>24.22</td>\n",
       "      <td>0.29</td>\n",
       "      <td>0.30</td>\n",
       "      <td>0.03</td>\n",
       "      <td>165.16</td>\n",
       "      <td>84.99</td>\n",
       "      <td>None</td>\n",
       "    </tr>\n",
       "    <tr>\n",
       "      <th>1</th>\n",
       "      <td>2021090900</td>\n",
       "      <td>97</td>\n",
       "      <td>25511.0</td>\n",
       "      <td>2</td>\n",
       "      <td>2021-09-10T00:26:31.200</td>\n",
       "      <td>12.0</td>\n",
       "      <td>TB</td>\n",
       "      <td>right</td>\n",
       "      <td>37.78</td>\n",
       "      <td>24.22</td>\n",
       "      <td>0.23</td>\n",
       "      <td>0.11</td>\n",
       "      <td>0.02</td>\n",
       "      <td>164.33</td>\n",
       "      <td>92.87</td>\n",
       "      <td>None</td>\n",
       "    </tr>\n",
       "    <tr>\n",
       "      <th>2</th>\n",
       "      <td>2021090900</td>\n",
       "      <td>97</td>\n",
       "      <td>25511.0</td>\n",
       "      <td>3</td>\n",
       "      <td>2021-09-10T00:26:31.300</td>\n",
       "      <td>12.0</td>\n",
       "      <td>TB</td>\n",
       "      <td>right</td>\n",
       "      <td>37.78</td>\n",
       "      <td>24.24</td>\n",
       "      <td>0.16</td>\n",
       "      <td>0.10</td>\n",
       "      <td>0.01</td>\n",
       "      <td>160.24</td>\n",
       "      <td>68.55</td>\n",
       "      <td>None</td>\n",
       "    </tr>\n",
       "    <tr>\n",
       "      <th>3</th>\n",
       "      <td>2021090900</td>\n",
       "      <td>97</td>\n",
       "      <td>25511.0</td>\n",
       "      <td>4</td>\n",
       "      <td>2021-09-10T00:26:31.400</td>\n",
       "      <td>12.0</td>\n",
       "      <td>TB</td>\n",
       "      <td>right</td>\n",
       "      <td>37.73</td>\n",
       "      <td>24.25</td>\n",
       "      <td>0.15</td>\n",
       "      <td>0.24</td>\n",
       "      <td>0.06</td>\n",
       "      <td>152.13</td>\n",
       "      <td>296.85</td>\n",
       "      <td>None</td>\n",
       "    </tr>\n",
       "    <tr>\n",
       "      <th>4</th>\n",
       "      <td>2021090900</td>\n",
       "      <td>97</td>\n",
       "      <td>25511.0</td>\n",
       "      <td>5</td>\n",
       "      <td>2021-09-10T00:26:31.500</td>\n",
       "      <td>12.0</td>\n",
       "      <td>TB</td>\n",
       "      <td>right</td>\n",
       "      <td>37.69</td>\n",
       "      <td>24.26</td>\n",
       "      <td>0.25</td>\n",
       "      <td>0.18</td>\n",
       "      <td>0.04</td>\n",
       "      <td>148.33</td>\n",
       "      <td>287.55</td>\n",
       "      <td>None</td>\n",
       "    </tr>\n",
       "  </tbody>\n",
       "</table>\n",
       "</div>"
      ],
      "text/plain": [
       "       gameId  playId    nflId  frameId                     time  \\\n",
       "0  2021090900      97  25511.0        1  2021-09-10T00:26:31.100   \n",
       "1  2021090900      97  25511.0        2  2021-09-10T00:26:31.200   \n",
       "2  2021090900      97  25511.0        3  2021-09-10T00:26:31.300   \n",
       "3  2021090900      97  25511.0        4  2021-09-10T00:26:31.400   \n",
       "4  2021090900      97  25511.0        5  2021-09-10T00:26:31.500   \n",
       "\n",
       "   jerseyNumber team playDirection      x      y     s     a   dis       o  \\\n",
       "0          12.0   TB         right  37.77  24.22  0.29  0.30  0.03  165.16   \n",
       "1          12.0   TB         right  37.78  24.22  0.23  0.11  0.02  164.33   \n",
       "2          12.0   TB         right  37.78  24.24  0.16  0.10  0.01  160.24   \n",
       "3          12.0   TB         right  37.73  24.25  0.15  0.24  0.06  152.13   \n",
       "4          12.0   TB         right  37.69  24.26  0.25  0.18  0.04  148.33   \n",
       "\n",
       "      dir event  \n",
       "0   84.99  None  \n",
       "1   92.87  None  \n",
       "2   68.55  None  \n",
       "3  296.85  None  \n",
       "4  287.55  None  "
      ]
     },
     "execution_count": 2,
     "metadata": {},
     "output_type": "execute_result"
    }
   ],
   "source": [
    "df = pd.read_csv('week1.csv')\n",
    "df.head()"
   ]
  },
  {
   "cell_type": "code",
   "execution_count": 3,
   "id": "8ee2665a",
   "metadata": {},
   "outputs": [],
   "source": [
    "dfx = df.copy()"
   ]
  },
  {
   "cell_type": "code",
   "execution_count": 4,
   "id": "352d6e76",
   "metadata": {},
   "outputs": [],
   "source": [
    "dfx.dropna(inplace = True)"
   ]
  },
  {
   "cell_type": "code",
   "execution_count": 5,
   "id": "ba664ba4",
   "metadata": {},
   "outputs": [
    {
     "name": "stdout",
     "output_type": "stream",
     "text": [
      "<class 'pandas.core.frame.DataFrame'>\n",
      "Int64Index: 1069508 entries, 0 to 1118087\n",
      "Data columns (total 16 columns):\n",
      " #   Column         Non-Null Count    Dtype  \n",
      "---  ------         --------------    -----  \n",
      " 0   gameId         1069508 non-null  int64  \n",
      " 1   playId         1069508 non-null  int64  \n",
      " 2   nflId          1069508 non-null  float64\n",
      " 3   frameId        1069508 non-null  int64  \n",
      " 4   time           1069508 non-null  object \n",
      " 5   jerseyNumber   1069508 non-null  float64\n",
      " 6   team           1069508 non-null  object \n",
      " 7   playDirection  1069508 non-null  object \n",
      " 8   x              1069508 non-null  float64\n",
      " 9   y              1069508 non-null  float64\n",
      " 10  s              1069508 non-null  float64\n",
      " 11  a              1069508 non-null  float64\n",
      " 12  dis            1069508 non-null  float64\n",
      " 13  o              1069508 non-null  float64\n",
      " 14  dir            1069508 non-null  float64\n",
      " 15  event          1069508 non-null  object \n",
      "dtypes: float64(9), int64(3), object(4)\n",
      "memory usage: 138.7+ MB\n"
     ]
    }
   ],
   "source": [
    "dfx.info()"
   ]
  },
  {
   "cell_type": "code",
   "execution_count": 21,
   "id": "ca442a48",
   "metadata": {},
   "outputs": [
    {
     "name": "stdout",
     "output_type": "stream",
     "text": [
      "<class 'pandas.core.frame.DataFrame'>\n",
      "RangeIndex: 1118122 entries, 0 to 1118121\n",
      "Data columns (total 16 columns):\n",
      " #   Column         Non-Null Count    Dtype  \n",
      "---  ------         --------------    -----  \n",
      " 0   gameId         1118122 non-null  int64  \n",
      " 1   playId         1118122 non-null  int64  \n",
      " 2   nflId          1069508 non-null  float64\n",
      " 3   frameId        1118122 non-null  int64  \n",
      " 4   time           1118122 non-null  object \n",
      " 5   jerseyNumber   1069508 non-null  float64\n",
      " 6   team           1118122 non-null  object \n",
      " 7   playDirection  1118122 non-null  object \n",
      " 8   x              1118122 non-null  float64\n",
      " 9   y              1118122 non-null  float64\n",
      " 10  s              1118122 non-null  float64\n",
      " 11  a              1118122 non-null  float64\n",
      " 12  dis            1118122 non-null  float64\n",
      " 13  o              1069508 non-null  float64\n",
      " 14  dir            1069508 non-null  float64\n",
      " 15  event          1118122 non-null  object \n",
      "dtypes: float64(9), int64(3), object(4)\n",
      "memory usage: 136.5+ MB\n"
     ]
    }
   ],
   "source": [
    "df.info()"
   ]
  },
  {
   "cell_type": "code",
   "execution_count": 58,
   "id": "9b84625f",
   "metadata": {},
   "outputs": [
    {
     "data": {
      "text/plain": [
       "Index                 128\n",
       "gameId            8944976\n",
       "playId            8944976\n",
       "nflId             8944976\n",
       "frameId           8944976\n",
       "time             89449760\n",
       "jerseyNumber      8944976\n",
       "team             67071637\n",
       "playDirection    68773473\n",
       "x                 8944976\n",
       "y                 8944976\n",
       "s                 8944976\n",
       "a                 8944976\n",
       "dis               8944976\n",
       "o                 8944976\n",
       "dir               8944976\n",
       "event            69018975\n",
       "dtype: int64"
      ]
     },
     "execution_count": 58,
     "metadata": {},
     "output_type": "execute_result"
    }
   ],
   "source": [
    "df.memory_usage(deep=True)"
   ]
  },
  {
   "cell_type": "code",
   "execution_count": 12,
   "id": "a19fe3b4",
   "metadata": {},
   "outputs": [
    {
     "data": {
      "text/plain": [
       "gameId             int64\n",
       "playId             int64\n",
       "nflId            float64\n",
       "frameId            int64\n",
       "time              object\n",
       "jerseyNumber     float64\n",
       "team              object\n",
       "playDirection     object\n",
       "x                float64\n",
       "y                float64\n",
       "s                float64\n",
       "a                float64\n",
       "dis              float64\n",
       "o                float64\n",
       "dir              float64\n",
       "event             object\n",
       "dtype: object"
      ]
     },
     "execution_count": 12,
     "metadata": {},
     "output_type": "execute_result"
    }
   ],
   "source": [
    "df.dtypes"
   ]
  },
  {
   "cell_type": "code",
   "execution_count": 13,
   "id": "08c92f86",
   "metadata": {},
   "outputs": [
    {
     "data": {
      "text/html": [
       "<div>\n",
       "<style scoped>\n",
       "    .dataframe tbody tr th:only-of-type {\n",
       "        vertical-align: middle;\n",
       "    }\n",
       "\n",
       "    .dataframe tbody tr th {\n",
       "        vertical-align: top;\n",
       "    }\n",
       "\n",
       "    .dataframe thead th {\n",
       "        text-align: right;\n",
       "    }\n",
       "</style>\n",
       "<table border=\"1\" class=\"dataframe\">\n",
       "  <thead>\n",
       "    <tr style=\"text-align: right;\">\n",
       "      <th></th>\n",
       "      <th>gameId</th>\n",
       "      <th>playId</th>\n",
       "      <th>nflId</th>\n",
       "      <th>frameId</th>\n",
       "      <th>jerseyNumber</th>\n",
       "      <th>x</th>\n",
       "      <th>y</th>\n",
       "      <th>s</th>\n",
       "      <th>a</th>\n",
       "      <th>dis</th>\n",
       "      <th>o</th>\n",
       "      <th>dir</th>\n",
       "    </tr>\n",
       "  </thead>\n",
       "  <tbody>\n",
       "    <tr>\n",
       "      <th>count</th>\n",
       "      <td>1.118122e+06</td>\n",
       "      <td>1.118122e+06</td>\n",
       "      <td>1.069508e+06</td>\n",
       "      <td>1.118122e+06</td>\n",
       "      <td>1.069508e+06</td>\n",
       "      <td>1.118122e+06</td>\n",
       "      <td>1.118122e+06</td>\n",
       "      <td>1.118122e+06</td>\n",
       "      <td>1.118122e+06</td>\n",
       "      <td>1.118122e+06</td>\n",
       "      <td>1.069508e+06</td>\n",
       "      <td>1.069508e+06</td>\n",
       "    </tr>\n",
       "    <tr>\n",
       "      <th>mean</th>\n",
       "      <td>2.021091e+09</td>\n",
       "      <td>2.187560e+03</td>\n",
       "      <td>4.546032e+04</td>\n",
       "      <td>2.300878e+01</td>\n",
       "      <td>4.946294e+01</td>\n",
       "      <td>5.995228e+01</td>\n",
       "      <td>2.684172e+01</td>\n",
       "      <td>2.574296e+00</td>\n",
       "      <td>1.794618e+00</td>\n",
       "      <td>2.608325e-01</td>\n",
       "      <td>1.796703e+02</td>\n",
       "      <td>1.808125e+02</td>\n",
       "    </tr>\n",
       "    <tr>\n",
       "      <th>std</th>\n",
       "      <td>9.053527e+01</td>\n",
       "      <td>1.243918e+03</td>\n",
       "      <td>4.938338e+03</td>\n",
       "      <td>1.612365e+01</td>\n",
       "      <td>3.002461e+01</td>\n",
       "      <td>2.422567e+01</td>\n",
       "      <td>8.385432e+00</td>\n",
       "      <td>2.403110e+00</td>\n",
       "      <td>1.458681e+00</td>\n",
       "      <td>2.579968e-01</td>\n",
       "      <td>9.926149e+01</td>\n",
       "      <td>1.011737e+02</td>\n",
       "    </tr>\n",
       "    <tr>\n",
       "      <th>min</th>\n",
       "      <td>2.021091e+09</td>\n",
       "      <td>5.500000e+01</td>\n",
       "      <td>2.551100e+04</td>\n",
       "      <td>1.000000e+00</td>\n",
       "      <td>1.000000e+00</td>\n",
       "      <td>2.500000e-01</td>\n",
       "      <td>-2.610000e+00</td>\n",
       "      <td>0.000000e+00</td>\n",
       "      <td>0.000000e+00</td>\n",
       "      <td>0.000000e+00</td>\n",
       "      <td>0.000000e+00</td>\n",
       "      <td>0.000000e+00</td>\n",
       "    </tr>\n",
       "    <tr>\n",
       "      <th>25%</th>\n",
       "      <td>2.021091e+09</td>\n",
       "      <td>1.166000e+03</td>\n",
       "      <td>4.240400e+04</td>\n",
       "      <td>1.100000e+01</td>\n",
       "      <td>2.200000e+01</td>\n",
       "      <td>4.080000e+01</td>\n",
       "      <td>2.203000e+01</td>\n",
       "      <td>7.300000e-01</td>\n",
       "      <td>7.000000e-01</td>\n",
       "      <td>7.000000e-02</td>\n",
       "      <td>8.938000e+01</td>\n",
       "      <td>9.103000e+01</td>\n",
       "    </tr>\n",
       "    <tr>\n",
       "      <th>50%</th>\n",
       "      <td>2.021091e+09</td>\n",
       "      <td>2.145000e+03</td>\n",
       "      <td>4.499900e+04</td>\n",
       "      <td>2.100000e+01</td>\n",
       "      <td>5.200000e+01</td>\n",
       "      <td>6.013000e+01</td>\n",
       "      <td>2.685000e+01</td>\n",
       "      <td>2.130000e+00</td>\n",
       "      <td>1.540000e+00</td>\n",
       "      <td>2.100000e-01</td>\n",
       "      <td>1.789950e+02</td>\n",
       "      <td>1.798700e+02</td>\n",
       "    </tr>\n",
       "    <tr>\n",
       "      <th>75%</th>\n",
       "      <td>2.021091e+09</td>\n",
       "      <td>3.195000e+03</td>\n",
       "      <td>4.791700e+04</td>\n",
       "      <td>3.200000e+01</td>\n",
       "      <td>7.500000e+01</td>\n",
       "      <td>7.887000e+01</td>\n",
       "      <td>3.171000e+01</td>\n",
       "      <td>3.800000e+00</td>\n",
       "      <td>2.590000e+00</td>\n",
       "      <td>3.800000e-01</td>\n",
       "      <td>2.694300e+02</td>\n",
       "      <td>2.709200e+02</td>\n",
       "    </tr>\n",
       "    <tr>\n",
       "      <th>max</th>\n",
       "      <td>2.021091e+09</td>\n",
       "      <td>4.849000e+03</td>\n",
       "      <td>5.395700e+04</td>\n",
       "      <td>1.770000e+02</td>\n",
       "      <td>9.900000e+01</td>\n",
       "      <td>1.197200e+02</td>\n",
       "      <td>5.701000e+01</td>\n",
       "      <td>2.830000e+01</td>\n",
       "      <td>5.069000e+01</td>\n",
       "      <td>8.460000e+00</td>\n",
       "      <td>3.600000e+02</td>\n",
       "      <td>3.600000e+02</td>\n",
       "    </tr>\n",
       "  </tbody>\n",
       "</table>\n",
       "</div>"
      ],
      "text/plain": [
       "             gameId        playId         nflId       frameId  jerseyNumber  \\\n",
       "count  1.118122e+06  1.118122e+06  1.069508e+06  1.118122e+06  1.069508e+06   \n",
       "mean   2.021091e+09  2.187560e+03  4.546032e+04  2.300878e+01  4.946294e+01   \n",
       "std    9.053527e+01  1.243918e+03  4.938338e+03  1.612365e+01  3.002461e+01   \n",
       "min    2.021091e+09  5.500000e+01  2.551100e+04  1.000000e+00  1.000000e+00   \n",
       "25%    2.021091e+09  1.166000e+03  4.240400e+04  1.100000e+01  2.200000e+01   \n",
       "50%    2.021091e+09  2.145000e+03  4.499900e+04  2.100000e+01  5.200000e+01   \n",
       "75%    2.021091e+09  3.195000e+03  4.791700e+04  3.200000e+01  7.500000e+01   \n",
       "max    2.021091e+09  4.849000e+03  5.395700e+04  1.770000e+02  9.900000e+01   \n",
       "\n",
       "                  x             y             s             a           dis  \\\n",
       "count  1.118122e+06  1.118122e+06  1.118122e+06  1.118122e+06  1.118122e+06   \n",
       "mean   5.995228e+01  2.684172e+01  2.574296e+00  1.794618e+00  2.608325e-01   \n",
       "std    2.422567e+01  8.385432e+00  2.403110e+00  1.458681e+00  2.579968e-01   \n",
       "min    2.500000e-01 -2.610000e+00  0.000000e+00  0.000000e+00  0.000000e+00   \n",
       "25%    4.080000e+01  2.203000e+01  7.300000e-01  7.000000e-01  7.000000e-02   \n",
       "50%    6.013000e+01  2.685000e+01  2.130000e+00  1.540000e+00  2.100000e-01   \n",
       "75%    7.887000e+01  3.171000e+01  3.800000e+00  2.590000e+00  3.800000e-01   \n",
       "max    1.197200e+02  5.701000e+01  2.830000e+01  5.069000e+01  8.460000e+00   \n",
       "\n",
       "                  o           dir  \n",
       "count  1.069508e+06  1.069508e+06  \n",
       "mean   1.796703e+02  1.808125e+02  \n",
       "std    9.926149e+01  1.011737e+02  \n",
       "min    0.000000e+00  0.000000e+00  \n",
       "25%    8.938000e+01  9.103000e+01  \n",
       "50%    1.789950e+02  1.798700e+02  \n",
       "75%    2.694300e+02  2.709200e+02  \n",
       "max    3.600000e+02  3.600000e+02  "
      ]
     },
     "execution_count": 13,
     "metadata": {},
     "output_type": "execute_result"
    }
   ],
   "source": [
    "df.describe()"
   ]
  },
  {
   "cell_type": "code",
   "execution_count": 19,
   "id": "1bf753c4",
   "metadata": {},
   "outputs": [
    {
     "name": "stdout",
     "output_type": "stream",
     "text": [
      "gameId-16\n",
      "playId-1021\n",
      "nflId-1162\n",
      "frameId-177\n",
      "time-45406\n",
      "jerseyNumber-99\n",
      "team-33\n",
      "playDirection-2\n",
      "x-11708\n",
      "y-5386\n",
      "s-2178\n",
      "a-1659\n",
      "dis-563\n",
      "o-36001\n",
      "dir-36001\n",
      "event-23\n"
     ]
    }
   ],
   "source": [
    "for col in df.columns:\n",
    "    \n",
    "    print(f'{col}-{df[col].nunique()}')"
   ]
  },
  {
   "cell_type": "code",
   "execution_count": 20,
   "id": "60bd511b",
   "metadata": {},
   "outputs": [
    {
     "data": {
      "text/plain": [
       "array(['None', 'ball_snap', 'autoevent_passforward', 'pass_forward',\n",
       "       'autoevent_ballsnap', 'line_set', 'play_action', 'pass_arrived',\n",
       "       'autoevent_passinterrupted', 'fumble', 'fumble_offense_recovered',\n",
       "       'qb_sack', 'run', 'man_in_motion', 'pass_outcome_caught',\n",
       "       'pass_outcome_incomplete', 'pass_tipped', 'qb_strip_sack', 'shift',\n",
       "       'first_contact', 'huddle_break_offense', 'lateral', 'handoff'],\n",
       "      dtype=object)"
      ]
     },
     "execution_count": 20,
     "metadata": {},
     "output_type": "execute_result"
    }
   ],
   "source": [
    "df['event'].unique()"
   ]
  },
  {
   "cell_type": "code",
   "execution_count": 22,
   "id": "4d4036e6",
   "metadata": {},
   "outputs": [
    {
     "name": "stdout",
     "output_type": "stream",
     "text": [
      "gameId-2021090900    92644\n",
      "2021091300    92299\n",
      "2021091204    82271\n",
      "2021091201    76406\n",
      "2021091205    75739\n",
      "2021091212    72266\n",
      "2021091203    71116\n",
      "2021091200    69299\n",
      "2021091202    68172\n",
      "2021091209    65274\n",
      "2021091208    64653\n",
      "2021091206    63917\n",
      "2021091207    63848\n",
      "2021091213    57799\n",
      "2021091210    54096\n",
      "2021091211    48323\n",
      "Name: gameId, dtype: int64\n",
      "playId-2063    4991\n",
      "3406    4968\n",
      "2129    4669\n",
      "1938    3312\n",
      "620     3289\n",
      "        ... \n",
      "2203     575\n",
      "3610     575\n",
      "2426     506\n",
      "1744     483\n",
      "3606     483\n",
      "Name: playId, Length: 1021, dtype: int64\n",
      "nflId-53436.0    2700\n",
      "52483.0    2700\n",
      "48455.0    2700\n",
      "46089.0    2700\n",
      "43453.0    2700\n",
      "           ... \n",
      "42436.0      31\n",
      "52427.0      31\n",
      "52569.0      30\n",
      "53522.0      29\n",
      "44937.0      27\n",
      "Name: nflId, Length: 1162, dtype: int64\n",
      "frameId-1      27025\n",
      "2      27025\n",
      "21     27025\n",
      "20     27025\n",
      "19     27025\n",
      "       ...  \n",
      "154       23\n",
      "156       23\n",
      "157       23\n",
      "158       23\n",
      "177       23\n",
      "Name: frameId, Length: 177, dtype: int64\n",
      "time-2021-09-12T18:04:04.900    69\n",
      "2021-09-12T19:59:55.500    69\n",
      "2021-09-12T19:59:55.300    69\n",
      "2021-09-12T19:59:55.200    69\n",
      "2021-09-12T22:46:40.400    69\n",
      "                           ..\n",
      "2021-09-14T03:54:21.000    23\n",
      "2021-09-13T02:55:24.500    22\n",
      "2021-09-13T02:55:24.600    22\n",
      "2021-09-13T02:55:14.100     1\n",
      "2021-09-13T02:55:14.200     1\n",
      "Name: time, Length: 45406, dtype: int64\n",
      "jerseyNumber-23.0    27032\n",
      "21.0    21718\n",
      "11.0    21176\n",
      "90.0    20588\n",
      "24.0    20328\n",
      "        ...  \n",
      "82.0     3841\n",
      "40.0     2940\n",
      "47.0     2686\n",
      "48.0     2257\n",
      "46.0       58\n",
      "Name: jerseyNumber, Length: 99, dtype: int64\n",
      "team-football    48614\n",
      "TB          44308\n",
      "DAL         44308\n",
      "BAL         44143\n",
      "LV          44143\n",
      "SF          39347\n",
      "DET         39347\n",
      "PIT         36542\n",
      "BUF         36542\n",
      "HOU         36223\n",
      "JAX         36223\n",
      "NYG         34562\n",
      "DEN         34562\n",
      "MIN         34012\n",
      "CIN         34012\n",
      "ATL         33143\n",
      "PHI         33143\n",
      "NYJ         32604\n",
      "CAR         32604\n",
      "CLE         31218\n",
      "KC          31218\n",
      "LAC         30921\n",
      "WAS         30921\n",
      "SEA         30569\n",
      "IND         30569\n",
      "ARI         30536\n",
      "TEN         30536\n",
      "CHI         27643\n",
      "LA          27643\n",
      "MIA         25872\n",
      "NE          25872\n",
      "NO          23111\n",
      "GB          23111\n",
      "Name: team, dtype: int64\n",
      "playDirection-right    568031\n",
      "left     550091\n",
      "Name: playDirection, dtype: int64\n",
      "x-66.62     203\n",
      "86.45     203\n",
      "66.16     200\n",
      "86.55     200\n",
      "64.38     200\n",
      "         ... \n",
      "1.66        1\n",
      "1.96        1\n",
      "2.85        1\n",
      "2.83        1\n",
      "118.40      1\n",
      "Name: x, Length: 11708, dtype: int64\n",
      "y- 23.74    1085\n",
      " 23.75    1062\n",
      " 23.80    1058\n",
      " 23.90    1049\n",
      " 29.90    1039\n",
      "          ... \n",
      " 0.53        1\n",
      " 0.63        1\n",
      " 0.67        1\n",
      " 53.84       1\n",
      "-2.39        1\n",
      "Name: y, Length: 5386, dtype: int64\n",
      "s-0.00     71193\n",
      "0.01     18089\n",
      "0.02     10548\n",
      "0.03      7660\n",
      "0.04      6304\n",
      "         ...  \n",
      "15.53        1\n",
      "12.20        1\n",
      "18.55        1\n",
      "18.74        1\n",
      "16.77        1\n",
      "Name: s, Length: 2178, dtype: int64\n",
      "a-0.00     66378\n",
      "0.01     14490\n",
      "0.02      8486\n",
      "0.03      6263\n",
      "0.04      5177\n",
      "         ...  \n",
      "18.22        1\n",
      "12.58        1\n",
      "25.88        1\n",
      "28.77        1\n",
      "15.59        1\n",
      "Name: a, Length: 1659, dtype: int64\n",
      "dis-0.00    70153\n",
      "0.01    62703\n",
      "0.02    35547\n",
      "0.03    27544\n",
      "0.04    23568\n",
      "        ...  \n",
      "5.05        1\n",
      "5.16        1\n",
      "5.37        1\n",
      "6.24        1\n",
      "5.24        1\n",
      "Name: dis, Length: 563, dtype: int64\n",
      "o-90.00     1988\n",
      "93.34      112\n",
      "82.82      106\n",
      "81.35      104\n",
      "84.84      103\n",
      "          ... \n",
      "179.77       5\n",
      "182.88       5\n",
      "20.32        4\n",
      "181.29       3\n",
      "21.21        2\n",
      "Name: o, Length: 36001, dtype: int64\n",
      "dir-98.01     75\n",
      "277.67    74\n",
      "89.00     73\n",
      "266.29    72\n",
      "93.55     71\n",
      "          ..\n",
      "209.64     8\n",
      "200.42     7\n",
      "226.39     7\n",
      "203.68     7\n",
      "27.90      5\n",
      "Name: dir, Length: 36001, dtype: int64\n",
      "event-None                         1028537\n",
      "ball_snap                      26956\n",
      "pass_forward                   24127\n",
      "autoevent_ballsnap             13455\n",
      "autoevent_passforward          12627\n",
      "play_action                     5382\n",
      "qb_sack                         1334\n",
      "run                             1219\n",
      "pass_arrived                    1150\n",
      "autoevent_passinterrupted        690\n",
      "man_in_motion                    598\n",
      "line_set                         552\n",
      "shift                            437\n",
      "pass_tipped                      299\n",
      "first_contact                    230\n",
      "qb_strip_sack                    184\n",
      "pass_outcome_incomplete          138\n",
      "pass_outcome_caught               69\n",
      "fumble                            46\n",
      "fumble_offense_recovered          23\n",
      "huddle_break_offense              23\n",
      "lateral                           23\n",
      "handoff                           23\n",
      "Name: event, dtype: int64\n"
     ]
    }
   ],
   "source": [
    "for col in df.columns:\n",
    "    \n",
    "    print(f'{col}-{df[col].value_counts()}')"
   ]
  },
  {
   "cell_type": "code",
   "execution_count": 23,
   "id": "6cd71fea",
   "metadata": {},
   "outputs": [],
   "source": [
    "dfopti = df.copy()"
   ]
  },
  {
   "cell_type": "code",
   "execution_count": 24,
   "id": "a94c290b",
   "metadata": {},
   "outputs": [
    {
     "data": {
      "text/plain": [
       "gameId             int64\n",
       "playId             int64\n",
       "nflId            float64\n",
       "frameId            int64\n",
       "time              object\n",
       "jerseyNumber     float64\n",
       "team              object\n",
       "playDirection     object\n",
       "x                float64\n",
       "y                float64\n",
       "s                float64\n",
       "a                float64\n",
       "dis              float64\n",
       "o                float64\n",
       "dir              float64\n",
       "event             object\n",
       "dtype: object"
      ]
     },
     "execution_count": 24,
     "metadata": {},
     "output_type": "execute_result"
    }
   ],
   "source": [
    "dfopti.dtypes"
   ]
  },
  {
   "cell_type": "code",
   "execution_count": null,
   "id": "fc9f1886",
   "metadata": {},
   "outputs": [],
   "source": []
  },
  {
   "cell_type": "code",
   "execution_count": 25,
   "id": "1fdc3ecc",
   "metadata": {},
   "outputs": [],
   "source": [
    "dfopti['time'] = dfopti['time'].astype('datetime64')"
   ]
  },
  {
   "cell_type": "code",
   "execution_count": null,
   "id": "17561358",
   "metadata": {},
   "outputs": [],
   "source": []
  },
  {
   "cell_type": "code",
   "execution_count": 26,
   "id": "a6531b0d",
   "metadata": {},
   "outputs": [
    {
     "data": {
      "text/plain": [
       "gameId                    int64\n",
       "playId                    int64\n",
       "nflId                   float64\n",
       "frameId                   int64\n",
       "time             datetime64[ns]\n",
       "jerseyNumber            float64\n",
       "team                     object\n",
       "playDirection            object\n",
       "x                       float64\n",
       "y                       float64\n",
       "s                       float64\n",
       "a                       float64\n",
       "dis                     float64\n",
       "o                       float64\n",
       "dir                     float64\n",
       "event                    object\n",
       "dtype: object"
      ]
     },
     "execution_count": 26,
     "metadata": {},
     "output_type": "execute_result"
    }
   ],
   "source": [
    "dfopti.dtypes"
   ]
  },
  {
   "cell_type": "code",
   "execution_count": 27,
   "id": "ef10923e",
   "metadata": {},
   "outputs": [],
   "source": [
    "for col in dfopti.columns:\n",
    "        if dfopti[col].dtype == 'object':\n",
    "            dfopti[col] = dfopti[col].astype('category')"
   ]
  },
  {
   "cell_type": "code",
   "execution_count": null,
   "id": "b08fac68",
   "metadata": {},
   "outputs": [],
   "source": []
  },
  {
   "cell_type": "code",
   "execution_count": 28,
   "id": "326e779f",
   "metadata": {
    "scrolled": true
   },
   "outputs": [
    {
     "data": {
      "text/plain": [
       "gameId                    int64\n",
       "playId                    int64\n",
       "nflId                   float64\n",
       "frameId                   int64\n",
       "time             datetime64[ns]\n",
       "jerseyNumber            float64\n",
       "team                   category\n",
       "playDirection          category\n",
       "x                       float64\n",
       "y                       float64\n",
       "s                       float64\n",
       "a                       float64\n",
       "dis                     float64\n",
       "o                       float64\n",
       "dir                     float64\n",
       "event                  category\n",
       "dtype: object"
      ]
     },
     "execution_count": 28,
     "metadata": {},
     "output_type": "execute_result"
    }
   ],
   "source": [
    "dfopti.dtypes"
   ]
  },
  {
   "cell_type": "code",
   "execution_count": 29,
   "id": "3a13ea76",
   "metadata": {
    "scrolled": true
   },
   "outputs": [
    {
     "name": "stdout",
     "output_type": "stream",
     "text": [
      "<class 'pandas.core.frame.DataFrame'>\n",
      "RangeIndex: 1118122 entries, 0 to 1118121\n",
      "Data columns (total 16 columns):\n",
      " #   Column         Non-Null Count    Dtype         \n",
      "---  ------         --------------    -----         \n",
      " 0   gameId         1118122 non-null  int64         \n",
      " 1   playId         1118122 non-null  int64         \n",
      " 2   nflId          1069508 non-null  float64       \n",
      " 3   frameId        1118122 non-null  int64         \n",
      " 4   time           1118122 non-null  datetime64[ns]\n",
      " 5   jerseyNumber   1069508 non-null  float64       \n",
      " 6   team           1118122 non-null  category      \n",
      " 7   playDirection  1118122 non-null  category      \n",
      " 8   x              1118122 non-null  float64       \n",
      " 9   y              1118122 non-null  float64       \n",
      " 10  s              1118122 non-null  float64       \n",
      " 11  a              1118122 non-null  float64       \n",
      " 12  dis            1118122 non-null  float64       \n",
      " 13  o              1069508 non-null  float64       \n",
      " 14  dir            1069508 non-null  float64       \n",
      " 15  event          1118122 non-null  category      \n",
      "dtypes: category(3), datetime64[ns](1), float64(9), int64(3)\n",
      "memory usage: 114.1 MB\n"
     ]
    }
   ],
   "source": [
    "dfopti.info()"
   ]
  },
  {
   "cell_type": "code",
   "execution_count": 30,
   "id": "7941e39e",
   "metadata": {},
   "outputs": [
    {
     "name": "stdout",
     "output_type": "stream",
     "text": [
      "<class 'pandas.core.frame.DataFrame'>\n",
      "RangeIndex: 1118122 entries, 0 to 1118121\n",
      "Data columns (total 16 columns):\n",
      " #   Column         Non-Null Count    Dtype  \n",
      "---  ------         --------------    -----  \n",
      " 0   gameId         1118122 non-null  int64  \n",
      " 1   playId         1118122 non-null  int64  \n",
      " 2   nflId          1069508 non-null  float64\n",
      " 3   frameId        1118122 non-null  int64  \n",
      " 4   time           1118122 non-null  object \n",
      " 5   jerseyNumber   1069508 non-null  float64\n",
      " 6   team           1118122 non-null  object \n",
      " 7   playDirection  1118122 non-null  object \n",
      " 8   x              1118122 non-null  float64\n",
      " 9   y              1118122 non-null  float64\n",
      " 10  s              1118122 non-null  float64\n",
      " 11  a              1118122 non-null  float64\n",
      " 12  dis            1118122 non-null  float64\n",
      " 13  o              1069508 non-null  float64\n",
      " 14  dir            1069508 non-null  float64\n",
      " 15  event          1118122 non-null  object \n",
      "dtypes: float64(9), int64(3), object(4)\n",
      "memory usage: 136.5+ MB\n"
     ]
    }
   ],
   "source": [
    "df.info()"
   ]
  },
  {
   "cell_type": "code",
   "execution_count": 31,
   "id": "f9b12a80",
   "metadata": {},
   "outputs": [],
   "source": [
    "dfdty = df.copy()"
   ]
  },
  {
   "cell_type": "code",
   "execution_count": 35,
   "id": "0c550ea3",
   "metadata": {},
   "outputs": [
    {
     "data": {
      "text/plain": [
       "gameId             int64\n",
       "playId             int64\n",
       "nflId            float64\n",
       "frameId            int64\n",
       "time              object\n",
       "jerseyNumber     float64\n",
       "team              object\n",
       "playDirection     object\n",
       "x                float64\n",
       "y                float64\n",
       "s                float64\n",
       "a                float64\n",
       "dis              float64\n",
       "o                float64\n",
       "dir              float64\n",
       "event             object\n",
       "dtype: object"
      ]
     },
     "execution_count": 35,
     "metadata": {},
     "output_type": "execute_result"
    }
   ],
   "source": [
    "dfdty.dtypes"
   ]
  },
  {
   "cell_type": "code",
   "execution_count": 42,
   "id": "d1e70c03",
   "metadata": {},
   "outputs": [],
   "source": [
    "dfz = df.copy()"
   ]
  },
  {
   "cell_type": "code",
   "execution_count": 49,
   "id": "9db16bef",
   "metadata": {},
   "outputs": [],
   "source": [
    "for col in dfz.columns:\n",
    "    \n",
    "    if col == 'time':\n",
    "        dfz[col] = dfz[col].astype('datetime64')\n",
    "    if dfz[col].dtype == 'object':\n",
    "        dfz[col] = dfz[col].astype('category')"
   ]
  },
  {
   "cell_type": "code",
   "execution_count": 52,
   "id": "283ee145",
   "metadata": {},
   "outputs": [],
   "source": [
    "dfz1 = df.copy()"
   ]
  },
  {
   "cell_type": "code",
   "execution_count": 53,
   "id": "736d78b1",
   "metadata": {},
   "outputs": [],
   "source": [
    "for col in dfz1.columns:\n",
    "    if col == 'time':\n",
    "        dfz1[col] = dfz1[col].astype('datetime64')\n",
    "    if dfz1[col].dtype == 'object':\n",
    "        dfz1[col] = dfz1[col].astype('category')"
   ]
  },
  {
   "cell_type": "code",
   "execution_count": 55,
   "id": "9a557d43",
   "metadata": {},
   "outputs": [],
   "source": [
    "dfz2 = df.copy()"
   ]
  },
  {
   "cell_type": "code",
   "execution_count": 56,
   "id": "183dd803",
   "metadata": {},
   "outputs": [],
   "source": [
    "for col in dfz2.columns:\n",
    "    if col == 'time':\n",
    "        dfz2[col] = dfz2[col].astype('datetime64')\n",
    "    if dfz2[col].dtype == 'object':\n",
    "        dfz2[col] = dfz2[col].astype('category')"
   ]
  },
  {
   "cell_type": "code",
   "execution_count": null,
   "id": "d9b81e6c",
   "metadata": {},
   "outputs": [],
   "source": []
  },
  {
   "cell_type": "code",
   "execution_count": 57,
   "id": "7c5f640e",
   "metadata": {},
   "outputs": [
    {
     "data": {
      "text/plain": [
       "gameId                    int64\n",
       "playId                    int64\n",
       "nflId                   float64\n",
       "frameId                   int64\n",
       "time             datetime64[ns]\n",
       "jerseyNumber            float64\n",
       "team                   category\n",
       "playDirection          category\n",
       "x                       float64\n",
       "y                       float64\n",
       "s                       float64\n",
       "a                       float64\n",
       "dis                     float64\n",
       "o                       float64\n",
       "dir                     float64\n",
       "event                  category\n",
       "dtype: object"
      ]
     },
     "execution_count": 57,
     "metadata": {},
     "output_type": "execute_result"
    }
   ],
   "source": [
    "dfz2.dtypes"
   ]
  },
  {
   "cell_type": "code",
   "execution_count": 51,
   "id": "7014d55e",
   "metadata": {},
   "outputs": [
    {
     "name": "stdout",
     "output_type": "stream",
     "text": [
      "gameId\n",
      "playId\n",
      "nflId\n",
      "frameId\n",
      "time\n",
      "jerseyNumber\n",
      "team\n",
      "playDirection\n",
      "x\n",
      "y\n",
      "s\n",
      "a\n",
      "dis\n",
      "o\n",
      "dir\n",
      "event\n"
     ]
    }
   ],
   "source": [
    "for col in dfz.columns:\n",
    "    print(col)"
   ]
  },
  {
   "cell_type": "code",
   "execution_count": 50,
   "id": "559a4b2b",
   "metadata": {},
   "outputs": [
    {
     "data": {
      "text/plain": [
       "gameId              int64\n",
       "playId              int64\n",
       "nflId             float64\n",
       "frameId             int64\n",
       "time             category\n",
       "jerseyNumber      float64\n",
       "team             category\n",
       "playDirection    category\n",
       "x                 float64\n",
       "y                 float64\n",
       "s                 float64\n",
       "a                 float64\n",
       "dis               float64\n",
       "o                 float64\n",
       "dir               float64\n",
       "event            category\n",
       "dtype: object"
      ]
     },
     "execution_count": 50,
     "metadata": {},
     "output_type": "execute_result"
    }
   ],
   "source": [
    "dfz.dtypes"
   ]
  },
  {
   "cell_type": "code",
   "execution_count": 40,
   "id": "378337cd",
   "metadata": {},
   "outputs": [
    {
     "data": {
      "text/plain": [
       "gameId              int64\n",
       "playId              int64\n",
       "nflId             float64\n",
       "frameId             int64\n",
       "time             category\n",
       "jerseyNumber      float64\n",
       "team             category\n",
       "playDirection    category\n",
       "x                 float64\n",
       "y                 float64\n",
       "s                 float64\n",
       "a                 float64\n",
       "dis               float64\n",
       "o                 float64\n",
       "dir               float64\n",
       "event            category\n",
       "dtype: object"
      ]
     },
     "execution_count": 40,
     "metadata": {},
     "output_type": "execute_result"
    }
   ],
   "source": [
    "dfdty.dtypes"
   ]
  },
  {
   "cell_type": "code",
   "execution_count": 33,
   "id": "7279d6af",
   "metadata": {},
   "outputs": [],
   "source": [
    "dfttt = dfopti.copy()"
   ]
  },
  {
   "cell_type": "code",
   "execution_count": 34,
   "id": "5c64ffba",
   "metadata": {},
   "outputs": [
    {
     "ename": "ValueError",
     "evalue": "Unable to parse string \"TB\" at position 0",
     "output_type": "error",
     "traceback": [
      "\u001b[1;31m---------------------------------------------------------------------------\u001b[0m",
      "\u001b[1;31mValueError\u001b[0m                                Traceback (most recent call last)",
      "File \u001b[1;32m~\\Anaconda3\\lib\\site-packages\\pandas\\_libs\\lib.pyx:2315\u001b[0m, in \u001b[0;36mpandas._libs.lib.maybe_convert_numeric\u001b[1;34m()\u001b[0m\n",
      "\u001b[1;31mValueError\u001b[0m: Unable to parse string \"TB\"",
      "\nDuring handling of the above exception, another exception occurred:\n",
      "\u001b[1;31mValueError\u001b[0m                                Traceback (most recent call last)",
      "Input \u001b[1;32mIn [34]\u001b[0m, in \u001b[0;36m<cell line: 1>\u001b[1;34m()\u001b[0m\n\u001b[1;32m----> 1\u001b[0m dfttt \u001b[38;5;241m=\u001b[39m \u001b[43mdfttt\u001b[49m\u001b[38;5;241;43m.\u001b[39;49m\u001b[43mapply\u001b[49m\u001b[43m(\u001b[49m\u001b[43mpd\u001b[49m\u001b[38;5;241;43m.\u001b[39;49m\u001b[43mto_numeric\u001b[49m\u001b[43m)\u001b[49m\n",
      "File \u001b[1;32m~\\Anaconda3\\lib\\site-packages\\pandas\\core\\frame.py:8839\u001b[0m, in \u001b[0;36mDataFrame.apply\u001b[1;34m(self, func, axis, raw, result_type, args, **kwargs)\u001b[0m\n\u001b[0;32m   8828\u001b[0m \u001b[38;5;28;01mfrom\u001b[39;00m \u001b[38;5;21;01mpandas\u001b[39;00m\u001b[38;5;21;01m.\u001b[39;00m\u001b[38;5;21;01mcore\u001b[39;00m\u001b[38;5;21;01m.\u001b[39;00m\u001b[38;5;21;01mapply\u001b[39;00m \u001b[38;5;28;01mimport\u001b[39;00m frame_apply\n\u001b[0;32m   8830\u001b[0m op \u001b[38;5;241m=\u001b[39m frame_apply(\n\u001b[0;32m   8831\u001b[0m     \u001b[38;5;28mself\u001b[39m,\n\u001b[0;32m   8832\u001b[0m     func\u001b[38;5;241m=\u001b[39mfunc,\n\u001b[1;32m   (...)\u001b[0m\n\u001b[0;32m   8837\u001b[0m     kwargs\u001b[38;5;241m=\u001b[39mkwargs,\n\u001b[0;32m   8838\u001b[0m )\n\u001b[1;32m-> 8839\u001b[0m \u001b[38;5;28;01mreturn\u001b[39;00m \u001b[43mop\u001b[49m\u001b[38;5;241;43m.\u001b[39;49m\u001b[43mapply\u001b[49m\u001b[43m(\u001b[49m\u001b[43m)\u001b[49m\u001b[38;5;241m.\u001b[39m__finalize__(\u001b[38;5;28mself\u001b[39m, method\u001b[38;5;241m=\u001b[39m\u001b[38;5;124m\"\u001b[39m\u001b[38;5;124mapply\u001b[39m\u001b[38;5;124m\"\u001b[39m)\n",
      "File \u001b[1;32m~\\Anaconda3\\lib\\site-packages\\pandas\\core\\apply.py:727\u001b[0m, in \u001b[0;36mFrameApply.apply\u001b[1;34m(self)\u001b[0m\n\u001b[0;32m    724\u001b[0m \u001b[38;5;28;01melif\u001b[39;00m \u001b[38;5;28mself\u001b[39m\u001b[38;5;241m.\u001b[39mraw:\n\u001b[0;32m    725\u001b[0m     \u001b[38;5;28;01mreturn\u001b[39;00m \u001b[38;5;28mself\u001b[39m\u001b[38;5;241m.\u001b[39mapply_raw()\n\u001b[1;32m--> 727\u001b[0m \u001b[38;5;28;01mreturn\u001b[39;00m \u001b[38;5;28;43mself\u001b[39;49m\u001b[38;5;241;43m.\u001b[39;49m\u001b[43mapply_standard\u001b[49m\u001b[43m(\u001b[49m\u001b[43m)\u001b[49m\n",
      "File \u001b[1;32m~\\Anaconda3\\lib\\site-packages\\pandas\\core\\apply.py:851\u001b[0m, in \u001b[0;36mFrameApply.apply_standard\u001b[1;34m(self)\u001b[0m\n\u001b[0;32m    850\u001b[0m \u001b[38;5;28;01mdef\u001b[39;00m \u001b[38;5;21mapply_standard\u001b[39m(\u001b[38;5;28mself\u001b[39m):\n\u001b[1;32m--> 851\u001b[0m     results, res_index \u001b[38;5;241m=\u001b[39m \u001b[38;5;28;43mself\u001b[39;49m\u001b[38;5;241;43m.\u001b[39;49m\u001b[43mapply_series_generator\u001b[49m\u001b[43m(\u001b[49m\u001b[43m)\u001b[49m\n\u001b[0;32m    853\u001b[0m     \u001b[38;5;66;03m# wrap results\u001b[39;00m\n\u001b[0;32m    854\u001b[0m     \u001b[38;5;28;01mreturn\u001b[39;00m \u001b[38;5;28mself\u001b[39m\u001b[38;5;241m.\u001b[39mwrap_results(results, res_index)\n",
      "File \u001b[1;32m~\\Anaconda3\\lib\\site-packages\\pandas\\core\\apply.py:867\u001b[0m, in \u001b[0;36mFrameApply.apply_series_generator\u001b[1;34m(self)\u001b[0m\n\u001b[0;32m    864\u001b[0m \u001b[38;5;28;01mwith\u001b[39;00m option_context(\u001b[38;5;124m\"\u001b[39m\u001b[38;5;124mmode.chained_assignment\u001b[39m\u001b[38;5;124m\"\u001b[39m, \u001b[38;5;28;01mNone\u001b[39;00m):\n\u001b[0;32m    865\u001b[0m     \u001b[38;5;28;01mfor\u001b[39;00m i, v \u001b[38;5;129;01min\u001b[39;00m \u001b[38;5;28menumerate\u001b[39m(series_gen):\n\u001b[0;32m    866\u001b[0m         \u001b[38;5;66;03m# ignore SettingWithCopy here in case the user mutates\u001b[39;00m\n\u001b[1;32m--> 867\u001b[0m         results[i] \u001b[38;5;241m=\u001b[39m \u001b[38;5;28;43mself\u001b[39;49m\u001b[38;5;241;43m.\u001b[39;49m\u001b[43mf\u001b[49m\u001b[43m(\u001b[49m\u001b[43mv\u001b[49m\u001b[43m)\u001b[49m\n\u001b[0;32m    868\u001b[0m         \u001b[38;5;28;01mif\u001b[39;00m \u001b[38;5;28misinstance\u001b[39m(results[i], ABCSeries):\n\u001b[0;32m    869\u001b[0m             \u001b[38;5;66;03m# If we have a view on v, we need to make a copy because\u001b[39;00m\n\u001b[0;32m    870\u001b[0m             \u001b[38;5;66;03m#  series_generator will swap out the underlying data\u001b[39;00m\n\u001b[0;32m    871\u001b[0m             results[i] \u001b[38;5;241m=\u001b[39m results[i]\u001b[38;5;241m.\u001b[39mcopy(deep\u001b[38;5;241m=\u001b[39m\u001b[38;5;28;01mFalse\u001b[39;00m)\n",
      "File \u001b[1;32m~\\Anaconda3\\lib\\site-packages\\pandas\\core\\tools\\numeric.py:184\u001b[0m, in \u001b[0;36mto_numeric\u001b[1;34m(arg, errors, downcast)\u001b[0m\n\u001b[0;32m    182\u001b[0m coerce_numeric \u001b[38;5;241m=\u001b[39m errors \u001b[38;5;129;01mnot\u001b[39;00m \u001b[38;5;129;01min\u001b[39;00m (\u001b[38;5;124m\"\u001b[39m\u001b[38;5;124mignore\u001b[39m\u001b[38;5;124m\"\u001b[39m, \u001b[38;5;124m\"\u001b[39m\u001b[38;5;124mraise\u001b[39m\u001b[38;5;124m\"\u001b[39m)\n\u001b[0;32m    183\u001b[0m \u001b[38;5;28;01mtry\u001b[39;00m:\n\u001b[1;32m--> 184\u001b[0m     values, _ \u001b[38;5;241m=\u001b[39m \u001b[43mlib\u001b[49m\u001b[38;5;241;43m.\u001b[39;49m\u001b[43mmaybe_convert_numeric\u001b[49m\u001b[43m(\u001b[49m\n\u001b[0;32m    185\u001b[0m \u001b[43m        \u001b[49m\u001b[43mvalues\u001b[49m\u001b[43m,\u001b[49m\u001b[43m \u001b[49m\u001b[38;5;28;43mset\u001b[39;49m\u001b[43m(\u001b[49m\u001b[43m)\u001b[49m\u001b[43m,\u001b[49m\u001b[43m \u001b[49m\u001b[43mcoerce_numeric\u001b[49m\u001b[38;5;241;43m=\u001b[39;49m\u001b[43mcoerce_numeric\u001b[49m\n\u001b[0;32m    186\u001b[0m \u001b[43m    \u001b[49m\u001b[43m)\u001b[49m\n\u001b[0;32m    187\u001b[0m \u001b[38;5;28;01mexcept\u001b[39;00m (\u001b[38;5;167;01mValueError\u001b[39;00m, \u001b[38;5;167;01mTypeError\u001b[39;00m):\n\u001b[0;32m    188\u001b[0m     \u001b[38;5;28;01mif\u001b[39;00m errors \u001b[38;5;241m==\u001b[39m \u001b[38;5;124m\"\u001b[39m\u001b[38;5;124mraise\u001b[39m\u001b[38;5;124m\"\u001b[39m:\n",
      "File \u001b[1;32m~\\Anaconda3\\lib\\site-packages\\pandas\\_libs\\lib.pyx:2357\u001b[0m, in \u001b[0;36mpandas._libs.lib.maybe_convert_numeric\u001b[1;34m()\u001b[0m\n",
      "\u001b[1;31mValueError\u001b[0m: Unable to parse string \"TB\" at position 0"
     ]
    }
   ],
   "source": [
    "dfttt = dfttt.apply(pd.to_numeric)"
   ]
  }
 ],
 "metadata": {
  "kernelspec": {
   "display_name": "Python 3 (ipykernel)",
   "language": "python",
   "name": "python3"
  },
  "language_info": {
   "codemirror_mode": {
    "name": "ipython",
    "version": 3
   },
   "file_extension": ".py",
   "mimetype": "text/x-python",
   "name": "python",
   "nbconvert_exporter": "python",
   "pygments_lexer": "ipython3",
   "version": "3.9.12"
  }
 },
 "nbformat": 4,
 "nbformat_minor": 5
}
