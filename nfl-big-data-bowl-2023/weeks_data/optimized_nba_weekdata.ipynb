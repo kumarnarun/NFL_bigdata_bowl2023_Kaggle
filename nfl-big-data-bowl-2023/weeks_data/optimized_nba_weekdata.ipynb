{
 "cells": [
  {
   "cell_type": "code",
   "execution_count": 2,
   "id": "da8a0ebf",
   "metadata": {},
   "outputs": [],
   "source": [
    "import pandas as pd\n",
    "import numpy as np\n",
    "import matplotlib.pyplot as plt\n",
    "import seaborn as sns"
   ]
  },
  {
   "cell_type": "code",
   "execution_count": 3,
   "id": "1fe2b3b6",
   "metadata": {},
   "outputs": [
    {
     "data": {
      "text/html": [
       "<div>\n",
       "<style scoped>\n",
       "    .dataframe tbody tr th:only-of-type {\n",
       "        vertical-align: middle;\n",
       "    }\n",
       "\n",
       "    .dataframe tbody tr th {\n",
       "        vertical-align: top;\n",
       "    }\n",
       "\n",
       "    .dataframe thead th {\n",
       "        text-align: right;\n",
       "    }\n",
       "</style>\n",
       "<table border=\"1\" class=\"dataframe\">\n",
       "  <thead>\n",
       "    <tr style=\"text-align: right;\">\n",
       "      <th></th>\n",
       "      <th>gameId</th>\n",
       "      <th>playId</th>\n",
       "      <th>nflId</th>\n",
       "      <th>frameId</th>\n",
       "      <th>time</th>\n",
       "      <th>jerseyNumber</th>\n",
       "      <th>team</th>\n",
       "      <th>playDirection</th>\n",
       "      <th>x</th>\n",
       "      <th>y</th>\n",
       "      <th>s</th>\n",
       "      <th>a</th>\n",
       "      <th>dis</th>\n",
       "      <th>o</th>\n",
       "      <th>dir</th>\n",
       "      <th>event</th>\n",
       "    </tr>\n",
       "  </thead>\n",
       "  <tbody>\n",
       "    <tr>\n",
       "      <th>0</th>\n",
       "      <td>2021090900</td>\n",
       "      <td>97</td>\n",
       "      <td>25511.0</td>\n",
       "      <td>1</td>\n",
       "      <td>2021-09-10 00:26:31.100</td>\n",
       "      <td>12.0</td>\n",
       "      <td>TB</td>\n",
       "      <td>right</td>\n",
       "      <td>37.77</td>\n",
       "      <td>24.22</td>\n",
       "      <td>0.29</td>\n",
       "      <td>0.30</td>\n",
       "      <td>0.03</td>\n",
       "      <td>165.16</td>\n",
       "      <td>84.99</td>\n",
       "      <td>None</td>\n",
       "    </tr>\n",
       "    <tr>\n",
       "      <th>1</th>\n",
       "      <td>2021090900</td>\n",
       "      <td>97</td>\n",
       "      <td>25511.0</td>\n",
       "      <td>2</td>\n",
       "      <td>2021-09-10 00:26:31.200</td>\n",
       "      <td>12.0</td>\n",
       "      <td>TB</td>\n",
       "      <td>right</td>\n",
       "      <td>37.78</td>\n",
       "      <td>24.22</td>\n",
       "      <td>0.23</td>\n",
       "      <td>0.11</td>\n",
       "      <td>0.02</td>\n",
       "      <td>164.33</td>\n",
       "      <td>92.87</td>\n",
       "      <td>None</td>\n",
       "    </tr>\n",
       "    <tr>\n",
       "      <th>2</th>\n",
       "      <td>2021090900</td>\n",
       "      <td>97</td>\n",
       "      <td>25511.0</td>\n",
       "      <td>3</td>\n",
       "      <td>2021-09-10 00:26:31.300</td>\n",
       "      <td>12.0</td>\n",
       "      <td>TB</td>\n",
       "      <td>right</td>\n",
       "      <td>37.78</td>\n",
       "      <td>24.24</td>\n",
       "      <td>0.16</td>\n",
       "      <td>0.10</td>\n",
       "      <td>0.01</td>\n",
       "      <td>160.24</td>\n",
       "      <td>68.55</td>\n",
       "      <td>None</td>\n",
       "    </tr>\n",
       "    <tr>\n",
       "      <th>3</th>\n",
       "      <td>2021090900</td>\n",
       "      <td>97</td>\n",
       "      <td>25511.0</td>\n",
       "      <td>4</td>\n",
       "      <td>2021-09-10 00:26:31.400</td>\n",
       "      <td>12.0</td>\n",
       "      <td>TB</td>\n",
       "      <td>right</td>\n",
       "      <td>37.73</td>\n",
       "      <td>24.25</td>\n",
       "      <td>0.15</td>\n",
       "      <td>0.24</td>\n",
       "      <td>0.06</td>\n",
       "      <td>152.13</td>\n",
       "      <td>296.85</td>\n",
       "      <td>None</td>\n",
       "    </tr>\n",
       "    <tr>\n",
       "      <th>4</th>\n",
       "      <td>2021090900</td>\n",
       "      <td>97</td>\n",
       "      <td>25511.0</td>\n",
       "      <td>5</td>\n",
       "      <td>2021-09-10 00:26:31.500</td>\n",
       "      <td>12.0</td>\n",
       "      <td>TB</td>\n",
       "      <td>right</td>\n",
       "      <td>37.69</td>\n",
       "      <td>24.26</td>\n",
       "      <td>0.25</td>\n",
       "      <td>0.18</td>\n",
       "      <td>0.04</td>\n",
       "      <td>148.33</td>\n",
       "      <td>287.55</td>\n",
       "      <td>None</td>\n",
       "    </tr>\n",
       "  </tbody>\n",
       "</table>\n",
       "</div>"
      ],
      "text/plain": [
       "       gameId  playId    nflId  frameId                    time  jerseyNumber  \\\n",
       "0  2021090900      97  25511.0        1 2021-09-10 00:26:31.100          12.0   \n",
       "1  2021090900      97  25511.0        2 2021-09-10 00:26:31.200          12.0   \n",
       "2  2021090900      97  25511.0        3 2021-09-10 00:26:31.300          12.0   \n",
       "3  2021090900      97  25511.0        4 2021-09-10 00:26:31.400          12.0   \n",
       "4  2021090900      97  25511.0        5 2021-09-10 00:26:31.500          12.0   \n",
       "\n",
       "  team playDirection      x      y     s     a   dis       o     dir event  \n",
       "0   TB         right  37.77  24.22  0.29  0.30  0.03  165.16   84.99  None  \n",
       "1   TB         right  37.78  24.22  0.23  0.11  0.02  164.33   92.87  None  \n",
       "2   TB         right  37.78  24.24  0.16  0.10  0.01  160.24   68.55  None  \n",
       "3   TB         right  37.73  24.25  0.15  0.24  0.06  152.13  296.85  None  \n",
       "4   TB         right  37.69  24.26  0.25  0.18  0.04  148.33  287.55  None  "
      ]
     },
     "execution_count": 3,
     "metadata": {},
     "output_type": "execute_result"
    }
   ],
   "source": [
    "df = pd.read_feather('optimised_nba.feather')\n",
    "df.head()"
   ]
  },
  {
   "cell_type": "code",
   "execution_count": 4,
   "id": "45f854da",
   "metadata": {},
   "outputs": [
    {
     "data": {
      "text/plain": [
       "(8314178, 16)"
      ]
     },
     "execution_count": 4,
     "metadata": {},
     "output_type": "execute_result"
    }
   ],
   "source": [
    "df.shape"
   ]
  },
  {
   "cell_type": "code",
   "execution_count": 6,
   "id": "8bbaf193",
   "metadata": {},
   "outputs": [
    {
     "data": {
      "text/plain": [
       "gameId              122\n",
       "playId             3762\n",
       "nflId              1679\n",
       "frameId             203\n",
       "time             339484\n",
       "jerseyNumber         99\n",
       "team                 33\n",
       "playDirection         2\n",
       "x                 12069\n",
       "y                  5741\n",
       "s                  2734\n",
       "a                  2209\n",
       "dis                 667\n",
       "o                 36001\n",
       "dir               36001\n",
       "event                27\n",
       "dtype: int64"
      ]
     },
     "execution_count": 6,
     "metadata": {},
     "output_type": "execute_result"
    }
   ],
   "source": [
    "df.nunique()"
   ]
  },
  {
   "cell_type": "code",
   "execution_count": 7,
   "id": "be9e2628",
   "metadata": {},
   "outputs": [
    {
     "data": {
      "text/plain": [
       "gameId                    int64\n",
       "playId                    int64\n",
       "nflId                   float64\n",
       "frameId                   int64\n",
       "time             datetime64[ns]\n",
       "jerseyNumber            float64\n",
       "team                     object\n",
       "playDirection          category\n",
       "x                       float64\n",
       "y                       float64\n",
       "s                       float64\n",
       "a                       float64\n",
       "dis                     float64\n",
       "o                       float64\n",
       "dir                     float64\n",
       "event                    object\n",
       "dtype: object"
      ]
     },
     "execution_count": 7,
     "metadata": {},
     "output_type": "execute_result"
    }
   ],
   "source": [
    "df.dtypes"
   ]
  },
  {
   "cell_type": "code",
   "execution_count": 8,
   "id": "d234c89a",
   "metadata": {},
   "outputs": [
    {
     "data": {
      "text/plain": [
       "gameId           0.000000\n",
       "playId           0.000000\n",
       "nflId            4.347826\n",
       "frameId          0.000000\n",
       "time             0.000000\n",
       "jerseyNumber     4.347826\n",
       "team             0.000000\n",
       "playDirection    0.000000\n",
       "x                0.000000\n",
       "y                0.000000\n",
       "s                0.000000\n",
       "a                0.000000\n",
       "dis              0.000000\n",
       "o                4.347826\n",
       "dir              4.347826\n",
       "event            0.000000\n",
       "dtype: float64"
      ]
     },
     "execution_count": 8,
     "metadata": {},
     "output_type": "execute_result"
    }
   ],
   "source": [
    "df. isnull(). sum() * 100 / len(df)"
   ]
  },
  {
   "cell_type": "code",
   "execution_count": 9,
   "id": "9e4a43a6",
   "metadata": {},
   "outputs": [
    {
     "data": {
      "text/plain": [
       "gameId           0.000000\n",
       "playId           0.000000\n",
       "nflId            4.347826\n",
       "frameId          0.000000\n",
       "time             0.000000\n",
       "jerseyNumber     4.347826\n",
       "team             0.000000\n",
       "playDirection    0.000000\n",
       "x                0.000000\n",
       "y                0.000000\n",
       "s                0.000000\n",
       "a                0.000000\n",
       "dis              0.000000\n",
       "o                4.347826\n",
       "dir              4.347826\n",
       "event            0.000000\n",
       "dtype: float64"
      ]
     },
     "execution_count": 9,
     "metadata": {},
     "output_type": "execute_result"
    }
   ],
   "source": [
    "percent_missing = df.isnull().sum() * 100 / len(df)\n",
    "missing_value_df = pd.DataFrame({'column_name': df.columns,\n",
    "                                 'percent_missing': percent_missing})\n",
    "percent_missing"
   ]
  },
  {
   "cell_type": "code",
   "execution_count": 10,
   "id": "f8f36ce1",
   "metadata": {},
   "outputs": [
    {
     "data": {
      "text/html": [
       "<div>\n",
       "<style scoped>\n",
       "    .dataframe tbody tr th:only-of-type {\n",
       "        vertical-align: middle;\n",
       "    }\n",
       "\n",
       "    .dataframe tbody tr th {\n",
       "        vertical-align: top;\n",
       "    }\n",
       "\n",
       "    .dataframe thead th {\n",
       "        text-align: right;\n",
       "    }\n",
       "</style>\n",
       "<table border=\"1\" class=\"dataframe\">\n",
       "  <thead>\n",
       "    <tr style=\"text-align: right;\">\n",
       "      <th></th>\n",
       "      <th>column_name</th>\n",
       "      <th>percent_missing</th>\n",
       "    </tr>\n",
       "  </thead>\n",
       "  <tbody>\n",
       "    <tr>\n",
       "      <th>gameId</th>\n",
       "      <td>gameId</td>\n",
       "      <td>0.000000</td>\n",
       "    </tr>\n",
       "    <tr>\n",
       "      <th>playId</th>\n",
       "      <td>playId</td>\n",
       "      <td>0.000000</td>\n",
       "    </tr>\n",
       "    <tr>\n",
       "      <th>nflId</th>\n",
       "      <td>nflId</td>\n",
       "      <td>4.347826</td>\n",
       "    </tr>\n",
       "    <tr>\n",
       "      <th>frameId</th>\n",
       "      <td>frameId</td>\n",
       "      <td>0.000000</td>\n",
       "    </tr>\n",
       "    <tr>\n",
       "      <th>time</th>\n",
       "      <td>time</td>\n",
       "      <td>0.000000</td>\n",
       "    </tr>\n",
       "    <tr>\n",
       "      <th>jerseyNumber</th>\n",
       "      <td>jerseyNumber</td>\n",
       "      <td>4.347826</td>\n",
       "    </tr>\n",
       "    <tr>\n",
       "      <th>team</th>\n",
       "      <td>team</td>\n",
       "      <td>0.000000</td>\n",
       "    </tr>\n",
       "    <tr>\n",
       "      <th>playDirection</th>\n",
       "      <td>playDirection</td>\n",
       "      <td>0.000000</td>\n",
       "    </tr>\n",
       "    <tr>\n",
       "      <th>x</th>\n",
       "      <td>x</td>\n",
       "      <td>0.000000</td>\n",
       "    </tr>\n",
       "    <tr>\n",
       "      <th>y</th>\n",
       "      <td>y</td>\n",
       "      <td>0.000000</td>\n",
       "    </tr>\n",
       "    <tr>\n",
       "      <th>s</th>\n",
       "      <td>s</td>\n",
       "      <td>0.000000</td>\n",
       "    </tr>\n",
       "    <tr>\n",
       "      <th>a</th>\n",
       "      <td>a</td>\n",
       "      <td>0.000000</td>\n",
       "    </tr>\n",
       "    <tr>\n",
       "      <th>dis</th>\n",
       "      <td>dis</td>\n",
       "      <td>0.000000</td>\n",
       "    </tr>\n",
       "    <tr>\n",
       "      <th>o</th>\n",
       "      <td>o</td>\n",
       "      <td>4.347826</td>\n",
       "    </tr>\n",
       "    <tr>\n",
       "      <th>dir</th>\n",
       "      <td>dir</td>\n",
       "      <td>4.347826</td>\n",
       "    </tr>\n",
       "    <tr>\n",
       "      <th>event</th>\n",
       "      <td>event</td>\n",
       "      <td>0.000000</td>\n",
       "    </tr>\n",
       "  </tbody>\n",
       "</table>\n",
       "</div>"
      ],
      "text/plain": [
       "                 column_name  percent_missing\n",
       "gameId                gameId         0.000000\n",
       "playId                playId         0.000000\n",
       "nflId                  nflId         4.347826\n",
       "frameId              frameId         0.000000\n",
       "time                    time         0.000000\n",
       "jerseyNumber    jerseyNumber         4.347826\n",
       "team                    team         0.000000\n",
       "playDirection  playDirection         0.000000\n",
       "x                          x         0.000000\n",
       "y                          y         0.000000\n",
       "s                          s         0.000000\n",
       "a                          a         0.000000\n",
       "dis                      dis         0.000000\n",
       "o                          o         4.347826\n",
       "dir                      dir         4.347826\n",
       "event                  event         0.000000"
      ]
     },
     "execution_count": 10,
     "metadata": {},
     "output_type": "execute_result"
    }
   ],
   "source": [
    "missing_value_df"
   ]
  },
  {
   "cell_type": "code",
   "execution_count": 11,
   "id": "fc0c12df",
   "metadata": {},
   "outputs": [
    {
     "data": {
      "text/html": [
       "<div>\n",
       "<style scoped>\n",
       "    .dataframe tbody tr th:only-of-type {\n",
       "        vertical-align: middle;\n",
       "    }\n",
       "\n",
       "    .dataframe tbody tr th {\n",
       "        vertical-align: top;\n",
       "    }\n",
       "\n",
       "    .dataframe thead th {\n",
       "        text-align: right;\n",
       "    }\n",
       "</style>\n",
       "<table border=\"1\" class=\"dataframe\">\n",
       "  <thead>\n",
       "    <tr style=\"text-align: right;\">\n",
       "      <th></th>\n",
       "      <th>gameId</th>\n",
       "      <th>playId</th>\n",
       "      <th>nflId</th>\n",
       "      <th>frameId</th>\n",
       "      <th>time</th>\n",
       "      <th>jerseyNumber</th>\n",
       "      <th>team</th>\n",
       "      <th>playDirection</th>\n",
       "      <th>x</th>\n",
       "      <th>y</th>\n",
       "      <th>s</th>\n",
       "      <th>a</th>\n",
       "      <th>dis</th>\n",
       "      <th>o</th>\n",
       "      <th>dir</th>\n",
       "      <th>event</th>\n",
       "    </tr>\n",
       "  </thead>\n",
       "  <tbody>\n",
       "    <tr>\n",
       "      <th>1840</th>\n",
       "      <td>2021090900</td>\n",
       "      <td>187</td>\n",
       "      <td>35441.0</td>\n",
       "      <td>1</td>\n",
       "      <td>2021-09-10 00:29:15.000</td>\n",
       "      <td>93.0</td>\n",
       "      <td>TB</td>\n",
       "      <td>left</td>\n",
       "      <td>75.23</td>\n",
       "      <td>28.60</td>\n",
       "      <td>0.27</td>\n",
       "      <td>0.54</td>\n",
       "      <td>0.03</td>\n",
       "      <td>131.50</td>\n",
       "      <td>46.10</td>\n",
       "      <td>line_set</td>\n",
       "    </tr>\n",
       "    <tr>\n",
       "      <th>1871</th>\n",
       "      <td>2021090900</td>\n",
       "      <td>187</td>\n",
       "      <td>35454.0</td>\n",
       "      <td>1</td>\n",
       "      <td>2021-09-10 00:29:15.000</td>\n",
       "      <td>90.0</td>\n",
       "      <td>TB</td>\n",
       "      <td>left</td>\n",
       "      <td>76.12</td>\n",
       "      <td>21.19</td>\n",
       "      <td>0.31</td>\n",
       "      <td>0.56</td>\n",
       "      <td>0.04</td>\n",
       "      <td>54.33</td>\n",
       "      <td>15.07</td>\n",
       "      <td>line_set</td>\n",
       "    </tr>\n",
       "    <tr>\n",
       "      <th>1902</th>\n",
       "      <td>2021090900</td>\n",
       "      <td>187</td>\n",
       "      <td>37082.0</td>\n",
       "      <td>1</td>\n",
       "      <td>2021-09-10 00:29:15.000</td>\n",
       "      <td>77.0</td>\n",
       "      <td>DAL</td>\n",
       "      <td>left</td>\n",
       "      <td>78.14</td>\n",
       "      <td>23.29</td>\n",
       "      <td>0.06</td>\n",
       "      <td>0.05</td>\n",
       "      <td>0.02</td>\n",
       "      <td>278.01</td>\n",
       "      <td>130.65</td>\n",
       "      <td>line_set</td>\n",
       "    </tr>\n",
       "    <tr>\n",
       "      <th>1933</th>\n",
       "      <td>2021090900</td>\n",
       "      <td>187</td>\n",
       "      <td>38588.0</td>\n",
       "      <td>1</td>\n",
       "      <td>2021-09-10 00:29:15.000</td>\n",
       "      <td>54.0</td>\n",
       "      <td>TB</td>\n",
       "      <td>left</td>\n",
       "      <td>72.73</td>\n",
       "      <td>25.14</td>\n",
       "      <td>0.34</td>\n",
       "      <td>0.70</td>\n",
       "      <td>0.04</td>\n",
       "      <td>85.72</td>\n",
       "      <td>301.01</td>\n",
       "      <td>line_set</td>\n",
       "    </tr>\n",
       "    <tr>\n",
       "      <th>1964</th>\n",
       "      <td>2021090900</td>\n",
       "      <td>187</td>\n",
       "      <td>41915.0</td>\n",
       "      <td>1</td>\n",
       "      <td>2021-09-10 00:29:15.000</td>\n",
       "      <td>58.0</td>\n",
       "      <td>TB</td>\n",
       "      <td>left</td>\n",
       "      <td>75.15</td>\n",
       "      <td>31.82</td>\n",
       "      <td>0.86</td>\n",
       "      <td>0.70</td>\n",
       "      <td>0.09</td>\n",
       "      <td>132.04</td>\n",
       "      <td>63.76</td>\n",
       "      <td>line_set</td>\n",
       "    </tr>\n",
       "    <tr>\n",
       "      <th>...</th>\n",
       "      <td>...</td>\n",
       "      <td>...</td>\n",
       "      <td>...</td>\n",
       "      <td>...</td>\n",
       "      <td>...</td>\n",
       "      <td>...</td>\n",
       "      <td>...</td>\n",
       "      <td>...</td>\n",
       "      <td>...</td>\n",
       "      <td>...</td>\n",
       "      <td>...</td>\n",
       "      <td>...</td>\n",
       "      <td>...</td>\n",
       "      <td>...</td>\n",
       "      <td>...</td>\n",
       "      <td>...</td>\n",
       "    </tr>\n",
       "    <tr>\n",
       "      <th>8234329</th>\n",
       "      <td>2021103112</td>\n",
       "      <td>4317</td>\n",
       "      <td>53504.0</td>\n",
       "      <td>46</td>\n",
       "      <td>2021-11-01 03:29:21.000</td>\n",
       "      <td>97.0</td>\n",
       "      <td>DAL</td>\n",
       "      <td>left</td>\n",
       "      <td>71.22</td>\n",
       "      <td>24.34</td>\n",
       "      <td>0.02</td>\n",
       "      <td>0.02</td>\n",
       "      <td>0.00</td>\n",
       "      <td>5.66</td>\n",
       "      <td>61.69</td>\n",
       "      <td>line_set</td>\n",
       "    </tr>\n",
       "    <tr>\n",
       "      <th>8234405</th>\n",
       "      <td>2021103112</td>\n",
       "      <td>4317</td>\n",
       "      <td>53586.0</td>\n",
       "      <td>25</td>\n",
       "      <td>2021-11-01 03:29:18.900</td>\n",
       "      <td>15.0</td>\n",
       "      <td>MIN</td>\n",
       "      <td>left</td>\n",
       "      <td>74.17</td>\n",
       "      <td>33.79</td>\n",
       "      <td>0.14</td>\n",
       "      <td>0.04</td>\n",
       "      <td>0.01</td>\n",
       "      <td>281.54</td>\n",
       "      <td>242.35</td>\n",
       "      <td>line_set</td>\n",
       "    </tr>\n",
       "    <tr>\n",
       "      <th>8234426</th>\n",
       "      <td>2021103112</td>\n",
       "      <td>4317</td>\n",
       "      <td>53586.0</td>\n",
       "      <td>46</td>\n",
       "      <td>2021-11-01 03:29:21.000</td>\n",
       "      <td>15.0</td>\n",
       "      <td>MIN</td>\n",
       "      <td>left</td>\n",
       "      <td>74.58</td>\n",
       "      <td>33.81</td>\n",
       "      <td>0.05</td>\n",
       "      <td>0.06</td>\n",
       "      <td>0.01</td>\n",
       "      <td>277.27</td>\n",
       "      <td>89.69</td>\n",
       "      <td>line_set</td>\n",
       "    </tr>\n",
       "    <tr>\n",
       "      <th>8234502</th>\n",
       "      <td>2021103112</td>\n",
       "      <td>4317</td>\n",
       "      <td>NaN</td>\n",
       "      <td>25</td>\n",
       "      <td>2021-11-01 03:29:18.900</td>\n",
       "      <td>NaN</td>\n",
       "      <td>football</td>\n",
       "      <td>left</td>\n",
       "      <td>71.99</td>\n",
       "      <td>29.89</td>\n",
       "      <td>0.00</td>\n",
       "      <td>0.00</td>\n",
       "      <td>0.00</td>\n",
       "      <td>NaN</td>\n",
       "      <td>NaN</td>\n",
       "      <td>line_set</td>\n",
       "    </tr>\n",
       "    <tr>\n",
       "      <th>8234523</th>\n",
       "      <td>2021103112</td>\n",
       "      <td>4317</td>\n",
       "      <td>NaN</td>\n",
       "      <td>46</td>\n",
       "      <td>2021-11-01 03:29:21.000</td>\n",
       "      <td>NaN</td>\n",
       "      <td>football</td>\n",
       "      <td>left</td>\n",
       "      <td>72.00</td>\n",
       "      <td>29.87</td>\n",
       "      <td>0.00</td>\n",
       "      <td>0.00</td>\n",
       "      <td>0.00</td>\n",
       "      <td>NaN</td>\n",
       "      <td>NaN</td>\n",
       "      <td>line_set</td>\n",
       "    </tr>\n",
       "  </tbody>\n",
       "</table>\n",
       "<p>3220 rows × 16 columns</p>\n",
       "</div>"
      ],
      "text/plain": [
       "             gameId  playId    nflId  frameId                    time  \\\n",
       "1840     2021090900     187  35441.0        1 2021-09-10 00:29:15.000   \n",
       "1871     2021090900     187  35454.0        1 2021-09-10 00:29:15.000   \n",
       "1902     2021090900     187  37082.0        1 2021-09-10 00:29:15.000   \n",
       "1933     2021090900     187  38588.0        1 2021-09-10 00:29:15.000   \n",
       "1964     2021090900     187  41915.0        1 2021-09-10 00:29:15.000   \n",
       "...             ...     ...      ...      ...                     ...   \n",
       "8234329  2021103112    4317  53504.0       46 2021-11-01 03:29:21.000   \n",
       "8234405  2021103112    4317  53586.0       25 2021-11-01 03:29:18.900   \n",
       "8234426  2021103112    4317  53586.0       46 2021-11-01 03:29:21.000   \n",
       "8234502  2021103112    4317      NaN       25 2021-11-01 03:29:18.900   \n",
       "8234523  2021103112    4317      NaN       46 2021-11-01 03:29:21.000   \n",
       "\n",
       "         jerseyNumber      team playDirection      x      y     s     a   dis  \\\n",
       "1840             93.0        TB          left  75.23  28.60  0.27  0.54  0.03   \n",
       "1871             90.0        TB          left  76.12  21.19  0.31  0.56  0.04   \n",
       "1902             77.0       DAL          left  78.14  23.29  0.06  0.05  0.02   \n",
       "1933             54.0        TB          left  72.73  25.14  0.34  0.70  0.04   \n",
       "1964             58.0        TB          left  75.15  31.82  0.86  0.70  0.09   \n",
       "...               ...       ...           ...    ...    ...   ...   ...   ...   \n",
       "8234329          97.0       DAL          left  71.22  24.34  0.02  0.02  0.00   \n",
       "8234405          15.0       MIN          left  74.17  33.79  0.14  0.04  0.01   \n",
       "8234426          15.0       MIN          left  74.58  33.81  0.05  0.06  0.01   \n",
       "8234502           NaN  football          left  71.99  29.89  0.00  0.00  0.00   \n",
       "8234523           NaN  football          left  72.00  29.87  0.00  0.00  0.00   \n",
       "\n",
       "              o     dir     event  \n",
       "1840     131.50   46.10  line_set  \n",
       "1871      54.33   15.07  line_set  \n",
       "1902     278.01  130.65  line_set  \n",
       "1933      85.72  301.01  line_set  \n",
       "1964     132.04   63.76  line_set  \n",
       "...         ...     ...       ...  \n",
       "8234329    5.66   61.69  line_set  \n",
       "8234405  281.54  242.35  line_set  \n",
       "8234426  277.27   89.69  line_set  \n",
       "8234502     NaN     NaN  line_set  \n",
       "8234523     NaN     NaN  line_set  \n",
       "\n",
       "[3220 rows x 16 columns]"
      ]
     },
     "execution_count": 11,
     "metadata": {},
     "output_type": "execute_result"
    }
   ],
   "source": [
    "df.loc[df['event'] == 'line_set']"
   ]
  },
  {
   "cell_type": "code",
   "execution_count": 12,
   "id": "267c206f",
   "metadata": {
    "scrolled": false
   },
   "outputs": [
    {
     "data": {
      "text/html": [
       "<div>\n",
       "<style scoped>\n",
       "    .dataframe tbody tr th:only-of-type {\n",
       "        vertical-align: middle;\n",
       "    }\n",
       "\n",
       "    .dataframe tbody tr th {\n",
       "        vertical-align: top;\n",
       "    }\n",
       "\n",
       "    .dataframe thead th {\n",
       "        text-align: right;\n",
       "    }\n",
       "</style>\n",
       "<table border=\"1\" class=\"dataframe\">\n",
       "  <thead>\n",
       "    <tr style=\"text-align: right;\">\n",
       "      <th></th>\n",
       "      <th>jerseyNumber</th>\n",
       "      <th>team</th>\n",
       "      <th>playDirection</th>\n",
       "      <th>x</th>\n",
       "      <th>y</th>\n",
       "      <th>s</th>\n",
       "      <th>a</th>\n",
       "      <th>dis</th>\n",
       "      <th>o</th>\n",
       "      <th>dir</th>\n",
       "      <th>event</th>\n",
       "    </tr>\n",
       "  </thead>\n",
       "  <tbody>\n",
       "    <tr>\n",
       "      <th>0</th>\n",
       "      <td>12.0</td>\n",
       "      <td>TB</td>\n",
       "      <td>right</td>\n",
       "      <td>37.77</td>\n",
       "      <td>24.22</td>\n",
       "      <td>0.29</td>\n",
       "      <td>0.30</td>\n",
       "      <td>0.03</td>\n",
       "      <td>165.16</td>\n",
       "      <td>84.99</td>\n",
       "      <td>None</td>\n",
       "    </tr>\n",
       "    <tr>\n",
       "      <th>1</th>\n",
       "      <td>12.0</td>\n",
       "      <td>TB</td>\n",
       "      <td>right</td>\n",
       "      <td>37.78</td>\n",
       "      <td>24.22</td>\n",
       "      <td>0.23</td>\n",
       "      <td>0.11</td>\n",
       "      <td>0.02</td>\n",
       "      <td>164.33</td>\n",
       "      <td>92.87</td>\n",
       "      <td>None</td>\n",
       "    </tr>\n",
       "    <tr>\n",
       "      <th>2</th>\n",
       "      <td>12.0</td>\n",
       "      <td>TB</td>\n",
       "      <td>right</td>\n",
       "      <td>37.78</td>\n",
       "      <td>24.24</td>\n",
       "      <td>0.16</td>\n",
       "      <td>0.10</td>\n",
       "      <td>0.01</td>\n",
       "      <td>160.24</td>\n",
       "      <td>68.55</td>\n",
       "      <td>None</td>\n",
       "    </tr>\n",
       "    <tr>\n",
       "      <th>3</th>\n",
       "      <td>12.0</td>\n",
       "      <td>TB</td>\n",
       "      <td>right</td>\n",
       "      <td>37.73</td>\n",
       "      <td>24.25</td>\n",
       "      <td>0.15</td>\n",
       "      <td>0.24</td>\n",
       "      <td>0.06</td>\n",
       "      <td>152.13</td>\n",
       "      <td>296.85</td>\n",
       "      <td>None</td>\n",
       "    </tr>\n",
       "    <tr>\n",
       "      <th>4</th>\n",
       "      <td>12.0</td>\n",
       "      <td>TB</td>\n",
       "      <td>right</td>\n",
       "      <td>37.69</td>\n",
       "      <td>24.26</td>\n",
       "      <td>0.25</td>\n",
       "      <td>0.18</td>\n",
       "      <td>0.04</td>\n",
       "      <td>148.33</td>\n",
       "      <td>287.55</td>\n",
       "      <td>None</td>\n",
       "    </tr>\n",
       "  </tbody>\n",
       "</table>\n",
       "</div>"
      ],
      "text/plain": [
       "   jerseyNumber team playDirection      x      y     s     a   dis       o  \\\n",
       "0          12.0   TB         right  37.77  24.22  0.29  0.30  0.03  165.16   \n",
       "1          12.0   TB         right  37.78  24.22  0.23  0.11  0.02  164.33   \n",
       "2          12.0   TB         right  37.78  24.24  0.16  0.10  0.01  160.24   \n",
       "3          12.0   TB         right  37.73  24.25  0.15  0.24  0.06  152.13   \n",
       "4          12.0   TB         right  37.69  24.26  0.25  0.18  0.04  148.33   \n",
       "\n",
       "      dir event  \n",
       "0   84.99  None  \n",
       "1   92.87  None  \n",
       "2   68.55  None  \n",
       "3  296.85  None  \n",
       "4  287.55  None  "
      ]
     },
     "execution_count": 12,
     "metadata": {},
     "output_type": "execute_result"
    }
   ],
   "source": [
    "dfslice = df.iloc[:,5:]\n",
    "dfslice.head()"
   ]
  },
  {
   "cell_type": "code",
   "execution_count": 13,
   "id": "08437c5f",
   "metadata": {},
   "outputs": [
    {
     "data": {
      "text/html": [
       "<div>\n",
       "<style scoped>\n",
       "    .dataframe tbody tr th:only-of-type {\n",
       "        vertical-align: middle;\n",
       "    }\n",
       "\n",
       "    .dataframe tbody tr th {\n",
       "        vertical-align: top;\n",
       "    }\n",
       "\n",
       "    .dataframe thead th {\n",
       "        text-align: right;\n",
       "    }\n",
       "</style>\n",
       "<table border=\"1\" class=\"dataframe\">\n",
       "  <thead>\n",
       "    <tr style=\"text-align: right;\">\n",
       "      <th></th>\n",
       "      <th>jerseyNumber</th>\n",
       "      <th>x</th>\n",
       "      <th>y</th>\n",
       "      <th>s</th>\n",
       "      <th>a</th>\n",
       "      <th>dis</th>\n",
       "      <th>o</th>\n",
       "      <th>dir</th>\n",
       "    </tr>\n",
       "  </thead>\n",
       "  <tbody>\n",
       "    <tr>\n",
       "      <th>count</th>\n",
       "      <td>7.952692e+06</td>\n",
       "      <td>8.314178e+06</td>\n",
       "      <td>8.314178e+06</td>\n",
       "      <td>8.314178e+06</td>\n",
       "      <td>8.314178e+06</td>\n",
       "      <td>8.314178e+06</td>\n",
       "      <td>7.952692e+06</td>\n",
       "      <td>7.952692e+06</td>\n",
       "    </tr>\n",
       "    <tr>\n",
       "      <th>mean</th>\n",
       "      <td>4.970117e+01</td>\n",
       "      <td>5.915866e+01</td>\n",
       "      <td>2.675380e+01</td>\n",
       "      <td>2.593350e+00</td>\n",
       "      <td>1.794459e+00</td>\n",
       "      <td>2.626317e-01</td>\n",
       "      <td>1.802045e+02</td>\n",
       "      <td>1.808868e+02</td>\n",
       "    </tr>\n",
       "    <tr>\n",
       "      <th>std</th>\n",
       "      <td>2.991778e+01</td>\n",
       "      <td>2.442278e+01</td>\n",
       "      <td>8.322079e+00</td>\n",
       "      <td>2.399735e+00</td>\n",
       "      <td>1.443276e+00</td>\n",
       "      <td>2.570499e-01</td>\n",
       "      <td>9.917450e+01</td>\n",
       "      <td>1.009824e+02</td>\n",
       "    </tr>\n",
       "    <tr>\n",
       "      <th>min</th>\n",
       "      <td>1.000000e+00</td>\n",
       "      <td>-3.550000e+00</td>\n",
       "      <td>-4.530000e+00</td>\n",
       "      <td>0.000000e+00</td>\n",
       "      <td>0.000000e+00</td>\n",
       "      <td>0.000000e+00</td>\n",
       "      <td>0.000000e+00</td>\n",
       "      <td>0.000000e+00</td>\n",
       "    </tr>\n",
       "    <tr>\n",
       "      <th>25%</th>\n",
       "      <td>2.300000e+01</td>\n",
       "      <td>3.990000e+01</td>\n",
       "      <td>2.196000e+01</td>\n",
       "      <td>7.600000e-01</td>\n",
       "      <td>7.100000e-01</td>\n",
       "      <td>8.000000e-02</td>\n",
       "      <td>8.997000e+01</td>\n",
       "      <td>9.125000e+01</td>\n",
       "    </tr>\n",
       "    <tr>\n",
       "      <th>50%</th>\n",
       "      <td>5.200000e+01</td>\n",
       "      <td>5.885000e+01</td>\n",
       "      <td>2.676000e+01</td>\n",
       "      <td>2.140000e+00</td>\n",
       "      <td>1.540000e+00</td>\n",
       "      <td>2.200000e-01</td>\n",
       "      <td>1.793000e+02</td>\n",
       "      <td>1.805000e+02</td>\n",
       "    </tr>\n",
       "    <tr>\n",
       "      <th>75%</th>\n",
       "      <td>7.500000e+01</td>\n",
       "      <td>7.823000e+01</td>\n",
       "      <td>3.156000e+01</td>\n",
       "      <td>3.830000e+00</td>\n",
       "      <td>2.590000e+00</td>\n",
       "      <td>3.800000e-01</td>\n",
       "      <td>2.696300e+02</td>\n",
       "      <td>2.708400e+02</td>\n",
       "    </tr>\n",
       "    <tr>\n",
       "      <th>max</th>\n",
       "      <td>9.900000e+01</td>\n",
       "      <td>1.211500e+02</td>\n",
       "      <td>5.772000e+01</td>\n",
       "      <td>2.934000e+01</td>\n",
       "      <td>5.069000e+01</td>\n",
       "      <td>1.045000e+01</td>\n",
       "      <td>3.600000e+02</td>\n",
       "      <td>3.600000e+02</td>\n",
       "    </tr>\n",
       "  </tbody>\n",
       "</table>\n",
       "</div>"
      ],
      "text/plain": [
       "       jerseyNumber             x             y             s             a  \\\n",
       "count  7.952692e+06  8.314178e+06  8.314178e+06  8.314178e+06  8.314178e+06   \n",
       "mean   4.970117e+01  5.915866e+01  2.675380e+01  2.593350e+00  1.794459e+00   \n",
       "std    2.991778e+01  2.442278e+01  8.322079e+00  2.399735e+00  1.443276e+00   \n",
       "min    1.000000e+00 -3.550000e+00 -4.530000e+00  0.000000e+00  0.000000e+00   \n",
       "25%    2.300000e+01  3.990000e+01  2.196000e+01  7.600000e-01  7.100000e-01   \n",
       "50%    5.200000e+01  5.885000e+01  2.676000e+01  2.140000e+00  1.540000e+00   \n",
       "75%    7.500000e+01  7.823000e+01  3.156000e+01  3.830000e+00  2.590000e+00   \n",
       "max    9.900000e+01  1.211500e+02  5.772000e+01  2.934000e+01  5.069000e+01   \n",
       "\n",
       "                dis             o           dir  \n",
       "count  8.314178e+06  7.952692e+06  7.952692e+06  \n",
       "mean   2.626317e-01  1.802045e+02  1.808868e+02  \n",
       "std    2.570499e-01  9.917450e+01  1.009824e+02  \n",
       "min    0.000000e+00  0.000000e+00  0.000000e+00  \n",
       "25%    8.000000e-02  8.997000e+01  9.125000e+01  \n",
       "50%    2.200000e-01  1.793000e+02  1.805000e+02  \n",
       "75%    3.800000e-01  2.696300e+02  2.708400e+02  \n",
       "max    1.045000e+01  3.600000e+02  3.600000e+02  "
      ]
     },
     "execution_count": 13,
     "metadata": {},
     "output_type": "execute_result"
    }
   ],
   "source": [
    "dfslice.describe()"
   ]
  },
  {
   "cell_type": "code",
   "execution_count": 14,
   "id": "b6b24233",
   "metadata": {},
   "outputs": [
    {
     "data": {
      "text/plain": [
       "27"
      ]
     },
     "execution_count": 14,
     "metadata": {},
     "output_type": "execute_result"
    }
   ],
   "source": [
    "df['event'].nunique()"
   ]
  },
  {
   "cell_type": "code",
   "execution_count": 15,
   "id": "1e7749ad",
   "metadata": {
    "scrolled": true
   },
   "outputs": [
    {
     "data": {
      "text/html": [
       "<div>\n",
       "<style scoped>\n",
       "    .dataframe tbody tr th:only-of-type {\n",
       "        vertical-align: middle;\n",
       "    }\n",
       "\n",
       "    .dataframe tbody tr th {\n",
       "        vertical-align: top;\n",
       "    }\n",
       "\n",
       "    .dataframe thead th {\n",
       "        text-align: right;\n",
       "    }\n",
       "</style>\n",
       "<table border=\"1\" class=\"dataframe\">\n",
       "  <thead>\n",
       "    <tr style=\"text-align: right;\">\n",
       "      <th></th>\n",
       "      <th>jerseyNumber</th>\n",
       "      <th>team</th>\n",
       "      <th>playDirection</th>\n",
       "      <th>x</th>\n",
       "      <th>y</th>\n",
       "      <th>s</th>\n",
       "      <th>a</th>\n",
       "      <th>dis</th>\n",
       "      <th>o</th>\n",
       "      <th>dir</th>\n",
       "      <th>event</th>\n",
       "    </tr>\n",
       "  </thead>\n",
       "  <tbody>\n",
       "    <tr>\n",
       "      <th>7256569</th>\n",
       "      <td>1.0</td>\n",
       "      <td>SF</td>\n",
       "      <td>left</td>\n",
       "      <td>22.76</td>\n",
       "      <td>23.27</td>\n",
       "      <td>3.10</td>\n",
       "      <td>0.13</td>\n",
       "      <td>0.31</td>\n",
       "      <td>66.50</td>\n",
       "      <td>291.15</td>\n",
       "      <td>None</td>\n",
       "    </tr>\n",
       "    <tr>\n",
       "      <th>2284710</th>\n",
       "      <td>4.0</td>\n",
       "      <td>WAS</td>\n",
       "      <td>right</td>\n",
       "      <td>30.12</td>\n",
       "      <td>23.87</td>\n",
       "      <td>0.24</td>\n",
       "      <td>2.45</td>\n",
       "      <td>0.01</td>\n",
       "      <td>188.65</td>\n",
       "      <td>123.25</td>\n",
       "      <td>None</td>\n",
       "    </tr>\n",
       "    <tr>\n",
       "      <th>3199082</th>\n",
       "      <td>85.0</td>\n",
       "      <td>SF</td>\n",
       "      <td>left</td>\n",
       "      <td>29.61</td>\n",
       "      <td>17.79</td>\n",
       "      <td>5.38</td>\n",
       "      <td>3.03</td>\n",
       "      <td>0.52</td>\n",
       "      <td>189.23</td>\n",
       "      <td>204.65</td>\n",
       "      <td>None</td>\n",
       "    </tr>\n",
       "    <tr>\n",
       "      <th>5307606</th>\n",
       "      <td>52.0</td>\n",
       "      <td>KC</td>\n",
       "      <td>right</td>\n",
       "      <td>32.83</td>\n",
       "      <td>26.07</td>\n",
       "      <td>2.34</td>\n",
       "      <td>0.54</td>\n",
       "      <td>0.24</td>\n",
       "      <td>118.14</td>\n",
       "      <td>249.92</td>\n",
       "      <td>None</td>\n",
       "    </tr>\n",
       "    <tr>\n",
       "      <th>512644</th>\n",
       "      <td>23.0</td>\n",
       "      <td>HOU</td>\n",
       "      <td>right</td>\n",
       "      <td>49.02</td>\n",
       "      <td>20.04</td>\n",
       "      <td>1.22</td>\n",
       "      <td>4.64</td>\n",
       "      <td>0.12</td>\n",
       "      <td>266.94</td>\n",
       "      <td>159.88</td>\n",
       "      <td>None</td>\n",
       "    </tr>\n",
       "  </tbody>\n",
       "</table>\n",
       "</div>"
      ],
      "text/plain": [
       "         jerseyNumber team playDirection      x      y     s     a   dis  \\\n",
       "7256569           1.0   SF          left  22.76  23.27  3.10  0.13  0.31   \n",
       "2284710           4.0  WAS         right  30.12  23.87  0.24  2.45  0.01   \n",
       "3199082          85.0   SF          left  29.61  17.79  5.38  3.03  0.52   \n",
       "5307606          52.0   KC         right  32.83  26.07  2.34  0.54  0.24   \n",
       "512644           23.0  HOU         right  49.02  20.04  1.22  4.64  0.12   \n",
       "\n",
       "              o     dir event  \n",
       "7256569   66.50  291.15  None  \n",
       "2284710  188.65  123.25  None  \n",
       "3199082  189.23  204.65  None  \n",
       "5307606  118.14  249.92  None  \n",
       "512644   266.94  159.88  None  "
      ]
     },
     "execution_count": 15,
     "metadata": {},
     "output_type": "execute_result"
    }
   ],
   "source": [
    "dfnew = dfslice.sample(frac=0.25)\n",
    "dfnew.head()"
   ]
  },
  {
   "cell_type": "code",
   "execution_count": 16,
   "id": "b73d01d5",
   "metadata": {
    "scrolled": true
   },
   "outputs": [
    {
     "data": {
      "text/html": [
       "<div>\n",
       "<style scoped>\n",
       "    .dataframe tbody tr th:only-of-type {\n",
       "        vertical-align: middle;\n",
       "    }\n",
       "\n",
       "    .dataframe tbody tr th {\n",
       "        vertical-align: top;\n",
       "    }\n",
       "\n",
       "    .dataframe thead th {\n",
       "        text-align: right;\n",
       "    }\n",
       "</style>\n",
       "<table border=\"1\" class=\"dataframe\">\n",
       "  <thead>\n",
       "    <tr style=\"text-align: right;\">\n",
       "      <th></th>\n",
       "      <th>jerseyNumber</th>\n",
       "      <th>x</th>\n",
       "      <th>y</th>\n",
       "      <th>s</th>\n",
       "      <th>a</th>\n",
       "      <th>dis</th>\n",
       "      <th>o</th>\n",
       "      <th>dir</th>\n",
       "    </tr>\n",
       "  </thead>\n",
       "  <tbody>\n",
       "    <tr>\n",
       "      <th>count</th>\n",
       "      <td>1.988270e+06</td>\n",
       "      <td>2.078544e+06</td>\n",
       "      <td>2.078544e+06</td>\n",
       "      <td>2.078544e+06</td>\n",
       "      <td>2.078544e+06</td>\n",
       "      <td>2.078544e+06</td>\n",
       "      <td>1.988270e+06</td>\n",
       "      <td>1.988270e+06</td>\n",
       "    </tr>\n",
       "    <tr>\n",
       "      <th>mean</th>\n",
       "      <td>4.971046e+01</td>\n",
       "      <td>5.915666e+01</td>\n",
       "      <td>2.676325e+01</td>\n",
       "      <td>2.593998e+00</td>\n",
       "      <td>1.794493e+00</td>\n",
       "      <td>2.626773e-01</td>\n",
       "      <td>1.802021e+02</td>\n",
       "      <td>1.807904e+02</td>\n",
       "    </tr>\n",
       "    <tr>\n",
       "      <th>std</th>\n",
       "      <td>2.991333e+01</td>\n",
       "      <td>2.443064e+01</td>\n",
       "      <td>8.317514e+00</td>\n",
       "      <td>2.400484e+00</td>\n",
       "      <td>1.443533e+00</td>\n",
       "      <td>2.567255e-01</td>\n",
       "      <td>9.915762e+01</td>\n",
       "      <td>1.009736e+02</td>\n",
       "    </tr>\n",
       "    <tr>\n",
       "      <th>min</th>\n",
       "      <td>1.000000e+00</td>\n",
       "      <td>-3.550000e+00</td>\n",
       "      <td>-4.530000e+00</td>\n",
       "      <td>0.000000e+00</td>\n",
       "      <td>0.000000e+00</td>\n",
       "      <td>0.000000e+00</td>\n",
       "      <td>0.000000e+00</td>\n",
       "      <td>0.000000e+00</td>\n",
       "    </tr>\n",
       "    <tr>\n",
       "      <th>25%</th>\n",
       "      <td>2.300000e+01</td>\n",
       "      <td>3.990000e+01</td>\n",
       "      <td>2.197000e+01</td>\n",
       "      <td>7.600000e-01</td>\n",
       "      <td>7.100000e-01</td>\n",
       "      <td>8.000000e-02</td>\n",
       "      <td>9.000000e+01</td>\n",
       "      <td>9.118000e+01</td>\n",
       "    </tr>\n",
       "    <tr>\n",
       "      <th>50%</th>\n",
       "      <td>5.200000e+01</td>\n",
       "      <td>5.882000e+01</td>\n",
       "      <td>2.677000e+01</td>\n",
       "      <td>2.140000e+00</td>\n",
       "      <td>1.540000e+00</td>\n",
       "      <td>2.200000e-01</td>\n",
       "      <td>1.792000e+02</td>\n",
       "      <td>1.804000e+02</td>\n",
       "    </tr>\n",
       "    <tr>\n",
       "      <th>75%</th>\n",
       "      <td>7.600000e+01</td>\n",
       "      <td>7.824000e+01</td>\n",
       "      <td>3.156000e+01</td>\n",
       "      <td>3.830000e+00</td>\n",
       "      <td>2.590000e+00</td>\n",
       "      <td>3.800000e-01</td>\n",
       "      <td>2.696200e+02</td>\n",
       "      <td>2.708000e+02</td>\n",
       "    </tr>\n",
       "    <tr>\n",
       "      <th>max</th>\n",
       "      <td>9.900000e+01</td>\n",
       "      <td>1.211500e+02</td>\n",
       "      <td>5.632000e+01</td>\n",
       "      <td>2.838000e+01</td>\n",
       "      <td>3.257000e+01</td>\n",
       "      <td>8.530000e+00</td>\n",
       "      <td>3.600000e+02</td>\n",
       "      <td>3.600000e+02</td>\n",
       "    </tr>\n",
       "  </tbody>\n",
       "</table>\n",
       "</div>"
      ],
      "text/plain": [
       "       jerseyNumber             x             y             s             a  \\\n",
       "count  1.988270e+06  2.078544e+06  2.078544e+06  2.078544e+06  2.078544e+06   \n",
       "mean   4.971046e+01  5.915666e+01  2.676325e+01  2.593998e+00  1.794493e+00   \n",
       "std    2.991333e+01  2.443064e+01  8.317514e+00  2.400484e+00  1.443533e+00   \n",
       "min    1.000000e+00 -3.550000e+00 -4.530000e+00  0.000000e+00  0.000000e+00   \n",
       "25%    2.300000e+01  3.990000e+01  2.197000e+01  7.600000e-01  7.100000e-01   \n",
       "50%    5.200000e+01  5.882000e+01  2.677000e+01  2.140000e+00  1.540000e+00   \n",
       "75%    7.600000e+01  7.824000e+01  3.156000e+01  3.830000e+00  2.590000e+00   \n",
       "max    9.900000e+01  1.211500e+02  5.632000e+01  2.838000e+01  3.257000e+01   \n",
       "\n",
       "                dis             o           dir  \n",
       "count  2.078544e+06  1.988270e+06  1.988270e+06  \n",
       "mean   2.626773e-01  1.802021e+02  1.807904e+02  \n",
       "std    2.567255e-01  9.915762e+01  1.009736e+02  \n",
       "min    0.000000e+00  0.000000e+00  0.000000e+00  \n",
       "25%    8.000000e-02  9.000000e+01  9.118000e+01  \n",
       "50%    2.200000e-01  1.792000e+02  1.804000e+02  \n",
       "75%    3.800000e-01  2.696200e+02  2.708000e+02  \n",
       "max    8.530000e+00  3.600000e+02  3.600000e+02  "
      ]
     },
     "execution_count": 16,
     "metadata": {},
     "output_type": "execute_result"
    }
   ],
   "source": [
    "dfnew.describe()"
   ]
  },
  {
   "cell_type": "code",
   "execution_count": 17,
   "id": "49d5db4b",
   "metadata": {},
   "outputs": [
    {
     "data": {
      "text/plain": [
       "0.00     130639\n",
       "0.01      31949\n",
       "0.02      18507\n",
       "0.03      13793\n",
       "0.04      11102\n",
       "          ...  \n",
       "18.56         1\n",
       "17.64         1\n",
       "27.48         1\n",
       "14.97         1\n",
       "10.40         1\n",
       "Name: s, Length: 2379, dtype: int64"
      ]
     },
     "execution_count": 17,
     "metadata": {},
     "output_type": "execute_result"
    }
   ],
   "source": [
    "dfnew['s'].value_counts()"
   ]
  },
  {
   "cell_type": "code",
   "execution_count": null,
   "id": "cbfceb28",
   "metadata": {},
   "outputs": [],
   "source": []
  },
  {
   "cell_type": "markdown",
   "id": "f5aba4d6",
   "metadata": {},
   "source": [
    "## Univariate Analysis"
   ]
  },
  {
   "cell_type": "code",
   "execution_count": 18,
   "id": "5010aea7",
   "metadata": {
    "scrolled": true
   },
   "outputs": [
    {
     "data": {
      "image/png": "[encoded data removed]",
      "text/plain": [
       "<Figure size 1296x432 with 1 Axes>"
      ]
     },
     "metadata": {
      "needs_background": "light"
     },
     "output_type": "display_data"
    }
   ],
   "source": [
    "sns.displot(data=dfnew,x='team',height=6,aspect=3)\n",
    "plt.show()"
   ]
  },
  {
   "cell_type": "code",
   "execution_count": 19,
   "id": "400ae738",
   "metadata": {},
   "outputs": [
    {
     "data": {
      "image/png": "[encoded data removed]",
      "text/plain": [
       "<Figure size 1296x432 with 1 Axes>"
      ]
     },
     "metadata": {
      "needs_background": "light"
     },
     "output_type": "display_data"
    }
   ],
   "source": [
    "sns.displot(data=dfslice,x='team',height=6,aspect=3)\n",
    "plt.show()"
   ]
  },
  {
   "cell_type": "code",
   "execution_count": 20,
   "id": "fb451459",
   "metadata": {},
   "outputs": [
    {
     "data": {
      "image/png": "[encoded data removed]",
      "text/plain": [
       "<Figure size 432x432 with 1 Axes>"
      ]
     },
     "metadata": {
      "needs_background": "light"
     },
     "output_type": "display_data"
    }
   ],
   "source": [
    "sns.displot(data=dfnew,x='playDirection',height=6,aspect=1)\n",
    "plt.show()"
   ]
  },
  {
   "cell_type": "code",
   "execution_count": 21,
   "id": "92bc73c9",
   "metadata": {},
   "outputs": [
    {
     "data": {
      "image/png": "[encoded data removed]",
      "text/plain": [
       "<Figure size 432x432 with 1 Axes>"
      ]
     },
     "metadata": {
      "needs_background": "light"
     },
     "output_type": "display_data"
    }
   ],
   "source": [
    "sns.displot(data=df,x='playDirection',height=6,aspect=1)\n",
    "plt.show()"
   ]
  },
  {
   "cell_type": "code",
   "execution_count": 22,
   "id": "91fd28f1",
   "metadata": {
    "scrolled": false
   },
   "outputs": [
    {
     "data": {
      "image/png": "[encoded data removed]",
      "text/plain": [
       "<Figure size 864x432 with 1 Axes>"
      ]
     },
     "metadata": {
      "needs_background": "light"
     },
     "output_type": "display_data"
    }
   ],
   "source": [
    "sns.displot(data=dfnew,x='x', kind='kde',height=6,aspect=2)\n",
    "plt.show()"
   ]
  },
  {
   "cell_type": "code",
   "execution_count": 23,
   "id": "53d72279",
   "metadata": {},
   "outputs": [
    {
     "data": {
      "text/plain": [
       "0.00     130639\n",
       "0.01      31949\n",
       "0.02      18507\n",
       "0.03      13793\n",
       "0.04      11102\n",
       "          ...  \n",
       "18.56         1\n",
       "17.64         1\n",
       "27.48         1\n",
       "14.97         1\n",
       "10.40         1\n",
       "Name: s, Length: 2379, dtype: int64"
      ]
     },
     "execution_count": 23,
     "metadata": {},
     "output_type": "execute_result"
    }
   ],
   "source": [
    "dfnew['s'].value_counts()"
   ]
  },
  {
   "cell_type": "code",
   "execution_count": 24,
   "id": "6e22b90a",
   "metadata": {
    "scrolled": true
   },
   "outputs": [
    {
     "data": {
      "text/html": [
       "<div>\n",
       "<style scoped>\n",
       "    .dataframe tbody tr th:only-of-type {\n",
       "        vertical-align: middle;\n",
       "    }\n",
       "\n",
       "    .dataframe tbody tr th {\n",
       "        vertical-align: top;\n",
       "    }\n",
       "\n",
       "    .dataframe thead th {\n",
       "        text-align: right;\n",
       "    }\n",
       "</style>\n",
       "<table border=\"1\" class=\"dataframe\">\n",
       "  <thead>\n",
       "    <tr style=\"text-align: right;\">\n",
       "      <th></th>\n",
       "      <th>jerseyNumber</th>\n",
       "      <th>team</th>\n",
       "      <th>playDirection</th>\n",
       "      <th>x</th>\n",
       "      <th>y</th>\n",
       "      <th>s</th>\n",
       "      <th>a</th>\n",
       "      <th>dis</th>\n",
       "      <th>o</th>\n",
       "      <th>dir</th>\n",
       "      <th>event</th>\n",
       "    </tr>\n",
       "  </thead>\n",
       "  <tbody>\n",
       "    <tr>\n",
       "      <th>7256569</th>\n",
       "      <td>1.0</td>\n",
       "      <td>SF</td>\n",
       "      <td>left</td>\n",
       "      <td>22.76</td>\n",
       "      <td>23.27</td>\n",
       "      <td>3.10</td>\n",
       "      <td>0.13</td>\n",
       "      <td>0.31</td>\n",
       "      <td>66.50</td>\n",
       "      <td>291.15</td>\n",
       "      <td>None</td>\n",
       "    </tr>\n",
       "    <tr>\n",
       "      <th>2284710</th>\n",
       "      <td>4.0</td>\n",
       "      <td>WAS</td>\n",
       "      <td>right</td>\n",
       "      <td>30.12</td>\n",
       "      <td>23.87</td>\n",
       "      <td>0.24</td>\n",
       "      <td>2.45</td>\n",
       "      <td>0.01</td>\n",
       "      <td>188.65</td>\n",
       "      <td>123.25</td>\n",
       "      <td>None</td>\n",
       "    </tr>\n",
       "    <tr>\n",
       "      <th>3199082</th>\n",
       "      <td>85.0</td>\n",
       "      <td>SF</td>\n",
       "      <td>left</td>\n",
       "      <td>29.61</td>\n",
       "      <td>17.79</td>\n",
       "      <td>5.38</td>\n",
       "      <td>3.03</td>\n",
       "      <td>0.52</td>\n",
       "      <td>189.23</td>\n",
       "      <td>204.65</td>\n",
       "      <td>None</td>\n",
       "    </tr>\n",
       "    <tr>\n",
       "      <th>5307606</th>\n",
       "      <td>52.0</td>\n",
       "      <td>KC</td>\n",
       "      <td>right</td>\n",
       "      <td>32.83</td>\n",
       "      <td>26.07</td>\n",
       "      <td>2.34</td>\n",
       "      <td>0.54</td>\n",
       "      <td>0.24</td>\n",
       "      <td>118.14</td>\n",
       "      <td>249.92</td>\n",
       "      <td>None</td>\n",
       "    </tr>\n",
       "    <tr>\n",
       "      <th>512644</th>\n",
       "      <td>23.0</td>\n",
       "      <td>HOU</td>\n",
       "      <td>right</td>\n",
       "      <td>49.02</td>\n",
       "      <td>20.04</td>\n",
       "      <td>1.22</td>\n",
       "      <td>4.64</td>\n",
       "      <td>0.12</td>\n",
       "      <td>266.94</td>\n",
       "      <td>159.88</td>\n",
       "      <td>None</td>\n",
       "    </tr>\n",
       "  </tbody>\n",
       "</table>\n",
       "</div>"
      ],
      "text/plain": [
       "         jerseyNumber team playDirection      x      y     s     a   dis  \\\n",
       "7256569           1.0   SF          left  22.76  23.27  3.10  0.13  0.31   \n",
       "2284710           4.0  WAS         right  30.12  23.87  0.24  2.45  0.01   \n",
       "3199082          85.0   SF          left  29.61  17.79  5.38  3.03  0.52   \n",
       "5307606          52.0   KC         right  32.83  26.07  2.34  0.54  0.24   \n",
       "512644           23.0  HOU         right  49.02  20.04  1.22  4.64  0.12   \n",
       "\n",
       "              o     dir event  \n",
       "7256569   66.50  291.15  None  \n",
       "2284710  188.65  123.25  None  \n",
       "3199082  189.23  204.65  None  \n",
       "5307606  118.14  249.92  None  \n",
       "512644   266.94  159.88  None  "
      ]
     },
     "execution_count": 24,
     "metadata": {},
     "output_type": "execute_result"
    }
   ],
   "source": [
    "dfspeed = dfnew.loc[dfnew['s']!=0.00]\n",
    "dfspeed.head()"
   ]
  },
  {
   "cell_type": "code",
   "execution_count": 25,
   "id": "3bc0334f",
   "metadata": {},
   "outputs": [
    {
     "data": {
      "text/plain": [
       "0.01     31949\n",
       "0.02     18507\n",
       "0.03     13793\n",
       "0.04     11102\n",
       "0.05      9817\n",
       "         ...  \n",
       "17.50        1\n",
       "26.62        1\n",
       "10.69        1\n",
       "13.02        1\n",
       "10.40        1\n",
       "Name: s, Length: 2378, dtype: int64"
      ]
     },
     "execution_count": 25,
     "metadata": {},
     "output_type": "execute_result"
    }
   ],
   "source": [
    "dfspeed['s'].value_counts()"
   ]
  },
  {
   "cell_type": "code",
   "execution_count": 26,
   "id": "a1cd6f24",
   "metadata": {},
   "outputs": [
    {
     "data": {
      "image/png": "[encoded data removed]",
      "text/plain": [
       "<Figure size 864x432 with 1 Axes>"
      ]
     },
     "metadata": {
      "needs_background": "light"
     },
     "output_type": "display_data"
    }
   ],
   "source": [
    "sns.displot(data=dfspeed,x='s',kind='kde',height=6,aspect=2)\n",
    "plt.yscale('log')\n",
    "plt.show()"
   ]
  },
  {
   "cell_type": "code",
   "execution_count": 27,
   "id": "ba8b13bc",
   "metadata": {},
   "outputs": [
    {
     "data": {
      "image/png": "[encoded data removed]",
      "text/plain": [
       "<Figure size 864x432 with 1 Axes>"
      ]
     },
     "metadata": {
      "needs_background": "light"
     },
     "output_type": "display_data"
    }
   ],
   "source": [
    "sns.displot(data=dfnew,x='y',height=6,aspect=2)\n",
    "plt.show()"
   ]
  },
  {
   "cell_type": "code",
   "execution_count": 28,
   "id": "a0da4a6c",
   "metadata": {},
   "outputs": [
    {
     "data": {
      "image/png": "[encoded data removed]",
      "text/plain": [
       "<Figure size 864x432 with 1 Axes>"
      ]
     },
     "metadata": {
      "needs_background": "light"
     },
     "output_type": "display_data"
    }
   ],
   "source": [
    "sns.displot(data=dfnew,x='y', kind='kde',height=6,aspect=2)\n",
    "plt.show()"
   ]
  },
  {
   "cell_type": "code",
   "execution_count": 29,
   "id": "f7c3657c",
   "metadata": {},
   "outputs": [],
   "source": [
    "dfevent = dfnew.loc[df['event']!='None']"
   ]
  },
  {
   "cell_type": "code",
   "execution_count": 30,
   "id": "5a3a1b12",
   "metadata": {},
   "outputs": [
    {
     "data": {
      "image/png": "[encoded data removed]",
      "text/plain": [
       "<Figure size 720x360 with 1 Axes>"
      ]
     },
     "metadata": {
      "needs_background": "light"
     },
     "output_type": "display_data"
    }
   ],
   "source": [
    "sns.displot(data=dfevent,x='event',height=5,aspect=2)\n",
    "plt.xticks(rotation=90)\n",
    "plt.show()"
   ]
  },
  {
   "cell_type": "code",
   "execution_count": 32,
   "id": "1728c5ca",
   "metadata": {
    "scrolled": true
   },
   "outputs": [
    {
     "data": {
      "image/png": "[encoded data removed]",
      "text/plain": [
       "<Figure size 864x432 with 1 Axes>"
      ]
     },
     "metadata": {
      "needs_background": "light"
     },
     "output_type": "display_data"
    }
   ],
   "source": [
    "sns.displot(data=dfnew,x='a',kind='kde',height=6,aspect=2)\n",
    "plt.yscale('log')\n",
    "plt.show()"
   ]
  },
  {
   "cell_type": "code",
   "execution_count": 36,
   "id": "2f4ef91d",
   "metadata": {},
   "outputs": [
    {
     "data": {
      "text/plain": [
       "7355267    32.57\n",
       "1480715    31.02\n",
       "7458875    30.98\n",
       "1665416    29.78\n",
       "7355268    28.72\n",
       "Name: a, dtype: float64"
      ]
     },
     "execution_count": 36,
     "metadata": {},
     "output_type": "execute_result"
    }
   ],
   "source": [
    "dfnew['a'].nlargest(5)"
   ]
  },
  {
   "cell_type": "code",
   "execution_count": 34,
   "id": "14239c07",
   "metadata": {
    "scrolled": true
   },
   "outputs": [
    {
     "data": {
      "text/plain": [
       "0.00    121921\n",
       "0.01     25061\n",
       "0.02     14415\n",
       "0.03     10977\n",
       "0.04      8824\n",
       "Name: a, dtype: int64"
      ]
     },
     "execution_count": 34,
     "metadata": {},
     "output_type": "execute_result"
    }
   ],
   "source": [
    "dfnew['a'].value_counts().nlargest(5)"
   ]
  },
  {
   "cell_type": "code",
   "execution_count": 37,
   "id": "b8795692",
   "metadata": {},
   "outputs": [
    {
     "data": {
      "text/plain": [
       "2269281    0.0\n",
       "7961024    0.0\n",
       "6028936    0.0\n",
       "6867857    0.0\n",
       "7316570    0.0\n",
       "Name: a, dtype: float64"
      ]
     },
     "execution_count": 37,
     "metadata": {},
     "output_type": "execute_result"
    }
   ],
   "source": [
    "dfnew['a'].nsmallest(5)"
   ]
  },
  {
   "cell_type": "code",
   "execution_count": 35,
   "id": "4aad2420",
   "metadata": {},
   "outputs": [
    {
     "data": {
      "text/plain": [
       "15.31    1\n",
       "14.87    1\n",
       "15.96    1\n",
       "18.97    1\n",
       "15.53    1\n",
       "Name: a, dtype: int64"
      ]
     },
     "execution_count": 35,
     "metadata": {},
     "output_type": "execute_result"
    }
   ],
   "source": [
    "dfnew['a'].value_counts().nsmallest(5)"
   ]
  },
  {
   "cell_type": "code",
   "execution_count": 38,
   "id": "e19eefb5",
   "metadata": {},
   "outputs": [
    {
     "data": {
      "text/html": [
       "<div>\n",
       "<style scoped>\n",
       "    .dataframe tbody tr th:only-of-type {\n",
       "        vertical-align: middle;\n",
       "    }\n",
       "\n",
       "    .dataframe tbody tr th {\n",
       "        vertical-align: top;\n",
       "    }\n",
       "\n",
       "    .dataframe thead th {\n",
       "        text-align: right;\n",
       "    }\n",
       "</style>\n",
       "<table border=\"1\" class=\"dataframe\">\n",
       "  <thead>\n",
       "    <tr style=\"text-align: right;\">\n",
       "      <th></th>\n",
       "      <th>jerseyNumber</th>\n",
       "      <th>team</th>\n",
       "      <th>playDirection</th>\n",
       "      <th>x</th>\n",
       "      <th>y</th>\n",
       "      <th>s</th>\n",
       "      <th>a</th>\n",
       "      <th>dis</th>\n",
       "      <th>o</th>\n",
       "      <th>dir</th>\n",
       "      <th>event</th>\n",
       "    </tr>\n",
       "  </thead>\n",
       "  <tbody>\n",
       "    <tr>\n",
       "      <th>7256569</th>\n",
       "      <td>1.0</td>\n",
       "      <td>SF</td>\n",
       "      <td>left</td>\n",
       "      <td>22.76</td>\n",
       "      <td>23.27</td>\n",
       "      <td>3.10</td>\n",
       "      <td>0.13</td>\n",
       "      <td>0.31</td>\n",
       "      <td>66.50</td>\n",
       "      <td>291.15</td>\n",
       "      <td>None</td>\n",
       "    </tr>\n",
       "    <tr>\n",
       "      <th>2284710</th>\n",
       "      <td>4.0</td>\n",
       "      <td>WAS</td>\n",
       "      <td>right</td>\n",
       "      <td>30.12</td>\n",
       "      <td>23.87</td>\n",
       "      <td>0.24</td>\n",
       "      <td>2.45</td>\n",
       "      <td>0.01</td>\n",
       "      <td>188.65</td>\n",
       "      <td>123.25</td>\n",
       "      <td>None</td>\n",
       "    </tr>\n",
       "    <tr>\n",
       "      <th>3199082</th>\n",
       "      <td>85.0</td>\n",
       "      <td>SF</td>\n",
       "      <td>left</td>\n",
       "      <td>29.61</td>\n",
       "      <td>17.79</td>\n",
       "      <td>5.38</td>\n",
       "      <td>3.03</td>\n",
       "      <td>0.52</td>\n",
       "      <td>189.23</td>\n",
       "      <td>204.65</td>\n",
       "      <td>None</td>\n",
       "    </tr>\n",
       "    <tr>\n",
       "      <th>5307606</th>\n",
       "      <td>52.0</td>\n",
       "      <td>KC</td>\n",
       "      <td>right</td>\n",
       "      <td>32.83</td>\n",
       "      <td>26.07</td>\n",
       "      <td>2.34</td>\n",
       "      <td>0.54</td>\n",
       "      <td>0.24</td>\n",
       "      <td>118.14</td>\n",
       "      <td>249.92</td>\n",
       "      <td>None</td>\n",
       "    </tr>\n",
       "    <tr>\n",
       "      <th>512644</th>\n",
       "      <td>23.0</td>\n",
       "      <td>HOU</td>\n",
       "      <td>right</td>\n",
       "      <td>49.02</td>\n",
       "      <td>20.04</td>\n",
       "      <td>1.22</td>\n",
       "      <td>4.64</td>\n",
       "      <td>0.12</td>\n",
       "      <td>266.94</td>\n",
       "      <td>159.88</td>\n",
       "      <td>None</td>\n",
       "    </tr>\n",
       "  </tbody>\n",
       "</table>\n",
       "</div>"
      ],
      "text/plain": [
       "         jerseyNumber team playDirection      x      y     s     a   dis  \\\n",
       "7256569           1.0   SF          left  22.76  23.27  3.10  0.13  0.31   \n",
       "2284710           4.0  WAS         right  30.12  23.87  0.24  2.45  0.01   \n",
       "3199082          85.0   SF          left  29.61  17.79  5.38  3.03  0.52   \n",
       "5307606          52.0   KC         right  32.83  26.07  2.34  0.54  0.24   \n",
       "512644           23.0  HOU         right  49.02  20.04  1.22  4.64  0.12   \n",
       "\n",
       "              o     dir event  \n",
       "7256569   66.50  291.15  None  \n",
       "2284710  188.65  123.25  None  \n",
       "3199082  189.23  204.65  None  \n",
       "5307606  118.14  249.92  None  \n",
       "512644   266.94  159.88  None  "
      ]
     },
     "execution_count": 38,
     "metadata": {},
     "output_type": "execute_result"
    }
   ],
   "source": [
    "dfacceleration = dfnew.loc[dfnew['a']!=0.00]\n",
    "dfacceleration.head()"
   ]
  },
  {
   "cell_type": "code",
   "execution_count": 41,
   "id": "742063e6",
   "metadata": {},
   "outputs": [
    {
     "data": {
      "image/png": "[encoded data removed]",
      "text/plain": [
       "<Figure size 864x432 with 1 Axes>"
      ]
     },
     "metadata": {
      "needs_background": "light"
     },
     "output_type": "display_data"
    }
   ],
   "source": [
    "sns.displot(data=dfacceleration,x='a', kind = 'kde',height=6,aspect=2)\n",
    "plt.yscale('log')\n",
    "plt.show()"
   ]
  },
  {
   "cell_type": "code",
   "execution_count": 43,
   "id": "7c34c5c2",
   "metadata": {},
   "outputs": [
    {
     "data": {
      "text/plain": [
       "86     0.0\n",
       "88     0.0\n",
       "89     0.0\n",
       "215    0.0\n",
       "216    0.0\n",
       "Name: dis, dtype: float64"
      ]
     },
     "execution_count": 43,
     "metadata": {},
     "output_type": "execute_result"
    }
   ],
   "source": [
    "df['dis'].nsmallest(5)"
   ]
  },
  {
   "cell_type": "code",
   "execution_count": 44,
   "id": "e5435441",
   "metadata": {},
   "outputs": [
    {
     "data": {
      "text/html": [
       "<div>\n",
       "<style scoped>\n",
       "    .dataframe tbody tr th:only-of-type {\n",
       "        vertical-align: middle;\n",
       "    }\n",
       "\n",
       "    .dataframe tbody tr th {\n",
       "        vertical-align: top;\n",
       "    }\n",
       "\n",
       "    .dataframe thead th {\n",
       "        text-align: right;\n",
       "    }\n",
       "</style>\n",
       "<table border=\"1\" class=\"dataframe\">\n",
       "  <thead>\n",
       "    <tr style=\"text-align: right;\">\n",
       "      <th></th>\n",
       "      <th>jerseyNumber</th>\n",
       "      <th>team</th>\n",
       "      <th>playDirection</th>\n",
       "      <th>x</th>\n",
       "      <th>y</th>\n",
       "      <th>s</th>\n",
       "      <th>a</th>\n",
       "      <th>dis</th>\n",
       "      <th>o</th>\n",
       "      <th>dir</th>\n",
       "      <th>event</th>\n",
       "    </tr>\n",
       "  </thead>\n",
       "  <tbody>\n",
       "    <tr>\n",
       "      <th>7256569</th>\n",
       "      <td>1.0</td>\n",
       "      <td>SF</td>\n",
       "      <td>left</td>\n",
       "      <td>22.76</td>\n",
       "      <td>23.27</td>\n",
       "      <td>3.10</td>\n",
       "      <td>0.13</td>\n",
       "      <td>0.31</td>\n",
       "      <td>66.50</td>\n",
       "      <td>291.15</td>\n",
       "      <td>None</td>\n",
       "    </tr>\n",
       "    <tr>\n",
       "      <th>2284710</th>\n",
       "      <td>4.0</td>\n",
       "      <td>WAS</td>\n",
       "      <td>right</td>\n",
       "      <td>30.12</td>\n",
       "      <td>23.87</td>\n",
       "      <td>0.24</td>\n",
       "      <td>2.45</td>\n",
       "      <td>0.01</td>\n",
       "      <td>188.65</td>\n",
       "      <td>123.25</td>\n",
       "      <td>None</td>\n",
       "    </tr>\n",
       "    <tr>\n",
       "      <th>3199082</th>\n",
       "      <td>85.0</td>\n",
       "      <td>SF</td>\n",
       "      <td>left</td>\n",
       "      <td>29.61</td>\n",
       "      <td>17.79</td>\n",
       "      <td>5.38</td>\n",
       "      <td>3.03</td>\n",
       "      <td>0.52</td>\n",
       "      <td>189.23</td>\n",
       "      <td>204.65</td>\n",
       "      <td>None</td>\n",
       "    </tr>\n",
       "    <tr>\n",
       "      <th>5307606</th>\n",
       "      <td>52.0</td>\n",
       "      <td>KC</td>\n",
       "      <td>right</td>\n",
       "      <td>32.83</td>\n",
       "      <td>26.07</td>\n",
       "      <td>2.34</td>\n",
       "      <td>0.54</td>\n",
       "      <td>0.24</td>\n",
       "      <td>118.14</td>\n",
       "      <td>249.92</td>\n",
       "      <td>None</td>\n",
       "    </tr>\n",
       "    <tr>\n",
       "      <th>512644</th>\n",
       "      <td>23.0</td>\n",
       "      <td>HOU</td>\n",
       "      <td>right</td>\n",
       "      <td>49.02</td>\n",
       "      <td>20.04</td>\n",
       "      <td>1.22</td>\n",
       "      <td>4.64</td>\n",
       "      <td>0.12</td>\n",
       "      <td>266.94</td>\n",
       "      <td>159.88</td>\n",
       "      <td>None</td>\n",
       "    </tr>\n",
       "  </tbody>\n",
       "</table>\n",
       "</div>"
      ],
      "text/plain": [
       "         jerseyNumber team playDirection      x      y     s     a   dis  \\\n",
       "7256569           1.0   SF          left  22.76  23.27  3.10  0.13  0.31   \n",
       "2284710           4.0  WAS         right  30.12  23.87  0.24  2.45  0.01   \n",
       "3199082          85.0   SF          left  29.61  17.79  5.38  3.03  0.52   \n",
       "5307606          52.0   KC         right  32.83  26.07  2.34  0.54  0.24   \n",
       "512644           23.0  HOU         right  49.02  20.04  1.22  4.64  0.12   \n",
       "\n",
       "              o     dir event  \n",
       "7256569   66.50  291.15  None  \n",
       "2284710  188.65  123.25  None  \n",
       "3199082  189.23  204.65  None  \n",
       "5307606  118.14  249.92  None  \n",
       "512644   266.94  159.88  None  "
      ]
     },
     "execution_count": 44,
     "metadata": {},
     "output_type": "execute_result"
    }
   ],
   "source": [
    "dfdis = dfnew.loc[dfnew['dis']!=0.00]\n",
    "dfdis.head()"
   ]
  },
  {
   "cell_type": "code",
   "execution_count": 46,
   "id": "28f1ca40",
   "metadata": {
    "scrolled": true
   },
   "outputs": [
    {
     "data": {
      "image/png": "[encoded data removed]",
      "text/plain": [
       "<Figure size 864x432 with 1 Axes>"
      ]
     },
     "metadata": {
      "needs_background": "light"
     },
     "output_type": "display_data"
    }
   ],
   "source": [
    "sns.displot(data=dfdis,x='dis',kind = 'kde',height=6,aspect=2)\n",
    "plt.yscale('log')\n",
    "plt.show()"
   ]
  },
  {
   "cell_type": "code",
   "execution_count": 47,
   "id": "3b11c80c",
   "metadata": {
    "scrolled": false
   },
   "outputs": [
    {
     "data": {
      "image/png": "[encoded data removed]",
      "text/plain": [
       "<Figure size 864x432 with 1 Axes>"
      ]
     },
     "metadata": {
      "needs_background": "light"
     },
     "output_type": "display_data"
    }
   ],
   "source": [
    "sns.displot(data=dfnew,x='o',kind = 'kde',height=6,aspect=2)\n",
    "plt.yscale('log')\n",
    "plt.show()"
   ]
  },
  {
   "cell_type": "code",
   "execution_count": 49,
   "id": "4d58047e",
   "metadata": {},
   "outputs": [
    {
     "data": {
      "image/png": "[encoded data removed]",
      "text/plain": [
       "<Figure size 864x432 with 1 Axes>"
      ]
     },
     "metadata": {
      "needs_background": "light"
     },
     "output_type": "display_data"
    }
   ],
   "source": [
    "sns.displot(data=dfnew,x='o',kind = 'kde',height=6,aspect=2)\n",
    "plt.show()"
   ]
  },
  {
   "cell_type": "code",
   "execution_count": 48,
   "id": "30b74589",
   "metadata": {
    "scrolled": true
   },
   "outputs": [
    {
     "data": {
      "image/png": "[encoded data removed]",
      "text/plain": [
       "<Figure size 864x432 with 1 Axes>"
      ]
     },
     "metadata": {
      "needs_background": "light"
     },
     "output_type": "display_data"
    }
   ],
   "source": [
    "sns.displot(data=dfnew,x='o',height=6,aspect=2)\n",
    "plt.yscale('log')\n",
    "plt.show()"
   ]
  },
  {
   "cell_type": "code",
   "execution_count": 50,
   "id": "dfd42c02",
   "metadata": {
    "scrolled": true
   },
   "outputs": [
    {
     "data": {
      "image/png": "[encoded data removed]",
      "text/plain": [
       "<Figure size 864x432 with 1 Axes>"
      ]
     },
     "metadata": {
      "needs_background": "light"
     },
     "output_type": "display_data"
    }
   ],
   "source": [
    "sns.displot(data=dfnew,x='o',height=6,aspect=2)\n",
    "plt.show()"
   ]
  },
  {
   "cell_type": "code",
   "execution_count": 51,
   "id": "7465564d",
   "metadata": {},
   "outputs": [
    {
     "data": {
      "image/png": "[encoded data removed]",
      "text/plain": [
       "<Figure size 864x432 with 1 Axes>"
      ]
     },
     "metadata": {
      "needs_background": "light"
     },
     "output_type": "display_data"
    }
   ],
   "source": [
    "sns.displot(data=dfnew,x='dir',kind = 'kde',height=6,aspect=2)\n",
    "plt.yscale('log')\n",
    "plt.show()"
   ]
  },
  {
   "cell_type": "code",
   "execution_count": 52,
   "id": "80628550",
   "metadata": {},
   "outputs": [
    {
     "data": {
      "image/png": "[encoded data removed]",
      "text/plain": [
       "<Figure size 864x432 with 1 Axes>"
      ]
     },
     "metadata": {
      "needs_background": "light"
     },
     "output_type": "display_data"
    }
   ],
   "source": [
    "sns.displot(data=dfnew,x='dir',kind = 'kde',height=6,aspect=2)\n",
    "plt.show()"
   ]
  },
  {
   "cell_type": "code",
   "execution_count": 53,
   "id": "e961a48e",
   "metadata": {},
   "outputs": [
    {
     "data": {
      "image/png": "[encoded data removed]",
      "text/plain": [
       "<Figure size 864x432 with 1 Axes>"
      ]
     },
     "metadata": {
      "needs_background": "light"
     },
     "output_type": "display_data"
    }
   ],
   "source": [
    "sns.displot(data=dfnew,x='dir',height=6,aspect=2)\n",
    "plt.show()"
   ]
  },
  {
   "cell_type": "code",
   "execution_count": 54,
   "id": "17a70bff",
   "metadata": {
    "scrolled": true
   },
   "outputs": [
    {
     "data": {
      "image/png": "[encoded data removed]",
      "text/plain": [
       "<Figure size 864x432 with 1 Axes>"
      ]
     },
     "metadata": {
      "needs_background": "light"
     },
     "output_type": "display_data"
    }
   ],
   "source": [
    "sns.displot(data=dfnew,x='dir',height=6,aspect=2)\n",
    "plt.yscale('log')\n",
    "plt.show()"
   ]
  },
  {
   "cell_type": "code",
   "execution_count": null,
   "id": "367b4dba",
   "metadata": {},
   "outputs": [],
   "source": [
    "for col in dfnew.columns:\n",
    "    if col in numeric_feature:\n",
    "        try:\n",
    "            fig = plt.figure()\n",
    "            ax = fig.add_subplot()\n",
    "            ax.hist(dfnew[col])\n",
    "            ax.set_xlabel(col)\n",
    "            ax.set_ylabel('Frequency')\n",
    "            ax.set_title('Distribution of values')\n",
    "            plt.savefig(f'hist_{col}.png')\n",
    "        except:\n",
    "            print(f'Error: hist_{col}.png' )\n",
    "        "
   ]
  },
  {
   "cell_type": "code",
   "execution_count": null,
   "id": "bf3e989e",
   "metadata": {},
   "outputs": [],
   "source": [
    "for col in dfnew.columns:\n",
    "    if col in numeric_feature:\n",
    "        try:\n",
    "            fig = plt.figure()\n",
    "            ax = fig.add_subplot()\n",
    "            ax.boxplot(dfnew[col])\n",
    "            ax.set_xlabel(col)\n",
    "            ax.set_ylabel('values')\n",
    "            ax.set_title('Outlier analysis')\n",
    "            plt.savefig(f'box_{col}.png')\n",
    "        except:\n",
    "            print(f'Error: box_{col}.png' )"
   ]
  },
  {
   "cell_type": "code",
   "execution_count": null,
   "id": "4b713607",
   "metadata": {},
   "outputs": [],
   "source": []
  }
 ],
 "metadata": {
  "kernelspec": {
   "display_name": "Python 3 (ipykernel)",
   "language": "python",
   "name": "python3"
  },
  "language_info": {
   "codemirror_mode": {
    "name": "ipython",
    "version": 3
   },
   "file_extension": ".py",
   "mimetype": "text/x-python",
   "name": "python",
   "nbconvert_exporter": "python",
   "pygments_lexer": "ipython3",
   "version": "3.9.12"
  }
 },
 "nbformat": 4,
 "nbformat_minor": 5
}
