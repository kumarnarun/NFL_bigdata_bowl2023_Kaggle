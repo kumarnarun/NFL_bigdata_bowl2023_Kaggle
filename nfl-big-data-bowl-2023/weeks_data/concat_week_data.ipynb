{
 "cells": [
  {
   "cell_type": "code",
   "execution_count": 2,
   "id": "988d12dd",
   "metadata": {},
   "outputs": [],
   "source": [
    "import pandas as pd\n",
    "import gc\n",
    "import glob\n",
    "import os"
   ]
  },
  {
   "cell_type": "code",
   "execution_count": null,
   "id": "2899dd6e",
   "metadata": {},
   "outputs": [],
   "source": [
    "for col in dfz2.columns:\n",
    "    if col == 'time':\n",
    "        dfz2[col] = dfz2[col].astype('datetime64')\n",
    "    if dfz2[col].dtype == 'object':\n",
    "        dfz2[col] = dfz2[col].astype('category')"
   ]
  },
  {
   "cell_type": "code",
   "execution_count": 4,
   "id": "25e687e1",
   "metadata": {},
   "outputs": [],
   "source": [
    "all_files = glob.glob(\"*.csv\")\n",
    "grouped_files = []\n",
    "\n",
    "for filename in all_files:\n",
    "    chunk = pd.read_csv(filename, index_col=None, header=0)\n",
    "    for col in chunk.columns:\n",
    "        if col == 'time':\n",
    "            chunk[col] = chunk[col].astype('datetime64')\n",
    "        if chunk[col].dtype == 'object':\n",
    "            chunk[col] = chunk[col].astype('category')\n",
    "    gc.collect()\n",
    "    grouped_files.append(chunk)\n",
    "\n",
    "    df = pd.concat(grouped_files, axis=0, ignore_index=True)"
   ]
  },
  {
   "cell_type": "code",
   "execution_count": 5,
   "id": "1d033e37",
   "metadata": {},
   "outputs": [
    {
     "data": {
      "text/html": [
       "<div>\n",
       "<style scoped>\n",
       "    .dataframe tbody tr th:only-of-type {\n",
       "        vertical-align: middle;\n",
       "    }\n",
       "\n",
       "    .dataframe tbody tr th {\n",
       "        vertical-align: top;\n",
       "    }\n",
       "\n",
       "    .dataframe thead th {\n",
       "        text-align: right;\n",
       "    }\n",
       "</style>\n",
       "<table border=\"1\" class=\"dataframe\">\n",
       "  <thead>\n",
       "    <tr style=\"text-align: right;\">\n",
       "      <th></th>\n",
       "      <th>gameId</th>\n",
       "      <th>playId</th>\n",
       "      <th>nflId</th>\n",
       "      <th>frameId</th>\n",
       "      <th>time</th>\n",
       "      <th>jerseyNumber</th>\n",
       "      <th>team</th>\n",
       "      <th>playDirection</th>\n",
       "      <th>x</th>\n",
       "      <th>y</th>\n",
       "      <th>s</th>\n",
       "      <th>a</th>\n",
       "      <th>dis</th>\n",
       "      <th>o</th>\n",
       "      <th>dir</th>\n",
       "      <th>event</th>\n",
       "    </tr>\n",
       "  </thead>\n",
       "  <tbody>\n",
       "    <tr>\n",
       "      <th>0</th>\n",
       "      <td>2021090900</td>\n",
       "      <td>97</td>\n",
       "      <td>25511.0</td>\n",
       "      <td>1</td>\n",
       "      <td>2021-09-10 00:26:31.100</td>\n",
       "      <td>12.0</td>\n",
       "      <td>TB</td>\n",
       "      <td>right</td>\n",
       "      <td>37.77</td>\n",
       "      <td>24.22</td>\n",
       "      <td>0.29</td>\n",
       "      <td>0.30</td>\n",
       "      <td>0.03</td>\n",
       "      <td>165.16</td>\n",
       "      <td>84.99</td>\n",
       "      <td>None</td>\n",
       "    </tr>\n",
       "    <tr>\n",
       "      <th>1</th>\n",
       "      <td>2021090900</td>\n",
       "      <td>97</td>\n",
       "      <td>25511.0</td>\n",
       "      <td>2</td>\n",
       "      <td>2021-09-10 00:26:31.200</td>\n",
       "      <td>12.0</td>\n",
       "      <td>TB</td>\n",
       "      <td>right</td>\n",
       "      <td>37.78</td>\n",
       "      <td>24.22</td>\n",
       "      <td>0.23</td>\n",
       "      <td>0.11</td>\n",
       "      <td>0.02</td>\n",
       "      <td>164.33</td>\n",
       "      <td>92.87</td>\n",
       "      <td>None</td>\n",
       "    </tr>\n",
       "    <tr>\n",
       "      <th>2</th>\n",
       "      <td>2021090900</td>\n",
       "      <td>97</td>\n",
       "      <td>25511.0</td>\n",
       "      <td>3</td>\n",
       "      <td>2021-09-10 00:26:31.300</td>\n",
       "      <td>12.0</td>\n",
       "      <td>TB</td>\n",
       "      <td>right</td>\n",
       "      <td>37.78</td>\n",
       "      <td>24.24</td>\n",
       "      <td>0.16</td>\n",
       "      <td>0.10</td>\n",
       "      <td>0.01</td>\n",
       "      <td>160.24</td>\n",
       "      <td>68.55</td>\n",
       "      <td>None</td>\n",
       "    </tr>\n",
       "    <tr>\n",
       "      <th>3</th>\n",
       "      <td>2021090900</td>\n",
       "      <td>97</td>\n",
       "      <td>25511.0</td>\n",
       "      <td>4</td>\n",
       "      <td>2021-09-10 00:26:31.400</td>\n",
       "      <td>12.0</td>\n",
       "      <td>TB</td>\n",
       "      <td>right</td>\n",
       "      <td>37.73</td>\n",
       "      <td>24.25</td>\n",
       "      <td>0.15</td>\n",
       "      <td>0.24</td>\n",
       "      <td>0.06</td>\n",
       "      <td>152.13</td>\n",
       "      <td>296.85</td>\n",
       "      <td>None</td>\n",
       "    </tr>\n",
       "    <tr>\n",
       "      <th>4</th>\n",
       "      <td>2021090900</td>\n",
       "      <td>97</td>\n",
       "      <td>25511.0</td>\n",
       "      <td>5</td>\n",
       "      <td>2021-09-10 00:26:31.500</td>\n",
       "      <td>12.0</td>\n",
       "      <td>TB</td>\n",
       "      <td>right</td>\n",
       "      <td>37.69</td>\n",
       "      <td>24.26</td>\n",
       "      <td>0.25</td>\n",
       "      <td>0.18</td>\n",
       "      <td>0.04</td>\n",
       "      <td>148.33</td>\n",
       "      <td>287.55</td>\n",
       "      <td>None</td>\n",
       "    </tr>\n",
       "  </tbody>\n",
       "</table>\n",
       "</div>"
      ],
      "text/plain": [
       "       gameId  playId    nflId  frameId                    time  jerseyNumber  \\\n",
       "0  2021090900      97  25511.0        1 2021-09-10 00:26:31.100          12.0   \n",
       "1  2021090900      97  25511.0        2 2021-09-10 00:26:31.200          12.0   \n",
       "2  2021090900      97  25511.0        3 2021-09-10 00:26:31.300          12.0   \n",
       "3  2021090900      97  25511.0        4 2021-09-10 00:26:31.400          12.0   \n",
       "4  2021090900      97  25511.0        5 2021-09-10 00:26:31.500          12.0   \n",
       "\n",
       "  team playDirection      x      y     s     a   dis       o     dir event  \n",
       "0   TB         right  37.77  24.22  0.29  0.30  0.03  165.16   84.99  None  \n",
       "1   TB         right  37.78  24.22  0.23  0.11  0.02  164.33   92.87  None  \n",
       "2   TB         right  37.78  24.24  0.16  0.10  0.01  160.24   68.55  None  \n",
       "3   TB         right  37.73  24.25  0.15  0.24  0.06  152.13  296.85  None  \n",
       "4   TB         right  37.69  24.26  0.25  0.18  0.04  148.33  287.55  None  "
      ]
     },
     "execution_count": 5,
     "metadata": {},
     "output_type": "execute_result"
    }
   ],
   "source": [
    "df.head()"
   ]
  },
  {
   "cell_type": "code",
   "execution_count": 6,
   "id": "a43183c6",
   "metadata": {},
   "outputs": [
    {
     "data": {
      "text/plain": [
       "(8314178, 16)"
      ]
     },
     "execution_count": 6,
     "metadata": {},
     "output_type": "execute_result"
    }
   ],
   "source": [
    "df.shape"
   ]
  },
  {
   "cell_type": "code",
   "execution_count": 7,
   "id": "9fe0522f",
   "metadata": {},
   "outputs": [
    {
     "data": {
      "text/plain": [
       "gameId                    int64\n",
       "playId                    int64\n",
       "nflId                   float64\n",
       "frameId                   int64\n",
       "time             datetime64[ns]\n",
       "jerseyNumber            float64\n",
       "team                     object\n",
       "playDirection          category\n",
       "x                       float64\n",
       "y                       float64\n",
       "s                       float64\n",
       "a                       float64\n",
       "dis                     float64\n",
       "o                       float64\n",
       "dir                     float64\n",
       "event                    object\n",
       "dtype: object"
      ]
     },
     "execution_count": 7,
     "metadata": {},
     "output_type": "execute_result"
    }
   ],
   "source": [
    "df.dtypes"
   ]
  },
  {
   "cell_type": "code",
   "execution_count": 8,
   "id": "c6b3b55f",
   "metadata": {},
   "outputs": [
    {
     "name": "stdout",
     "output_type": "stream",
     "text": [
      "gameId-122\n",
      "playId-3762\n",
      "nflId-1679\n",
      "frameId-203\n",
      "time-339484\n",
      "jerseyNumber-99\n",
      "team-33\n",
      "playDirection-2\n",
      "x-12069\n",
      "y-5741\n",
      "s-2734\n",
      "a-2209\n",
      "dis-667\n",
      "o-36001\n",
      "dir-36001\n",
      "event-27\n"
     ]
    }
   ],
   "source": [
    "for col in df.columns:\n",
    "    \n",
    "    print(f'{col}-{df[col].nunique()}')"
   ]
  },
  {
   "cell_type": "code",
   "execution_count": 11,
   "id": "58dd89ca",
   "metadata": {},
   "outputs": [
    {
     "data": {
      "text/plain": [
       "Index                  128\n",
       "gameId            66513424\n",
       "playId            66513424\n",
       "nflId             66513424\n",
       "frameId           66513424\n",
       "time              66513424\n",
       "jerseyNumber      66513424\n",
       "team             498652359\n",
       "playDirection      8314409\n",
       "x                 66513424\n",
       "y                 66513424\n",
       "s                 66513424\n",
       "a                 66513424\n",
       "dis               66513424\n",
       "o                 66513424\n",
       "dir               66513424\n",
       "event            512843995\n",
       "dtype: int64"
      ]
     },
     "execution_count": 11,
     "metadata": {},
     "output_type": "execute_result"
    }
   ],
   "source": [
    "df.memory_usage(deep =True)"
   ]
  },
  {
   "cell_type": "code",
   "execution_count": 12,
   "id": "5eb7f1f9",
   "metadata": {},
   "outputs": [
    {
     "name": "stdout",
     "output_type": "stream",
     "text": [
      "<class 'pandas.core.frame.DataFrame'>\n",
      "RangeIndex: 8314178 entries, 0 to 8314177\n",
      "Data columns (total 16 columns):\n",
      " #   Column         Dtype         \n",
      "---  ------         -----         \n",
      " 0   gameId         int64         \n",
      " 1   playId         int64         \n",
      " 2   nflId          float64       \n",
      " 3   frameId        int64         \n",
      " 4   time           datetime64[ns]\n",
      " 5   jerseyNumber   float64       \n",
      " 6   team           object        \n",
      " 7   playDirection  category      \n",
      " 8   x              float64       \n",
      " 9   y              float64       \n",
      " 10  s              float64       \n",
      " 11  a              float64       \n",
      " 12  dis            float64       \n",
      " 13  o              float64       \n",
      " 14  dir            float64       \n",
      " 15  event          object        \n",
      "dtypes: category(1), datetime64[ns](1), float64(9), int64(3), object(2)\n",
      "memory usage: 959.4+ MB\n"
     ]
    }
   ],
   "source": [
    "df.info()"
   ]
  },
  {
   "cell_type": "code",
   "execution_count": 13,
   "id": "5746e00b",
   "metadata": {},
   "outputs": [],
   "source": [
    "df.to_feather(\"optimised_amex.feather\")"
   ]
  },
  {
   "cell_type": "code",
   "execution_count": 14,
   "id": "3a654539",
   "metadata": {},
   "outputs": [],
   "source": [
    "df.to_csv(\"optimised_amex.csv\")"
   ]
  },
  {
   "cell_type": "code",
   "execution_count": null,
   "id": "32773546",
   "metadata": {},
   "outputs": [],
   "source": []
  }
 ],
 "metadata": {
  "kernelspec": {
   "display_name": "Python 3 (ipykernel)",
   "language": "python",
   "name": "python3"
  },
  "language_info": {
   "codemirror_mode": {
    "name": "ipython",
    "version": 3
   },
   "file_extension": ".py",
   "mimetype": "text/x-python",
   "name": "python",
   "nbconvert_exporter": "python",
   "pygments_lexer": "ipython3",
   "version": "3.9.12"
  }
 },
 "nbformat": 4,
 "nbformat_minor": 5
}
