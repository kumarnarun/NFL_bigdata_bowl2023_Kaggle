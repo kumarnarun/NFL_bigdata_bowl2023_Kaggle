{
 "cells": [
  {
   "cell_type": "code",
   "execution_count": 5,
   "id": "a59c4f84",
   "metadata": {},
   "outputs": [],
   "source": [
    "import pandas as pd\n",
    "import numpy as np\n",
    "import matplotlib.pyplot as plt\n",
    "import seaborn as sns"
   ]
  },
  {
   "cell_type": "code",
   "execution_count": 6,
   "id": "28a242b0",
   "metadata": {},
   "outputs": [
    {
     "data": {
      "text/html": [
       "<div>\n",
       "<style scoped>\n",
       "    .dataframe tbody tr th:only-of-type {\n",
       "        vertical-align: middle;\n",
       "    }\n",
       "\n",
       "    .dataframe tbody tr th {\n",
       "        vertical-align: top;\n",
       "    }\n",
       "\n",
       "    .dataframe thead th {\n",
       "        text-align: right;\n",
       "    }\n",
       "</style>\n",
       "<table border=\"1\" class=\"dataframe\">\n",
       "  <thead>\n",
       "    <tr style=\"text-align: right;\">\n",
       "      <th></th>\n",
       "      <th>gameId</th>\n",
       "      <th>season</th>\n",
       "      <th>week</th>\n",
       "      <th>gameDate</th>\n",
       "      <th>gameTimeEastern</th>\n",
       "      <th>homeTeamAbbr</th>\n",
       "      <th>visitorTeamAbbr</th>\n",
       "      <th>playId</th>\n",
       "      <th>nflId</th>\n",
       "      <th>pff_role</th>\n",
       "      <th>...</th>\n",
       "      <th>team</th>\n",
       "      <th>playDirection</th>\n",
       "      <th>x</th>\n",
       "      <th>y</th>\n",
       "      <th>s</th>\n",
       "      <th>a</th>\n",
       "      <th>dis</th>\n",
       "      <th>o</th>\n",
       "      <th>dir</th>\n",
       "      <th>event</th>\n",
       "    </tr>\n",
       "  </thead>\n",
       "  <tbody>\n",
       "    <tr>\n",
       "      <th>0</th>\n",
       "      <td>2021090900</td>\n",
       "      <td>2021</td>\n",
       "      <td>1</td>\n",
       "      <td>09/09/2021</td>\n",
       "      <td>20:20:00</td>\n",
       "      <td>TB</td>\n",
       "      <td>DAL</td>\n",
       "      <td>97</td>\n",
       "      <td>25511</td>\n",
       "      <td>Pass</td>\n",
       "      <td>...</td>\n",
       "      <td>TB</td>\n",
       "      <td>right</td>\n",
       "      <td>37.77</td>\n",
       "      <td>24.22</td>\n",
       "      <td>0.29</td>\n",
       "      <td>0.30</td>\n",
       "      <td>0.03</td>\n",
       "      <td>165.16</td>\n",
       "      <td>84.99</td>\n",
       "      <td>None</td>\n",
       "    </tr>\n",
       "    <tr>\n",
       "      <th>1</th>\n",
       "      <td>2021090900</td>\n",
       "      <td>2021</td>\n",
       "      <td>1</td>\n",
       "      <td>09/09/2021</td>\n",
       "      <td>20:20:00</td>\n",
       "      <td>TB</td>\n",
       "      <td>DAL</td>\n",
       "      <td>97</td>\n",
       "      <td>25511</td>\n",
       "      <td>Pass</td>\n",
       "      <td>...</td>\n",
       "      <td>TB</td>\n",
       "      <td>right</td>\n",
       "      <td>37.78</td>\n",
       "      <td>24.22</td>\n",
       "      <td>0.23</td>\n",
       "      <td>0.11</td>\n",
       "      <td>0.02</td>\n",
       "      <td>164.33</td>\n",
       "      <td>92.87</td>\n",
       "      <td>None</td>\n",
       "    </tr>\n",
       "    <tr>\n",
       "      <th>2</th>\n",
       "      <td>2021090900</td>\n",
       "      <td>2021</td>\n",
       "      <td>1</td>\n",
       "      <td>09/09/2021</td>\n",
       "      <td>20:20:00</td>\n",
       "      <td>TB</td>\n",
       "      <td>DAL</td>\n",
       "      <td>97</td>\n",
       "      <td>25511</td>\n",
       "      <td>Pass</td>\n",
       "      <td>...</td>\n",
       "      <td>TB</td>\n",
       "      <td>right</td>\n",
       "      <td>37.78</td>\n",
       "      <td>24.24</td>\n",
       "      <td>0.16</td>\n",
       "      <td>0.10</td>\n",
       "      <td>0.01</td>\n",
       "      <td>160.24</td>\n",
       "      <td>68.55</td>\n",
       "      <td>None</td>\n",
       "    </tr>\n",
       "    <tr>\n",
       "      <th>3</th>\n",
       "      <td>2021090900</td>\n",
       "      <td>2021</td>\n",
       "      <td>1</td>\n",
       "      <td>09/09/2021</td>\n",
       "      <td>20:20:00</td>\n",
       "      <td>TB</td>\n",
       "      <td>DAL</td>\n",
       "      <td>97</td>\n",
       "      <td>25511</td>\n",
       "      <td>Pass</td>\n",
       "      <td>...</td>\n",
       "      <td>TB</td>\n",
       "      <td>right</td>\n",
       "      <td>37.73</td>\n",
       "      <td>24.25</td>\n",
       "      <td>0.15</td>\n",
       "      <td>0.24</td>\n",
       "      <td>0.06</td>\n",
       "      <td>152.13</td>\n",
       "      <td>296.85</td>\n",
       "      <td>None</td>\n",
       "    </tr>\n",
       "    <tr>\n",
       "      <th>4</th>\n",
       "      <td>2021090900</td>\n",
       "      <td>2021</td>\n",
       "      <td>1</td>\n",
       "      <td>09/09/2021</td>\n",
       "      <td>20:20:00</td>\n",
       "      <td>TB</td>\n",
       "      <td>DAL</td>\n",
       "      <td>97</td>\n",
       "      <td>25511</td>\n",
       "      <td>Pass</td>\n",
       "      <td>...</td>\n",
       "      <td>TB</td>\n",
       "      <td>right</td>\n",
       "      <td>37.69</td>\n",
       "      <td>24.26</td>\n",
       "      <td>0.25</td>\n",
       "      <td>0.18</td>\n",
       "      <td>0.04</td>\n",
       "      <td>148.33</td>\n",
       "      <td>287.55</td>\n",
       "      <td>None</td>\n",
       "    </tr>\n",
       "  </tbody>\n",
       "</table>\n",
       "<p>5 rows × 70 columns</p>\n",
       "</div>"
      ],
      "text/plain": [
       "       gameId  season  week    gameDate gameTimeEastern homeTeamAbbr  \\\n",
       "0  2021090900    2021     1  09/09/2021        20:20:00           TB   \n",
       "1  2021090900    2021     1  09/09/2021        20:20:00           TB   \n",
       "2  2021090900    2021     1  09/09/2021        20:20:00           TB   \n",
       "3  2021090900    2021     1  09/09/2021        20:20:00           TB   \n",
       "4  2021090900    2021     1  09/09/2021        20:20:00           TB   \n",
       "\n",
       "  visitorTeamAbbr  playId  nflId pff_role  ... team  playDirection      x  \\\n",
       "0             DAL      97  25511     Pass  ...   TB          right  37.77   \n",
       "1             DAL      97  25511     Pass  ...   TB          right  37.78   \n",
       "2             DAL      97  25511     Pass  ...   TB          right  37.78   \n",
       "3             DAL      97  25511     Pass  ...   TB          right  37.73   \n",
       "4             DAL      97  25511     Pass  ...   TB          right  37.69   \n",
       "\n",
       "       y     s     a   dis       o     dir event  \n",
       "0  24.22  0.29  0.30  0.03  165.16   84.99  None  \n",
       "1  24.22  0.23  0.11  0.02  164.33   92.87  None  \n",
       "2  24.24  0.16  0.10  0.01  160.24   68.55  None  \n",
       "3  24.25  0.15  0.24  0.06  152.13  296.85  None  \n",
       "4  24.26  0.25  0.18  0.04  148.33  287.55  None  \n",
       "\n",
       "[5 rows x 70 columns]"
      ]
     },
     "execution_count": 6,
     "metadata": {},
     "output_type": "execute_result"
    }
   ],
   "source": [
    "df = pd.read_feather('optimized_alldata.feather')\n",
    "df.head()"
   ]
  },
  {
   "cell_type": "code",
   "execution_count": 7,
   "id": "df9f32b3",
   "metadata": {},
   "outputs": [
    {
     "name": "stdout",
     "output_type": "stream",
     "text": [
      "<class 'pandas.core.frame.DataFrame'>\n",
      "Int64Index: 7952692 entries, 0 to 7952691\n",
      "Data columns (total 70 columns):\n",
      " #   Column                  Dtype         \n",
      "---  ------                  -----         \n",
      " 0   gameId                  int64         \n",
      " 1   season                  int64         \n",
      " 2   week                    int64         \n",
      " 3   gameDate                object        \n",
      " 4   gameTimeEastern         object        \n",
      " 5   homeTeamAbbr            object        \n",
      " 6   visitorTeamAbbr         object        \n",
      " 7   playId                  int64         \n",
      " 8   nflId                   int64         \n",
      " 9   pff_role                object        \n",
      " 10  pff_positionLinedUp     object        \n",
      " 11  pff_hit                 float64       \n",
      " 12  pff_hurry               float64       \n",
      " 13  pff_sack                float64       \n",
      " 14  pff_beatenByDefender    float64       \n",
      " 15  pff_hitAllowed          float64       \n",
      " 16  pff_hurryAllowed        float64       \n",
      " 17  pff_sackAllowed         float64       \n",
      " 18  pff_nflIdBlockedPlayer  float64       \n",
      " 19  pff_blockType           object        \n",
      " 20  pff_backFieldBlock      float64       \n",
      " 21  height                  object        \n",
      " 22  weight                  int64         \n",
      " 23  birthDate               object        \n",
      " 24  collegeName             object        \n",
      " 25  officialPosition        object        \n",
      " 26  displayName             object        \n",
      " 27  playDescription         object        \n",
      " 28  quarter                 int64         \n",
      " 29  down                    int64         \n",
      " 30  yardsToGo               int64         \n",
      " 31  possessionTeam          object        \n",
      " 32  defensiveTeam           object        \n",
      " 33  yardlineSide            object        \n",
      " 34  yardlineNumber          int64         \n",
      " 35  gameClock               object        \n",
      " 36  preSnapHomeScore        int64         \n",
      " 37  preSnapVisitorScore     int64         \n",
      " 38  passResult              object        \n",
      " 39  penaltyYards            float64       \n",
      " 40  prePenaltyPlayResult    int64         \n",
      " 41  playResult              int64         \n",
      " 42  foulName1               object        \n",
      " 43  foulNFLId1              float64       \n",
      " 44  foulName2               object        \n",
      " 45  foulNFLId2              float64       \n",
      " 46  foulName3               object        \n",
      " 47  foulNFLId3              float64       \n",
      " 48  absoluteYardlineNumber  float64       \n",
      " 49  offenseFormation        object        \n",
      " 50  personnelO              object        \n",
      " 51  defendersInBox          float64       \n",
      " 52  personnelD              object        \n",
      " 53  dropBackType            object        \n",
      " 54  pff_playAction          int64         \n",
      " 55  pff_passCoverage        object        \n",
      " 56  pff_passCoverageType    object        \n",
      " 57  frameId                 int64         \n",
      " 58  time                    datetime64[ns]\n",
      " 59  jerseyNumber            float64       \n",
      " 60  team                    object        \n",
      " 61  playDirection           category      \n",
      " 62  x                       float64       \n",
      " 63  y                       float64       \n",
      " 64  s                       float64       \n",
      " 65  a                       float64       \n",
      " 66  dis                     float64       \n",
      " 67  o                       float64       \n",
      " 68  dir                     float64       \n",
      " 69  event                   object        \n",
      "dtypes: category(1), datetime64[ns](1), float64(23), int64(16), object(29)\n",
      "memory usage: 4.2+ GB\n"
     ]
    }
   ],
   "source": [
    "df.info()"
   ]
  },
  {
   "cell_type": "code",
   "execution_count": 8,
   "id": "a2e1f4a7",
   "metadata": {},
   "outputs": [
    {
     "data": {
      "text/plain": [
       "gameId               122\n",
       "season                 1\n",
       "week                   8\n",
       "gameDate              24\n",
       "gameTimeEastern        6\n",
       "                   ...  \n",
       "a                   1165\n",
       "dis                  162\n",
       "o                  36001\n",
       "dir                36001\n",
       "event                 27\n",
       "Length: 70, dtype: int64"
      ]
     },
     "execution_count": 8,
     "metadata": {},
     "output_type": "execute_result"
    }
   ],
   "source": [
    "df.nunique()"
   ]
  },
  {
   "cell_type": "code",
   "execution_count": 9,
   "id": "5da2b72f",
   "metadata": {},
   "outputs": [
    {
     "data": {
      "text/html": [
       "<div>\n",
       "<style scoped>\n",
       "    .dataframe tbody tr th:only-of-type {\n",
       "        vertical-align: middle;\n",
       "    }\n",
       "\n",
       "    .dataframe tbody tr th {\n",
       "        vertical-align: top;\n",
       "    }\n",
       "\n",
       "    .dataframe thead th {\n",
       "        text-align: right;\n",
       "    }\n",
       "</style>\n",
       "<table border=\"1\" class=\"dataframe\">\n",
       "  <thead>\n",
       "    <tr style=\"text-align: right;\">\n",
       "      <th></th>\n",
       "      <th>team</th>\n",
       "      <th>playDirection</th>\n",
       "      <th>x</th>\n",
       "      <th>y</th>\n",
       "      <th>s</th>\n",
       "      <th>a</th>\n",
       "      <th>dis</th>\n",
       "      <th>o</th>\n",
       "      <th>dir</th>\n",
       "    </tr>\n",
       "  </thead>\n",
       "  <tbody>\n",
       "    <tr>\n",
       "      <th>0</th>\n",
       "      <td>TB</td>\n",
       "      <td>right</td>\n",
       "      <td>37.77</td>\n",
       "      <td>24.22</td>\n",
       "      <td>0.29</td>\n",
       "      <td>0.30</td>\n",
       "      <td>0.03</td>\n",
       "      <td>165.16</td>\n",
       "      <td>84.99</td>\n",
       "    </tr>\n",
       "    <tr>\n",
       "      <th>1</th>\n",
       "      <td>TB</td>\n",
       "      <td>right</td>\n",
       "      <td>37.78</td>\n",
       "      <td>24.22</td>\n",
       "      <td>0.23</td>\n",
       "      <td>0.11</td>\n",
       "      <td>0.02</td>\n",
       "      <td>164.33</td>\n",
       "      <td>92.87</td>\n",
       "    </tr>\n",
       "    <tr>\n",
       "      <th>2</th>\n",
       "      <td>TB</td>\n",
       "      <td>right</td>\n",
       "      <td>37.78</td>\n",
       "      <td>24.24</td>\n",
       "      <td>0.16</td>\n",
       "      <td>0.10</td>\n",
       "      <td>0.01</td>\n",
       "      <td>160.24</td>\n",
       "      <td>68.55</td>\n",
       "    </tr>\n",
       "    <tr>\n",
       "      <th>3</th>\n",
       "      <td>TB</td>\n",
       "      <td>right</td>\n",
       "      <td>37.73</td>\n",
       "      <td>24.25</td>\n",
       "      <td>0.15</td>\n",
       "      <td>0.24</td>\n",
       "      <td>0.06</td>\n",
       "      <td>152.13</td>\n",
       "      <td>296.85</td>\n",
       "    </tr>\n",
       "    <tr>\n",
       "      <th>4</th>\n",
       "      <td>TB</td>\n",
       "      <td>right</td>\n",
       "      <td>37.69</td>\n",
       "      <td>24.26</td>\n",
       "      <td>0.25</td>\n",
       "      <td>0.18</td>\n",
       "      <td>0.04</td>\n",
       "      <td>148.33</td>\n",
       "      <td>287.55</td>\n",
       "    </tr>\n",
       "    <tr>\n",
       "      <th>...</th>\n",
       "      <td>...</td>\n",
       "      <td>...</td>\n",
       "      <td>...</td>\n",
       "      <td>...</td>\n",
       "      <td>...</td>\n",
       "      <td>...</td>\n",
       "      <td>...</td>\n",
       "      <td>...</td>\n",
       "      <td>...</td>\n",
       "    </tr>\n",
       "    <tr>\n",
       "      <th>7952687</th>\n",
       "      <td>BAL</td>\n",
       "      <td>right</td>\n",
       "      <td>37.22</td>\n",
       "      <td>24.69</td>\n",
       "      <td>1.68</td>\n",
       "      <td>0.82</td>\n",
       "      <td>0.17</td>\n",
       "      <td>64.60</td>\n",
       "      <td>76.33</td>\n",
       "    </tr>\n",
       "    <tr>\n",
       "      <th>7952688</th>\n",
       "      <td>BAL</td>\n",
       "      <td>right</td>\n",
       "      <td>37.38</td>\n",
       "      <td>24.74</td>\n",
       "      <td>1.67</td>\n",
       "      <td>0.64</td>\n",
       "      <td>0.16</td>\n",
       "      <td>68.26</td>\n",
       "      <td>73.61</td>\n",
       "    </tr>\n",
       "    <tr>\n",
       "      <th>7952689</th>\n",
       "      <td>BAL</td>\n",
       "      <td>right</td>\n",
       "      <td>37.53</td>\n",
       "      <td>24.77</td>\n",
       "      <td>1.60</td>\n",
       "      <td>0.69</td>\n",
       "      <td>0.16</td>\n",
       "      <td>73.86</td>\n",
       "      <td>73.56</td>\n",
       "    </tr>\n",
       "    <tr>\n",
       "      <th>7952690</th>\n",
       "      <td>BAL</td>\n",
       "      <td>right</td>\n",
       "      <td>37.67</td>\n",
       "      <td>24.80</td>\n",
       "      <td>1.48</td>\n",
       "      <td>1.00</td>\n",
       "      <td>0.15</td>\n",
       "      <td>80.84</td>\n",
       "      <td>75.27</td>\n",
       "    </tr>\n",
       "    <tr>\n",
       "      <th>7952691</th>\n",
       "      <td>BAL</td>\n",
       "      <td>right</td>\n",
       "      <td>37.81</td>\n",
       "      <td>24.84</td>\n",
       "      <td>1.33</td>\n",
       "      <td>1.29</td>\n",
       "      <td>0.14</td>\n",
       "      <td>84.50</td>\n",
       "      <td>75.27</td>\n",
       "    </tr>\n",
       "  </tbody>\n",
       "</table>\n",
       "<p>7952692 rows × 9 columns</p>\n",
       "</div>"
      ],
      "text/plain": [
       "        team playDirection      x      y     s     a   dis       o     dir\n",
       "0         TB         right  37.77  24.22  0.29  0.30  0.03  165.16   84.99\n",
       "1         TB         right  37.78  24.22  0.23  0.11  0.02  164.33   92.87\n",
       "2         TB         right  37.78  24.24  0.16  0.10  0.01  160.24   68.55\n",
       "3         TB         right  37.73  24.25  0.15  0.24  0.06  152.13  296.85\n",
       "4         TB         right  37.69  24.26  0.25  0.18  0.04  148.33  287.55\n",
       "...      ...           ...    ...    ...   ...   ...   ...     ...     ...\n",
       "7952687  BAL         right  37.22  24.69  1.68  0.82  0.17   64.60   76.33\n",
       "7952688  BAL         right  37.38  24.74  1.67  0.64  0.16   68.26   73.61\n",
       "7952689  BAL         right  37.53  24.77  1.60  0.69  0.16   73.86   73.56\n",
       "7952690  BAL         right  37.67  24.80  1.48  1.00  0.15   80.84   75.27\n",
       "7952691  BAL         right  37.81  24.84  1.33  1.29  0.14   84.50   75.27\n",
       "\n",
       "[7952692 rows x 9 columns]"
      ]
     },
     "execution_count": 9,
     "metadata": {},
     "output_type": "execute_result"
    }
   ],
   "source": [
    "df.iloc[::,60:69]"
   ]
  },
  {
   "cell_type": "code",
   "execution_count": 11,
   "id": "7f6c003a",
   "metadata": {},
   "outputs": [
    {
     "data": {
      "text/plain": [
       "gameId             0.0\n",
       "season             0.0\n",
       "week               0.0\n",
       "gameDate           0.0\n",
       "gameTimeEastern    0.0\n",
       "                  ... \n",
       "a                  0.0\n",
       "dis                0.0\n",
       "o                  0.0\n",
       "dir                0.0\n",
       "event              0.0\n",
       "Length: 70, dtype: float64"
      ]
     },
     "execution_count": 11,
     "metadata": {},
     "output_type": "execute_result"
    }
   ],
   "source": [
    "percent_missing = df.isnull().sum() * 100 / len(df)\n",
    "missing_value_df = pd.DataFrame({'column_name': df.columns,\n",
    "                                 'percent_missing': percent_missing,\n",
    "                               'datatypes': df.dtypes})\n",
    "percent_missing"
   ]
  },
  {
   "cell_type": "code",
   "execution_count": 12,
   "id": "ea390806",
   "metadata": {},
   "outputs": [
    {
     "data": {
      "text/plain": [
       "gameId             0.0\n",
       "season             0.0\n",
       "week               0.0\n",
       "gameDate           0.0\n",
       "gameTimeEastern    0.0\n",
       "                  ... \n",
       "a                  0.0\n",
       "dis                0.0\n",
       "o                  0.0\n",
       "dir                0.0\n",
       "event              0.0\n",
       "Length: 70, dtype: float64"
      ]
     },
     "execution_count": 12,
     "metadata": {},
     "output_type": "execute_result"
    }
   ],
   "source": [
    "percent_missing"
   ]
  },
  {
   "cell_type": "code",
   "execution_count": 13,
   "id": "9c5fc573",
   "metadata": {},
   "outputs": [
    {
     "data": {
      "text/plain": [
       "array([ nan,   0., -15.,  21.,   3.,  -5., -10.,  -9.,  31.,   7.,  15.,\n",
       "         5.,  14., -13.,  13.,   8.,  26.,  10.,  20.,  16.,  12.,   4.,\n",
       "         6.,  -4.,  45.,  50., -14.,  19.,   2.,  28.,  27., -12.,  -3.,\n",
       "        11.,  41., -18.,  -8.,  39.,  -6.,  17.,  18.,  43.,  46.,   9.,\n",
       "         1., -11.,  22.,  32.,  25.,  24.,  23.,  40.,  38.,  -7.,  35.,\n",
       "        36.,  42.,  47.,  33.,  48.,  -2.])"
      ]
     },
     "execution_count": 13,
     "metadata": {},
     "output_type": "execute_result"
    }
   ],
   "source": [
    "df['penaltyYards'].unique()"
   ]
  },
  {
   "cell_type": "code",
   "execution_count": 14,
   "id": "317249b9",
   "metadata": {
    "scrolled": true
   },
   "outputs": [
    {
     "data": {
      "text/html": [
       "<div>\n",
       "<style scoped>\n",
       "    .dataframe tbody tr th:only-of-type {\n",
       "        vertical-align: middle;\n",
       "    }\n",
       "\n",
       "    .dataframe tbody tr th {\n",
       "        vertical-align: top;\n",
       "    }\n",
       "\n",
       "    .dataframe thead th {\n",
       "        text-align: right;\n",
       "    }\n",
       "</style>\n",
       "<table border=\"1\" class=\"dataframe\">\n",
       "  <thead>\n",
       "    <tr style=\"text-align: right;\">\n",
       "      <th></th>\n",
       "      <th>column_name</th>\n",
       "      <th>percent_missing</th>\n",
       "      <th>datatypes</th>\n",
       "    </tr>\n",
       "  </thead>\n",
       "  <tbody>\n",
       "    <tr>\n",
       "      <th>gameId</th>\n",
       "      <td>gameId</td>\n",
       "      <td>0.000000</td>\n",
       "      <td>int64</td>\n",
       "    </tr>\n",
       "    <tr>\n",
       "      <th>season</th>\n",
       "      <td>season</td>\n",
       "      <td>0.000000</td>\n",
       "      <td>int64</td>\n",
       "    </tr>\n",
       "    <tr>\n",
       "      <th>week</th>\n",
       "      <td>week</td>\n",
       "      <td>0.000000</td>\n",
       "      <td>int64</td>\n",
       "    </tr>\n",
       "    <tr>\n",
       "      <th>gameDate</th>\n",
       "      <td>gameDate</td>\n",
       "      <td>0.000000</td>\n",
       "      <td>object</td>\n",
       "    </tr>\n",
       "    <tr>\n",
       "      <th>gameTimeEastern</th>\n",
       "      <td>gameTimeEastern</td>\n",
       "      <td>0.000000</td>\n",
       "      <td>object</td>\n",
       "    </tr>\n",
       "    <tr>\n",
       "      <th>homeTeamAbbr</th>\n",
       "      <td>homeTeamAbbr</td>\n",
       "      <td>0.000000</td>\n",
       "      <td>object</td>\n",
       "    </tr>\n",
       "    <tr>\n",
       "      <th>visitorTeamAbbr</th>\n",
       "      <td>visitorTeamAbbr</td>\n",
       "      <td>0.000000</td>\n",
       "      <td>object</td>\n",
       "    </tr>\n",
       "    <tr>\n",
       "      <th>playId</th>\n",
       "      <td>playId</td>\n",
       "      <td>0.000000</td>\n",
       "      <td>int64</td>\n",
       "    </tr>\n",
       "    <tr>\n",
       "      <th>nflId</th>\n",
       "      <td>nflId</td>\n",
       "      <td>0.000000</td>\n",
       "      <td>int64</td>\n",
       "    </tr>\n",
       "    <tr>\n",
       "      <th>pff_role</th>\n",
       "      <td>pff_role</td>\n",
       "      <td>0.000000</td>\n",
       "      <td>object</td>\n",
       "    </tr>\n",
       "    <tr>\n",
       "      <th>pff_positionLinedUp</th>\n",
       "      <td>pff_positionLinedUp</td>\n",
       "      <td>0.000000</td>\n",
       "      <td>object</td>\n",
       "    </tr>\n",
       "    <tr>\n",
       "      <th>pff_hit</th>\n",
       "      <td>pff_hit</td>\n",
       "      <td>50.000000</td>\n",
       "      <td>float64</td>\n",
       "    </tr>\n",
       "    <tr>\n",
       "      <th>pff_hurry</th>\n",
       "      <td>pff_hurry</td>\n",
       "      <td>50.000000</td>\n",
       "      <td>float64</td>\n",
       "    </tr>\n",
       "    <tr>\n",
       "      <th>pff_sack</th>\n",
       "      <td>pff_sack</td>\n",
       "      <td>50.000000</td>\n",
       "      <td>float64</td>\n",
       "    </tr>\n",
       "    <tr>\n",
       "      <th>pff_beatenByDefender</th>\n",
       "      <td>pff_beatenByDefender</td>\n",
       "      <td>74.269945</td>\n",
       "      <td>float64</td>\n",
       "    </tr>\n",
       "    <tr>\n",
       "      <th>pff_hitAllowed</th>\n",
       "      <td>pff_hitAllowed</td>\n",
       "      <td>74.269945</td>\n",
       "      <td>float64</td>\n",
       "    </tr>\n",
       "    <tr>\n",
       "      <th>pff_hurryAllowed</th>\n",
       "      <td>pff_hurryAllowed</td>\n",
       "      <td>74.269945</td>\n",
       "      <td>float64</td>\n",
       "    </tr>\n",
       "    <tr>\n",
       "      <th>pff_sackAllowed</th>\n",
       "      <td>pff_sackAllowed</td>\n",
       "      <td>74.269945</td>\n",
       "      <td>float64</td>\n",
       "    </tr>\n",
       "    <tr>\n",
       "      <th>pff_nflIdBlockedPlayer</th>\n",
       "      <td>pff_nflIdBlockedPlayer</td>\n",
       "      <td>75.072340</td>\n",
       "      <td>float64</td>\n",
       "    </tr>\n",
       "    <tr>\n",
       "      <th>pff_blockType</th>\n",
       "      <td>pff_blockType</td>\n",
       "      <td>74.369270</td>\n",
       "      <td>object</td>\n",
       "    </tr>\n",
       "    <tr>\n",
       "      <th>pff_backFieldBlock</th>\n",
       "      <td>pff_backFieldBlock</td>\n",
       "      <td>74.370012</td>\n",
       "      <td>float64</td>\n",
       "    </tr>\n",
       "    <tr>\n",
       "      <th>height</th>\n",
       "      <td>height</td>\n",
       "      <td>0.000000</td>\n",
       "      <td>object</td>\n",
       "    </tr>\n",
       "    <tr>\n",
       "      <th>weight</th>\n",
       "      <td>weight</td>\n",
       "      <td>0.000000</td>\n",
       "      <td>int64</td>\n",
       "    </tr>\n",
       "    <tr>\n",
       "      <th>birthDate</th>\n",
       "      <td>birthDate</td>\n",
       "      <td>10.397838</td>\n",
       "      <td>object</td>\n",
       "    </tr>\n",
       "    <tr>\n",
       "      <th>collegeName</th>\n",
       "      <td>collegeName</td>\n",
       "      <td>9.889293</td>\n",
       "      <td>object</td>\n",
       "    </tr>\n",
       "    <tr>\n",
       "      <th>officialPosition</th>\n",
       "      <td>officialPosition</td>\n",
       "      <td>0.000000</td>\n",
       "      <td>object</td>\n",
       "    </tr>\n",
       "    <tr>\n",
       "      <th>displayName</th>\n",
       "      <td>displayName</td>\n",
       "      <td>0.000000</td>\n",
       "      <td>object</td>\n",
       "    </tr>\n",
       "    <tr>\n",
       "      <th>playDescription</th>\n",
       "      <td>playDescription</td>\n",
       "      <td>0.000000</td>\n",
       "      <td>object</td>\n",
       "    </tr>\n",
       "    <tr>\n",
       "      <th>quarter</th>\n",
       "      <td>quarter</td>\n",
       "      <td>0.000000</td>\n",
       "      <td>int64</td>\n",
       "    </tr>\n",
       "    <tr>\n",
       "      <th>down</th>\n",
       "      <td>down</td>\n",
       "      <td>0.000000</td>\n",
       "      <td>int64</td>\n",
       "    </tr>\n",
       "    <tr>\n",
       "      <th>yardsToGo</th>\n",
       "      <td>yardsToGo</td>\n",
       "      <td>0.000000</td>\n",
       "      <td>int64</td>\n",
       "    </tr>\n",
       "    <tr>\n",
       "      <th>possessionTeam</th>\n",
       "      <td>possessionTeam</td>\n",
       "      <td>0.000000</td>\n",
       "      <td>object</td>\n",
       "    </tr>\n",
       "    <tr>\n",
       "      <th>defensiveTeam</th>\n",
       "      <td>defensiveTeam</td>\n",
       "      <td>0.000000</td>\n",
       "      <td>object</td>\n",
       "    </tr>\n",
       "    <tr>\n",
       "      <th>yardlineSide</th>\n",
       "      <td>yardlineSide</td>\n",
       "      <td>1.493557</td>\n",
       "      <td>object</td>\n",
       "    </tr>\n",
       "    <tr>\n",
       "      <th>yardlineNumber</th>\n",
       "      <td>yardlineNumber</td>\n",
       "      <td>0.000000</td>\n",
       "      <td>int64</td>\n",
       "    </tr>\n",
       "    <tr>\n",
       "      <th>gameClock</th>\n",
       "      <td>gameClock</td>\n",
       "      <td>0.000000</td>\n",
       "      <td>object</td>\n",
       "    </tr>\n",
       "    <tr>\n",
       "      <th>preSnapHomeScore</th>\n",
       "      <td>preSnapHomeScore</td>\n",
       "      <td>0.000000</td>\n",
       "      <td>int64</td>\n",
       "    </tr>\n",
       "    <tr>\n",
       "      <th>preSnapVisitorScore</th>\n",
       "      <td>preSnapVisitorScore</td>\n",
       "      <td>0.000000</td>\n",
       "      <td>int64</td>\n",
       "    </tr>\n",
       "    <tr>\n",
       "      <th>passResult</th>\n",
       "      <td>passResult</td>\n",
       "      <td>0.000000</td>\n",
       "      <td>object</td>\n",
       "    </tr>\n",
       "    <tr>\n",
       "      <th>penaltyYards</th>\n",
       "      <td>penaltyYards</td>\n",
       "      <td>90.237520</td>\n",
       "      <td>float64</td>\n",
       "    </tr>\n",
       "    <tr>\n",
       "      <th>prePenaltyPlayResult</th>\n",
       "      <td>prePenaltyPlayResult</td>\n",
       "      <td>0.000000</td>\n",
       "      <td>int64</td>\n",
       "    </tr>\n",
       "    <tr>\n",
       "      <th>playResult</th>\n",
       "      <td>playResult</td>\n",
       "      <td>0.000000</td>\n",
       "      <td>int64</td>\n",
       "    </tr>\n",
       "    <tr>\n",
       "      <th>foulName1</th>\n",
       "      <td>foulName1</td>\n",
       "      <td>90.482342</td>\n",
       "      <td>object</td>\n",
       "    </tr>\n",
       "    <tr>\n",
       "      <th>foulNFLId1</th>\n",
       "      <td>foulNFLId1</td>\n",
       "      <td>90.482342</td>\n",
       "      <td>float64</td>\n",
       "    </tr>\n",
       "    <tr>\n",
       "      <th>foulName2</th>\n",
       "      <td>foulName2</td>\n",
       "      <td>99.569555</td>\n",
       "      <td>object</td>\n",
       "    </tr>\n",
       "    <tr>\n",
       "      <th>foulNFLId2</th>\n",
       "      <td>foulNFLId2</td>\n",
       "      <td>99.569555</td>\n",
       "      <td>float64</td>\n",
       "    </tr>\n",
       "    <tr>\n",
       "      <th>foulName3</th>\n",
       "      <td>foulName3</td>\n",
       "      <td>99.987275</td>\n",
       "      <td>object</td>\n",
       "    </tr>\n",
       "    <tr>\n",
       "      <th>foulNFLId3</th>\n",
       "      <td>foulNFLId3</td>\n",
       "      <td>99.987275</td>\n",
       "      <td>float64</td>\n",
       "    </tr>\n",
       "    <tr>\n",
       "      <th>absoluteYardlineNumber</th>\n",
       "      <td>absoluteYardlineNumber</td>\n",
       "      <td>0.009959</td>\n",
       "      <td>float64</td>\n",
       "    </tr>\n",
       "    <tr>\n",
       "      <th>offenseFormation</th>\n",
       "      <td>offenseFormation</td>\n",
       "      <td>0.083544</td>\n",
       "      <td>object</td>\n",
       "    </tr>\n",
       "    <tr>\n",
       "      <th>personnelO</th>\n",
       "      <td>personnelO</td>\n",
       "      <td>0.009959</td>\n",
       "      <td>object</td>\n",
       "    </tr>\n",
       "    <tr>\n",
       "      <th>defendersInBox</th>\n",
       "      <td>defendersInBox</td>\n",
       "      <td>0.083544</td>\n",
       "      <td>float64</td>\n",
       "    </tr>\n",
       "    <tr>\n",
       "      <th>personnelD</th>\n",
       "      <td>personnelD</td>\n",
       "      <td>0.009959</td>\n",
       "      <td>object</td>\n",
       "    </tr>\n",
       "    <tr>\n",
       "      <th>dropBackType</th>\n",
       "      <td>dropBackType</td>\n",
       "      <td>6.676884</td>\n",
       "      <td>object</td>\n",
       "    </tr>\n",
       "    <tr>\n",
       "      <th>pff_playAction</th>\n",
       "      <td>pff_playAction</td>\n",
       "      <td>0.000000</td>\n",
       "      <td>int64</td>\n",
       "    </tr>\n",
       "    <tr>\n",
       "      <th>pff_passCoverage</th>\n",
       "      <td>pff_passCoverage</td>\n",
       "      <td>0.000000</td>\n",
       "      <td>object</td>\n",
       "    </tr>\n",
       "    <tr>\n",
       "      <th>pff_passCoverageType</th>\n",
       "      <td>pff_passCoverageType</td>\n",
       "      <td>0.000000</td>\n",
       "      <td>object</td>\n",
       "    </tr>\n",
       "    <tr>\n",
       "      <th>frameId</th>\n",
       "      <td>frameId</td>\n",
       "      <td>0.000000</td>\n",
       "      <td>int64</td>\n",
       "    </tr>\n",
       "    <tr>\n",
       "      <th>time</th>\n",
       "      <td>time</td>\n",
       "      <td>0.000000</td>\n",
       "      <td>datetime64[ns]</td>\n",
       "    </tr>\n",
       "    <tr>\n",
       "      <th>jerseyNumber</th>\n",
       "      <td>jerseyNumber</td>\n",
       "      <td>0.000000</td>\n",
       "      <td>float64</td>\n",
       "    </tr>\n",
       "  </tbody>\n",
       "</table>\n",
       "</div>"
      ],
      "text/plain": [
       "                                   column_name  percent_missing  \\\n",
       "gameId                                  gameId         0.000000   \n",
       "season                                  season         0.000000   \n",
       "week                                      week         0.000000   \n",
       "gameDate                              gameDate         0.000000   \n",
       "gameTimeEastern                gameTimeEastern         0.000000   \n",
       "homeTeamAbbr                      homeTeamAbbr         0.000000   \n",
       "visitorTeamAbbr                visitorTeamAbbr         0.000000   \n",
       "playId                                  playId         0.000000   \n",
       "nflId                                    nflId         0.000000   \n",
       "pff_role                              pff_role         0.000000   \n",
       "pff_positionLinedUp        pff_positionLinedUp         0.000000   \n",
       "pff_hit                                pff_hit        50.000000   \n",
       "pff_hurry                            pff_hurry        50.000000   \n",
       "pff_sack                              pff_sack        50.000000   \n",
       "pff_beatenByDefender      pff_beatenByDefender        74.269945   \n",
       "pff_hitAllowed                  pff_hitAllowed        74.269945   \n",
       "pff_hurryAllowed              pff_hurryAllowed        74.269945   \n",
       "pff_sackAllowed                pff_sackAllowed        74.269945   \n",
       "pff_nflIdBlockedPlayer  pff_nflIdBlockedPlayer        75.072340   \n",
       "pff_blockType                    pff_blockType        74.369270   \n",
       "pff_backFieldBlock          pff_backFieldBlock        74.370012   \n",
       "height                                  height         0.000000   \n",
       "weight                                  weight         0.000000   \n",
       "birthDate                            birthDate        10.397838   \n",
       "collegeName                        collegeName         9.889293   \n",
       "officialPosition              officialPosition         0.000000   \n",
       "displayName                        displayName         0.000000   \n",
       "playDescription                playDescription         0.000000   \n",
       "quarter                                quarter         0.000000   \n",
       "down                                      down         0.000000   \n",
       "yardsToGo                            yardsToGo         0.000000   \n",
       "possessionTeam                  possessionTeam         0.000000   \n",
       "defensiveTeam                    defensiveTeam         0.000000   \n",
       "yardlineSide                      yardlineSide         1.493557   \n",
       "yardlineNumber                  yardlineNumber         0.000000   \n",
       "gameClock                            gameClock         0.000000   \n",
       "preSnapHomeScore              preSnapHomeScore         0.000000   \n",
       "preSnapVisitorScore        preSnapVisitorScore         0.000000   \n",
       "passResult                          passResult         0.000000   \n",
       "penaltyYards                      penaltyYards        90.237520   \n",
       "prePenaltyPlayResult      prePenaltyPlayResult         0.000000   \n",
       "playResult                          playResult         0.000000   \n",
       "foulName1                            foulName1        90.482342   \n",
       "foulNFLId1                          foulNFLId1        90.482342   \n",
       "foulName2                            foulName2        99.569555   \n",
       "foulNFLId2                          foulNFLId2        99.569555   \n",
       "foulName3                            foulName3        99.987275   \n",
       "foulNFLId3                          foulNFLId3        99.987275   \n",
       "absoluteYardlineNumber  absoluteYardlineNumber         0.009959   \n",
       "offenseFormation              offenseFormation         0.083544   \n",
       "personnelO                          personnelO         0.009959   \n",
       "defendersInBox                  defendersInBox         0.083544   \n",
       "personnelD                          personnelD         0.009959   \n",
       "dropBackType                      dropBackType         6.676884   \n",
       "pff_playAction                  pff_playAction         0.000000   \n",
       "pff_passCoverage              pff_passCoverage         0.000000   \n",
       "pff_passCoverageType      pff_passCoverageType         0.000000   \n",
       "frameId                                frameId         0.000000   \n",
       "time                                      time         0.000000   \n",
       "jerseyNumber                      jerseyNumber         0.000000   \n",
       "\n",
       "                             datatypes  \n",
       "gameId                           int64  \n",
       "season                           int64  \n",
       "week                             int64  \n",
       "gameDate                        object  \n",
       "gameTimeEastern                 object  \n",
       "homeTeamAbbr                    object  \n",
       "visitorTeamAbbr                 object  \n",
       "playId                           int64  \n",
       "nflId                            int64  \n",
       "pff_role                        object  \n",
       "pff_positionLinedUp             object  \n",
       "pff_hit                        float64  \n",
       "pff_hurry                      float64  \n",
       "pff_sack                       float64  \n",
       "pff_beatenByDefender           float64  \n",
       "pff_hitAllowed                 float64  \n",
       "pff_hurryAllowed               float64  \n",
       "pff_sackAllowed                float64  \n",
       "pff_nflIdBlockedPlayer         float64  \n",
       "pff_blockType                   object  \n",
       "pff_backFieldBlock             float64  \n",
       "height                          object  \n",
       "weight                           int64  \n",
       "birthDate                       object  \n",
       "collegeName                     object  \n",
       "officialPosition                object  \n",
       "displayName                     object  \n",
       "playDescription                 object  \n",
       "quarter                          int64  \n",
       "down                             int64  \n",
       "yardsToGo                        int64  \n",
       "possessionTeam                  object  \n",
       "defensiveTeam                   object  \n",
       "yardlineSide                    object  \n",
       "yardlineNumber                   int64  \n",
       "gameClock                       object  \n",
       "preSnapHomeScore                 int64  \n",
       "preSnapVisitorScore              int64  \n",
       "passResult                      object  \n",
       "penaltyYards                   float64  \n",
       "prePenaltyPlayResult             int64  \n",
       "playResult                       int64  \n",
       "foulName1                       object  \n",
       "foulNFLId1                     float64  \n",
       "foulName2                       object  \n",
       "foulNFLId2                     float64  \n",
       "foulName3                       object  \n",
       "foulNFLId3                     float64  \n",
       "absoluteYardlineNumber         float64  \n",
       "offenseFormation                object  \n",
       "personnelO                      object  \n",
       "defendersInBox                 float64  \n",
       "personnelD                      object  \n",
       "dropBackType                    object  \n",
       "pff_playAction                   int64  \n",
       "pff_passCoverage                object  \n",
       "pff_passCoverageType            object  \n",
       "frameId                          int64  \n",
       "time                    datetime64[ns]  \n",
       "jerseyNumber                   float64  "
      ]
     },
     "execution_count": 14,
     "metadata": {},
     "output_type": "execute_result"
    }
   ],
   "source": [
    "missing_value_df.head(60)"
   ]
  },
  {
   "cell_type": "code",
   "execution_count": 15,
   "id": "60cd6633",
   "metadata": {
    "scrolled": true
   },
   "outputs": [
    {
     "data": {
      "text/html": [
       "<div>\n",
       "<style scoped>\n",
       "    .dataframe tbody tr th:only-of-type {\n",
       "        vertical-align: middle;\n",
       "    }\n",
       "\n",
       "    .dataframe tbody tr th {\n",
       "        vertical-align: top;\n",
       "    }\n",
       "\n",
       "    .dataframe thead th {\n",
       "        text-align: right;\n",
       "    }\n",
       "</style>\n",
       "<table border=\"1\" class=\"dataframe\">\n",
       "  <thead>\n",
       "    <tr style=\"text-align: right;\">\n",
       "      <th></th>\n",
       "      <th>column_name</th>\n",
       "      <th>percent_missing</th>\n",
       "      <th>datatypes</th>\n",
       "    </tr>\n",
       "  </thead>\n",
       "  <tbody>\n",
       "    <tr>\n",
       "      <th>jerseyNumber</th>\n",
       "      <td>jerseyNumber</td>\n",
       "      <td>0.0</td>\n",
       "      <td>float64</td>\n",
       "    </tr>\n",
       "    <tr>\n",
       "      <th>team</th>\n",
       "      <td>team</td>\n",
       "      <td>0.0</td>\n",
       "      <td>object</td>\n",
       "    </tr>\n",
       "    <tr>\n",
       "      <th>playDirection</th>\n",
       "      <td>playDirection</td>\n",
       "      <td>0.0</td>\n",
       "      <td>category</td>\n",
       "    </tr>\n",
       "    <tr>\n",
       "      <th>x</th>\n",
       "      <td>x</td>\n",
       "      <td>0.0</td>\n",
       "      <td>float64</td>\n",
       "    </tr>\n",
       "    <tr>\n",
       "      <th>y</th>\n",
       "      <td>y</td>\n",
       "      <td>0.0</td>\n",
       "      <td>float64</td>\n",
       "    </tr>\n",
       "    <tr>\n",
       "      <th>s</th>\n",
       "      <td>s</td>\n",
       "      <td>0.0</td>\n",
       "      <td>float64</td>\n",
       "    </tr>\n",
       "    <tr>\n",
       "      <th>a</th>\n",
       "      <td>a</td>\n",
       "      <td>0.0</td>\n",
       "      <td>float64</td>\n",
       "    </tr>\n",
       "    <tr>\n",
       "      <th>dis</th>\n",
       "      <td>dis</td>\n",
       "      <td>0.0</td>\n",
       "      <td>float64</td>\n",
       "    </tr>\n",
       "    <tr>\n",
       "      <th>o</th>\n",
       "      <td>o</td>\n",
       "      <td>0.0</td>\n",
       "      <td>float64</td>\n",
       "    </tr>\n",
       "    <tr>\n",
       "      <th>dir</th>\n",
       "      <td>dir</td>\n",
       "      <td>0.0</td>\n",
       "      <td>float64</td>\n",
       "    </tr>\n",
       "    <tr>\n",
       "      <th>event</th>\n",
       "      <td>event</td>\n",
       "      <td>0.0</td>\n",
       "      <td>object</td>\n",
       "    </tr>\n",
       "  </tbody>\n",
       "</table>\n",
       "</div>"
      ],
      "text/plain": [
       "                 column_name  percent_missing datatypes\n",
       "jerseyNumber    jerseyNumber              0.0   float64\n",
       "team                    team              0.0    object\n",
       "playDirection  playDirection              0.0  category\n",
       "x                          x              0.0   float64\n",
       "y                          y              0.0   float64\n",
       "s                          s              0.0   float64\n",
       "a                          a              0.0   float64\n",
       "dis                      dis              0.0   float64\n",
       "o                          o              0.0   float64\n",
       "dir                      dir              0.0   float64\n",
       "event                  event              0.0    object"
      ]
     },
     "execution_count": 15,
     "metadata": {},
     "output_type": "execute_result"
    }
   ],
   "source": [
    "missing_value_df.tail(11)"
   ]
  },
  {
   "cell_type": "code",
   "execution_count": 16,
   "id": "2642aa50",
   "metadata": {},
   "outputs": [],
   "source": [
    "#needed_columns = []\n",
    "#for col in df.columns:\n",
    "    #if (df.isnull().sum() * 100 / len(df)).any() <= float(15):\n",
    "        #needed_columns.append(col)\n",
    "        \n",
    "        \n",
    "        "
   ]
  },
  {
   "cell_type": "code",
   "execution_count": 18,
   "id": "a690a135",
   "metadata": {},
   "outputs": [
    {
     "data": {
      "text/html": [
       "<div>\n",
       "<style scoped>\n",
       "    .dataframe tbody tr th:only-of-type {\n",
       "        vertical-align: middle;\n",
       "    }\n",
       "\n",
       "    .dataframe tbody tr th {\n",
       "        vertical-align: top;\n",
       "    }\n",
       "\n",
       "    .dataframe thead th {\n",
       "        text-align: right;\n",
       "    }\n",
       "</style>\n",
       "<table border=\"1\" class=\"dataframe\">\n",
       "  <thead>\n",
       "    <tr style=\"text-align: right;\">\n",
       "      <th></th>\n",
       "      <th>gameId</th>\n",
       "      <th>season</th>\n",
       "      <th>week</th>\n",
       "      <th>gameDate</th>\n",
       "      <th>gameTimeEastern</th>\n",
       "      <th>homeTeamAbbr</th>\n",
       "      <th>visitorTeamAbbr</th>\n",
       "      <th>playId</th>\n",
       "      <th>nflId</th>\n",
       "      <th>pff_role</th>\n",
       "      <th>pff_positionLinedUp</th>\n",
       "    </tr>\n",
       "  </thead>\n",
       "  <tbody>\n",
       "    <tr>\n",
       "      <th>0</th>\n",
       "      <td>2021090900</td>\n",
       "      <td>2021</td>\n",
       "      <td>1</td>\n",
       "      <td>09/09/2021</td>\n",
       "      <td>20:20:00</td>\n",
       "      <td>TB</td>\n",
       "      <td>DAL</td>\n",
       "      <td>97</td>\n",
       "      <td>25511</td>\n",
       "      <td>Pass</td>\n",
       "      <td>QB</td>\n",
       "    </tr>\n",
       "    <tr>\n",
       "      <th>1</th>\n",
       "      <td>2021090900</td>\n",
       "      <td>2021</td>\n",
       "      <td>1</td>\n",
       "      <td>09/09/2021</td>\n",
       "      <td>20:20:00</td>\n",
       "      <td>TB</td>\n",
       "      <td>DAL</td>\n",
       "      <td>97</td>\n",
       "      <td>25511</td>\n",
       "      <td>Pass</td>\n",
       "      <td>QB</td>\n",
       "    </tr>\n",
       "    <tr>\n",
       "      <th>2</th>\n",
       "      <td>2021090900</td>\n",
       "      <td>2021</td>\n",
       "      <td>1</td>\n",
       "      <td>09/09/2021</td>\n",
       "      <td>20:20:00</td>\n",
       "      <td>TB</td>\n",
       "      <td>DAL</td>\n",
       "      <td>97</td>\n",
       "      <td>25511</td>\n",
       "      <td>Pass</td>\n",
       "      <td>QB</td>\n",
       "    </tr>\n",
       "    <tr>\n",
       "      <th>3</th>\n",
       "      <td>2021090900</td>\n",
       "      <td>2021</td>\n",
       "      <td>1</td>\n",
       "      <td>09/09/2021</td>\n",
       "      <td>20:20:00</td>\n",
       "      <td>TB</td>\n",
       "      <td>DAL</td>\n",
       "      <td>97</td>\n",
       "      <td>25511</td>\n",
       "      <td>Pass</td>\n",
       "      <td>QB</td>\n",
       "    </tr>\n",
       "    <tr>\n",
       "      <th>4</th>\n",
       "      <td>2021090900</td>\n",
       "      <td>2021</td>\n",
       "      <td>1</td>\n",
       "      <td>09/09/2021</td>\n",
       "      <td>20:20:00</td>\n",
       "      <td>TB</td>\n",
       "      <td>DAL</td>\n",
       "      <td>97</td>\n",
       "      <td>25511</td>\n",
       "      <td>Pass</td>\n",
       "      <td>QB</td>\n",
       "    </tr>\n",
       "    <tr>\n",
       "      <th>...</th>\n",
       "      <td>...</td>\n",
       "      <td>...</td>\n",
       "      <td>...</td>\n",
       "      <td>...</td>\n",
       "      <td>...</td>\n",
       "      <td>...</td>\n",
       "      <td>...</td>\n",
       "      <td>...</td>\n",
       "      <td>...</td>\n",
       "      <td>...</td>\n",
       "      <td>...</td>\n",
       "    </tr>\n",
       "    <tr>\n",
       "      <th>7952687</th>\n",
       "      <td>2021091300</td>\n",
       "      <td>2021</td>\n",
       "      <td>1</td>\n",
       "      <td>09/13/2021</td>\n",
       "      <td>20:15:00</td>\n",
       "      <td>LV</td>\n",
       "      <td>BAL</td>\n",
       "      <td>4765</td>\n",
       "      <td>47906</td>\n",
       "      <td>Pass Block</td>\n",
       "      <td>LG</td>\n",
       "    </tr>\n",
       "    <tr>\n",
       "      <th>7952688</th>\n",
       "      <td>2021091300</td>\n",
       "      <td>2021</td>\n",
       "      <td>1</td>\n",
       "      <td>09/13/2021</td>\n",
       "      <td>20:15:00</td>\n",
       "      <td>LV</td>\n",
       "      <td>BAL</td>\n",
       "      <td>4765</td>\n",
       "      <td>47906</td>\n",
       "      <td>Pass Block</td>\n",
       "      <td>LG</td>\n",
       "    </tr>\n",
       "    <tr>\n",
       "      <th>7952689</th>\n",
       "      <td>2021091300</td>\n",
       "      <td>2021</td>\n",
       "      <td>1</td>\n",
       "      <td>09/13/2021</td>\n",
       "      <td>20:15:00</td>\n",
       "      <td>LV</td>\n",
       "      <td>BAL</td>\n",
       "      <td>4765</td>\n",
       "      <td>47906</td>\n",
       "      <td>Pass Block</td>\n",
       "      <td>LG</td>\n",
       "    </tr>\n",
       "    <tr>\n",
       "      <th>7952690</th>\n",
       "      <td>2021091300</td>\n",
       "      <td>2021</td>\n",
       "      <td>1</td>\n",
       "      <td>09/13/2021</td>\n",
       "      <td>20:15:00</td>\n",
       "      <td>LV</td>\n",
       "      <td>BAL</td>\n",
       "      <td>4765</td>\n",
       "      <td>47906</td>\n",
       "      <td>Pass Block</td>\n",
       "      <td>LG</td>\n",
       "    </tr>\n",
       "    <tr>\n",
       "      <th>7952691</th>\n",
       "      <td>2021091300</td>\n",
       "      <td>2021</td>\n",
       "      <td>1</td>\n",
       "      <td>09/13/2021</td>\n",
       "      <td>20:15:00</td>\n",
       "      <td>LV</td>\n",
       "      <td>BAL</td>\n",
       "      <td>4765</td>\n",
       "      <td>47906</td>\n",
       "      <td>Pass Block</td>\n",
       "      <td>LG</td>\n",
       "    </tr>\n",
       "  </tbody>\n",
       "</table>\n",
       "<p>7952692 rows × 11 columns</p>\n",
       "</div>"
      ],
      "text/plain": [
       "             gameId  season  week    gameDate gameTimeEastern homeTeamAbbr  \\\n",
       "0        2021090900    2021     1  09/09/2021        20:20:00           TB   \n",
       "1        2021090900    2021     1  09/09/2021        20:20:00           TB   \n",
       "2        2021090900    2021     1  09/09/2021        20:20:00           TB   \n",
       "3        2021090900    2021     1  09/09/2021        20:20:00           TB   \n",
       "4        2021090900    2021     1  09/09/2021        20:20:00           TB   \n",
       "...             ...     ...   ...         ...             ...          ...   \n",
       "7952687  2021091300    2021     1  09/13/2021        20:15:00           LV   \n",
       "7952688  2021091300    2021     1  09/13/2021        20:15:00           LV   \n",
       "7952689  2021091300    2021     1  09/13/2021        20:15:00           LV   \n",
       "7952690  2021091300    2021     1  09/13/2021        20:15:00           LV   \n",
       "7952691  2021091300    2021     1  09/13/2021        20:15:00           LV   \n",
       "\n",
       "        visitorTeamAbbr  playId  nflId    pff_role pff_positionLinedUp  \n",
       "0                   DAL      97  25511        Pass                  QB  \n",
       "1                   DAL      97  25511        Pass                  QB  \n",
       "2                   DAL      97  25511        Pass                  QB  \n",
       "3                   DAL      97  25511        Pass                  QB  \n",
       "4                   DAL      97  25511        Pass                  QB  \n",
       "...                 ...     ...    ...         ...                 ...  \n",
       "7952687             BAL    4765  47906  Pass Block                  LG  \n",
       "7952688             BAL    4765  47906  Pass Block                  LG  \n",
       "7952689             BAL    4765  47906  Pass Block                  LG  \n",
       "7952690             BAL    4765  47906  Pass Block                  LG  \n",
       "7952691             BAL    4765  47906  Pass Block                  LG  \n",
       "\n",
       "[7952692 rows x 11 columns]"
      ]
     },
     "execution_count": 18,
     "metadata": {},
     "output_type": "execute_result"
    }
   ],
   "source": [
    "df.iloc[::, 0:11]"
   ]
  },
  {
   "cell_type": "code",
   "execution_count": 19,
   "id": "cb2dd855",
   "metadata": {},
   "outputs": [
    {
     "data": {
      "text/plain": [
       "gameId                                    gameId\n",
       "season                                    season\n",
       "week                                        week\n",
       "gameDate                                gameDate\n",
       "gameTimeEastern                  gameTimeEastern\n",
       "homeTeamAbbr                        homeTeamAbbr\n",
       "visitorTeamAbbr                  visitorTeamAbbr\n",
       "playId                                    playId\n",
       "nflId                                      nflId\n",
       "pff_role                                pff_role\n",
       "pff_positionLinedUp          pff_positionLinedUp\n",
       "height                                    height\n",
       "weight                                    weight\n",
       "birthDate                              birthDate\n",
       "collegeName                          collegeName\n",
       "officialPosition                officialPosition\n",
       "displayName                          displayName\n",
       "playDescription                  playDescription\n",
       "quarter                                  quarter\n",
       "down                                        down\n",
       "yardsToGo                              yardsToGo\n",
       "possessionTeam                    possessionTeam\n",
       "defensiveTeam                      defensiveTeam\n",
       "yardlineSide                        yardlineSide\n",
       "yardlineNumber                    yardlineNumber\n",
       "gameClock                              gameClock\n",
       "preSnapHomeScore                preSnapHomeScore\n",
       "preSnapVisitorScore          preSnapVisitorScore\n",
       "passResult                            passResult\n",
       "prePenaltyPlayResult        prePenaltyPlayResult\n",
       "playResult                            playResult\n",
       "absoluteYardlineNumber    absoluteYardlineNumber\n",
       "offenseFormation                offenseFormation\n",
       "personnelO                            personnelO\n",
       "defendersInBox                    defendersInBox\n",
       "personnelD                            personnelD\n",
       "dropBackType                        dropBackType\n",
       "pff_playAction                    pff_playAction\n",
       "pff_passCoverage                pff_passCoverage\n",
       "pff_passCoverageType        pff_passCoverageType\n",
       "frameId                                  frameId\n",
       "time                                        time\n",
       "jerseyNumber                        jerseyNumber\n",
       "team                                        team\n",
       "playDirection                      playDirection\n",
       "x                                              x\n",
       "y                                              y\n",
       "s                                              s\n",
       "a                                              a\n",
       "dis                                          dis\n",
       "o                                              o\n",
       "dir                                          dir\n",
       "event                                      event\n",
       "Name: column_name, dtype: object"
      ]
     },
     "execution_count": 19,
     "metadata": {},
     "output_type": "execute_result"
    }
   ],
   "source": [
    "newcol = missing_value_df.loc[missing_value_df['percent_missing']<=15, 'column_name']\n",
    "newcol"
   ]
  },
  {
   "cell_type": "code",
   "execution_count": 20,
   "id": "edc10da9",
   "metadata": {},
   "outputs": [],
   "source": [
    "newcolumns = []\n",
    "for index, value in newcol.items():\n",
    "    newcolumns.append(value)\n"
   ]
  },
  {
   "cell_type": "code",
   "execution_count": 21,
   "id": "24b5c7aa",
   "metadata": {},
   "outputs": [
    {
     "data": {
      "text/plain": [
       "['gameId',\n",
       " 'season',\n",
       " 'week',\n",
       " 'gameDate',\n",
       " 'gameTimeEastern',\n",
       " 'homeTeamAbbr',\n",
       " 'visitorTeamAbbr',\n",
       " 'playId',\n",
       " 'nflId',\n",
       " 'pff_role',\n",
       " 'pff_positionLinedUp',\n",
       " 'height',\n",
       " 'weight',\n",
       " 'birthDate',\n",
       " 'collegeName',\n",
       " 'officialPosition',\n",
       " 'displayName',\n",
       " 'playDescription',\n",
       " 'quarter',\n",
       " 'down',\n",
       " 'yardsToGo',\n",
       " 'possessionTeam',\n",
       " 'defensiveTeam',\n",
       " 'yardlineSide',\n",
       " 'yardlineNumber',\n",
       " 'gameClock',\n",
       " 'preSnapHomeScore',\n",
       " 'preSnapVisitorScore',\n",
       " 'passResult',\n",
       " 'prePenaltyPlayResult',\n",
       " 'playResult',\n",
       " 'absoluteYardlineNumber',\n",
       " 'offenseFormation',\n",
       " 'personnelO',\n",
       " 'defendersInBox',\n",
       " 'personnelD',\n",
       " 'dropBackType',\n",
       " 'pff_playAction',\n",
       " 'pff_passCoverage',\n",
       " 'pff_passCoverageType',\n",
       " 'frameId',\n",
       " 'time',\n",
       " 'jerseyNumber',\n",
       " 'team',\n",
       " 'playDirection',\n",
       " 'x',\n",
       " 'y',\n",
       " 's',\n",
       " 'a',\n",
       " 'dis',\n",
       " 'o',\n",
       " 'dir',\n",
       " 'event']"
      ]
     },
     "execution_count": 21,
     "metadata": {},
     "output_type": "execute_result"
    }
   ],
   "source": [
    "newcolumns"
   ]
  },
  {
   "cell_type": "code",
   "execution_count": 22,
   "id": "cea63cdd",
   "metadata": {},
   "outputs": [],
   "source": [
    "dfnew = df.loc[:,newcolumns]"
   ]
  },
  {
   "cell_type": "code",
   "execution_count": 23,
   "id": "5d00aff4",
   "metadata": {
    "scrolled": true
   },
   "outputs": [
    {
     "data": {
      "text/html": [
       "<div>\n",
       "<style scoped>\n",
       "    .dataframe tbody tr th:only-of-type {\n",
       "        vertical-align: middle;\n",
       "    }\n",
       "\n",
       "    .dataframe tbody tr th {\n",
       "        vertical-align: top;\n",
       "    }\n",
       "\n",
       "    .dataframe thead th {\n",
       "        text-align: right;\n",
       "    }\n",
       "</style>\n",
       "<table border=\"1\" class=\"dataframe\">\n",
       "  <thead>\n",
       "    <tr style=\"text-align: right;\">\n",
       "      <th></th>\n",
       "      <th>gameId</th>\n",
       "      <th>season</th>\n",
       "      <th>week</th>\n",
       "      <th>gameDate</th>\n",
       "      <th>gameTimeEastern</th>\n",
       "      <th>homeTeamAbbr</th>\n",
       "      <th>visitorTeamAbbr</th>\n",
       "      <th>playId</th>\n",
       "      <th>nflId</th>\n",
       "      <th>pff_role</th>\n",
       "      <th>...</th>\n",
       "      <th>team</th>\n",
       "      <th>playDirection</th>\n",
       "      <th>x</th>\n",
       "      <th>y</th>\n",
       "      <th>s</th>\n",
       "      <th>a</th>\n",
       "      <th>dis</th>\n",
       "      <th>o</th>\n",
       "      <th>dir</th>\n",
       "      <th>event</th>\n",
       "    </tr>\n",
       "  </thead>\n",
       "  <tbody>\n",
       "    <tr>\n",
       "      <th>0</th>\n",
       "      <td>2021090900</td>\n",
       "      <td>2021</td>\n",
       "      <td>1</td>\n",
       "      <td>09/09/2021</td>\n",
       "      <td>20:20:00</td>\n",
       "      <td>TB</td>\n",
       "      <td>DAL</td>\n",
       "      <td>97</td>\n",
       "      <td>25511</td>\n",
       "      <td>Pass</td>\n",
       "      <td>...</td>\n",
       "      <td>TB</td>\n",
       "      <td>right</td>\n",
       "      <td>37.77</td>\n",
       "      <td>24.22</td>\n",
       "      <td>0.29</td>\n",
       "      <td>0.30</td>\n",
       "      <td>0.03</td>\n",
       "      <td>165.16</td>\n",
       "      <td>84.99</td>\n",
       "      <td>None</td>\n",
       "    </tr>\n",
       "    <tr>\n",
       "      <th>1</th>\n",
       "      <td>2021090900</td>\n",
       "      <td>2021</td>\n",
       "      <td>1</td>\n",
       "      <td>09/09/2021</td>\n",
       "      <td>20:20:00</td>\n",
       "      <td>TB</td>\n",
       "      <td>DAL</td>\n",
       "      <td>97</td>\n",
       "      <td>25511</td>\n",
       "      <td>Pass</td>\n",
       "      <td>...</td>\n",
       "      <td>TB</td>\n",
       "      <td>right</td>\n",
       "      <td>37.78</td>\n",
       "      <td>24.22</td>\n",
       "      <td>0.23</td>\n",
       "      <td>0.11</td>\n",
       "      <td>0.02</td>\n",
       "      <td>164.33</td>\n",
       "      <td>92.87</td>\n",
       "      <td>None</td>\n",
       "    </tr>\n",
       "    <tr>\n",
       "      <th>2</th>\n",
       "      <td>2021090900</td>\n",
       "      <td>2021</td>\n",
       "      <td>1</td>\n",
       "      <td>09/09/2021</td>\n",
       "      <td>20:20:00</td>\n",
       "      <td>TB</td>\n",
       "      <td>DAL</td>\n",
       "      <td>97</td>\n",
       "      <td>25511</td>\n",
       "      <td>Pass</td>\n",
       "      <td>...</td>\n",
       "      <td>TB</td>\n",
       "      <td>right</td>\n",
       "      <td>37.78</td>\n",
       "      <td>24.24</td>\n",
       "      <td>0.16</td>\n",
       "      <td>0.10</td>\n",
       "      <td>0.01</td>\n",
       "      <td>160.24</td>\n",
       "      <td>68.55</td>\n",
       "      <td>None</td>\n",
       "    </tr>\n",
       "    <tr>\n",
       "      <th>3</th>\n",
       "      <td>2021090900</td>\n",
       "      <td>2021</td>\n",
       "      <td>1</td>\n",
       "      <td>09/09/2021</td>\n",
       "      <td>20:20:00</td>\n",
       "      <td>TB</td>\n",
       "      <td>DAL</td>\n",
       "      <td>97</td>\n",
       "      <td>25511</td>\n",
       "      <td>Pass</td>\n",
       "      <td>...</td>\n",
       "      <td>TB</td>\n",
       "      <td>right</td>\n",
       "      <td>37.73</td>\n",
       "      <td>24.25</td>\n",
       "      <td>0.15</td>\n",
       "      <td>0.24</td>\n",
       "      <td>0.06</td>\n",
       "      <td>152.13</td>\n",
       "      <td>296.85</td>\n",
       "      <td>None</td>\n",
       "    </tr>\n",
       "    <tr>\n",
       "      <th>4</th>\n",
       "      <td>2021090900</td>\n",
       "      <td>2021</td>\n",
       "      <td>1</td>\n",
       "      <td>09/09/2021</td>\n",
       "      <td>20:20:00</td>\n",
       "      <td>TB</td>\n",
       "      <td>DAL</td>\n",
       "      <td>97</td>\n",
       "      <td>25511</td>\n",
       "      <td>Pass</td>\n",
       "      <td>...</td>\n",
       "      <td>TB</td>\n",
       "      <td>right</td>\n",
       "      <td>37.69</td>\n",
       "      <td>24.26</td>\n",
       "      <td>0.25</td>\n",
       "      <td>0.18</td>\n",
       "      <td>0.04</td>\n",
       "      <td>148.33</td>\n",
       "      <td>287.55</td>\n",
       "      <td>None</td>\n",
       "    </tr>\n",
       "  </tbody>\n",
       "</table>\n",
       "<p>5 rows × 53 columns</p>\n",
       "</div>"
      ],
      "text/plain": [
       "       gameId  season  week    gameDate gameTimeEastern homeTeamAbbr  \\\n",
       "0  2021090900    2021     1  09/09/2021        20:20:00           TB   \n",
       "1  2021090900    2021     1  09/09/2021        20:20:00           TB   \n",
       "2  2021090900    2021     1  09/09/2021        20:20:00           TB   \n",
       "3  2021090900    2021     1  09/09/2021        20:20:00           TB   \n",
       "4  2021090900    2021     1  09/09/2021        20:20:00           TB   \n",
       "\n",
       "  visitorTeamAbbr  playId  nflId pff_role  ... team playDirection      x  \\\n",
       "0             DAL      97  25511     Pass  ...   TB         right  37.77   \n",
       "1             DAL      97  25511     Pass  ...   TB         right  37.78   \n",
       "2             DAL      97  25511     Pass  ...   TB         right  37.78   \n",
       "3             DAL      97  25511     Pass  ...   TB         right  37.73   \n",
       "4             DAL      97  25511     Pass  ...   TB         right  37.69   \n",
       "\n",
       "       y     s     a   dis       o     dir  event  \n",
       "0  24.22  0.29  0.30  0.03  165.16   84.99   None  \n",
       "1  24.22  0.23  0.11  0.02  164.33   92.87   None  \n",
       "2  24.24  0.16  0.10  0.01  160.24   68.55   None  \n",
       "3  24.25  0.15  0.24  0.06  152.13  296.85   None  \n",
       "4  24.26  0.25  0.18  0.04  148.33  287.55   None  \n",
       "\n",
       "[5 rows x 53 columns]"
      ]
     },
     "execution_count": 23,
     "metadata": {},
     "output_type": "execute_result"
    }
   ],
   "source": [
    "dfnew.head()"
   ]
  },
  {
   "cell_type": "code",
   "execution_count": null,
   "id": "07f94e32",
   "metadata": {},
   "outputs": [],
   "source": []
  },
  {
   "cell_type": "code",
   "execution_count": 24,
   "id": "7e7d39ba",
   "metadata": {},
   "outputs": [
    {
     "data": {
      "text/plain": [
       "gameId                             int64\n",
       "season                             int64\n",
       "week                               int64\n",
       "gameDate                          object\n",
       "gameTimeEastern                   object\n",
       "homeTeamAbbr                      object\n",
       "visitorTeamAbbr                   object\n",
       "playId                             int64\n",
       "nflId                              int64\n",
       "pff_role                          object\n",
       "pff_positionLinedUp               object\n",
       "height                            object\n",
       "weight                             int64\n",
       "birthDate                         object\n",
       "collegeName                       object\n",
       "officialPosition                  object\n",
       "displayName                       object\n",
       "playDescription                   object\n",
       "quarter                            int64\n",
       "down                               int64\n",
       "yardsToGo                          int64\n",
       "possessionTeam                    object\n",
       "defensiveTeam                     object\n",
       "yardlineSide                      object\n",
       "yardlineNumber                     int64\n",
       "gameClock                         object\n",
       "preSnapHomeScore                   int64\n",
       "preSnapVisitorScore                int64\n",
       "passResult                        object\n",
       "prePenaltyPlayResult               int64\n",
       "playResult                         int64\n",
       "absoluteYardlineNumber           float64\n",
       "offenseFormation                  object\n",
       "personnelO                        object\n",
       "defendersInBox                   float64\n",
       "personnelD                        object\n",
       "dropBackType                      object\n",
       "pff_playAction                     int64\n",
       "pff_passCoverage                  object\n",
       "pff_passCoverageType              object\n",
       "frameId                            int64\n",
       "time                      datetime64[ns]\n",
       "jerseyNumber                     float64\n",
       "team                              object\n",
       "playDirection                   category\n",
       "x                                float64\n",
       "y                                float64\n",
       "s                                float64\n",
       "a                                float64\n",
       "dis                              float64\n",
       "o                                float64\n",
       "dir                              float64\n",
       "event                             object\n",
       "dtype: object"
      ]
     },
     "execution_count": 24,
     "metadata": {},
     "output_type": "execute_result"
    }
   ],
   "source": [
    "dfnew.dtypes"
   ]
  },
  {
   "cell_type": "code",
   "execution_count": 25,
   "id": "af2170ad",
   "metadata": {},
   "outputs": [],
   "source": [
    "numeric_feature = [col for col in dfnew.columns if dfnew[col].dtype != 'O']\n",
    "categorical_feature = [col for col in dfnew.columns if dfnew[col].dtype ==\n",
    "'O']"
   ]
  },
  {
   "cell_type": "code",
   "execution_count": 26,
   "id": "9a60700f",
   "metadata": {},
   "outputs": [
    {
     "data": {
      "text/plain": [
       "['gameId',\n",
       " 'season',\n",
       " 'week',\n",
       " 'playId',\n",
       " 'nflId',\n",
       " 'weight',\n",
       " 'quarter',\n",
       " 'down',\n",
       " 'yardsToGo',\n",
       " 'yardlineNumber',\n",
       " 'preSnapHomeScore',\n",
       " 'preSnapVisitorScore',\n",
       " 'prePenaltyPlayResult',\n",
       " 'playResult',\n",
       " 'absoluteYardlineNumber',\n",
       " 'defendersInBox',\n",
       " 'pff_playAction',\n",
       " 'frameId',\n",
       " 'time',\n",
       " 'jerseyNumber',\n",
       " 'playDirection',\n",
       " 'x',\n",
       " 'y',\n",
       " 's',\n",
       " 'a',\n",
       " 'dis',\n",
       " 'o',\n",
       " 'dir']"
      ]
     },
     "execution_count": 26,
     "metadata": {},
     "output_type": "execute_result"
    }
   ],
   "source": [
    "numeric_feature"
   ]
  },
  {
   "cell_type": "code",
   "execution_count": 30,
   "id": "3da4a622",
   "metadata": {},
   "outputs": [],
   "source": [
    "numeric_feature.remove('time')"
   ]
  },
  {
   "cell_type": "code",
   "execution_count": 31,
   "id": "ece9dfb0",
   "metadata": {},
   "outputs": [],
   "source": [
    "numeric_feature.remove('playDirection')"
   ]
  },
  {
   "cell_type": "code",
   "execution_count": 32,
   "id": "81f90bcc",
   "metadata": {},
   "outputs": [
    {
     "data": {
      "text/plain": [
       "['gameId',\n",
       " 'season',\n",
       " 'week',\n",
       " 'playId',\n",
       " 'nflId',\n",
       " 'weight',\n",
       " 'quarter',\n",
       " 'down',\n",
       " 'yardsToGo',\n",
       " 'yardlineNumber',\n",
       " 'preSnapHomeScore',\n",
       " 'preSnapVisitorScore',\n",
       " 'prePenaltyPlayResult',\n",
       " 'playResult',\n",
       " 'absoluteYardlineNumber',\n",
       " 'defendersInBox',\n",
       " 'pff_playAction',\n",
       " 'frameId',\n",
       " 'jerseyNumber',\n",
       " 'x',\n",
       " 'y',\n",
       " 's',\n",
       " 'a',\n",
       " 'dis',\n",
       " 'o',\n",
       " 'dir']"
      ]
     },
     "execution_count": 32,
     "metadata": {},
     "output_type": "execute_result"
    }
   ],
   "source": [
    "numeric_feature"
   ]
  },
  {
   "cell_type": "code",
   "execution_count": 27,
   "id": "bb0e6761",
   "metadata": {
    "scrolled": true
   },
   "outputs": [
    {
     "data": {
      "text/plain": [
       "['gameDate',\n",
       " 'gameTimeEastern',\n",
       " 'homeTeamAbbr',\n",
       " 'visitorTeamAbbr',\n",
       " 'pff_role',\n",
       " 'pff_positionLinedUp',\n",
       " 'height',\n",
       " 'birthDate',\n",
       " 'collegeName',\n",
       " 'officialPosition',\n",
       " 'displayName',\n",
       " 'playDescription',\n",
       " 'possessionTeam',\n",
       " 'defensiveTeam',\n",
       " 'yardlineSide',\n",
       " 'gameClock',\n",
       " 'passResult',\n",
       " 'offenseFormation',\n",
       " 'personnelO',\n",
       " 'personnelD',\n",
       " 'dropBackType',\n",
       " 'pff_passCoverage',\n",
       " 'pff_passCoverageType',\n",
       " 'team',\n",
       " 'event']"
      ]
     },
     "execution_count": 27,
     "metadata": {},
     "output_type": "execute_result"
    }
   ],
   "source": [
    "categorical_feature"
   ]
  },
  {
   "cell_type": "code",
   "execution_count": 33,
   "id": "4f343d00",
   "metadata": {},
   "outputs": [
    {
     "name": "stderr",
     "output_type": "stream",
     "text": [
      "C:\\Users\\U6049975\\AppData\\Local\\Temp\\ipykernel_1200\\4073244575.py:4: RuntimeWarning: More than 20 figures have been opened. Figures created through the pyplot interface (`matplotlib.pyplot.figure`) are retained until explicitly closed and may consume too much memory. (To control this warning, see the rcParam `figure.max_open_warning`).\n",
      "  fig = plt.figure()\n"
     ]
    },
    {
     "data": {
      "image/png": "[encoded data removed]",
      "text/plain": [
       "<Figure size 432x288 with 1 Axes>"
      ]
     },
     "metadata": {
      "needs_background": "light"
     },
     "output_type": "display_data"
    },
    {
     "data": {
      "image/png": "[encoded data removed]",
      "text/plain": [
       "<Figure size 432x288 with 1 Axes>"
      ]
     },
     "metadata": {
      "needs_background": "light"
     },
     "output_type": "display_data"
    },
    {
     "data": {
      "image/png": "[encoded data removed]",
      "text/plain": [
       "<Figure size 432x288 with 1 Axes>"
      ]
     },
     "metadata": {
      "needs_background": "light"
     },
     "output_type": "display_data"
    },
    {
     "data": {
      "image/png": "[encoded data removed]",
      "text/plain": [
       "<Figure size 432x288 with 1 Axes>"
      ]
     },
     "metadata": {
      "needs_background": "light"
     },
     "output_type": "display_data"
    },
    {
     "data": {
      "image/png": "[encoded data removed]",
      "text/plain": [
       "<Figure size 432x288 with 1 Axes>"
      ]
     },
     "metadata": {
      "needs_background": "light"
     },
     "output_type": "display_data"
    },
    {
     "data": {
      "image/png": "[encoded data removed]",
      "text/plain": [
       "<Figure size 432x288 with 1 Axes>"
      ]
     },
     "metadata": {
      "needs_background": "light"
     },
     "output_type": "display_data"
    },
    {
     "data": {
      "image/png": "[encoded data removed]",
      "text/plain": [
       "<Figure size 432x288 with 1 Axes>"
      ]
     },
     "metadata": {
      "needs_background": "light"
     },
     "output_type": "display_data"
    },
    {
     "data": {
      "image/png": "[encoded data removed]",
      "text/plain": [
       "<Figure size 432x288 with 1 Axes>"
      ]
     },
     "metadata": {
      "needs_background": "light"
     },
     "output_type": "display_data"
    },
    {
     "data": {
      "image/png": "[encoded data removed]",
      "text/plain": [
       "<Figure size 432x288 with 1 Axes>"
      ]
     },
     "metadata": {
      "needs_background": "light"
     },
     "output_type": "display_data"
    },
    {
     "data": {
      "image/png": "[encoded data removed]",
      "text/plain": [
       "<Figure size 432x288 with 1 Axes>"
      ]
     },
     "metadata": {
      "needs_background": "light"
     },
     "output_type": "display_data"
    },
    {
     "data": {
      "image/png": "[encoded data removed]",
      "text/plain": [
       "<Figure size 432x288 with 1 Axes>"
      ]
     },
     "metadata": {
      "needs_background": "light"
     },
     "output_type": "display_data"
    },
    {
     "data": {
      "image/png": "[encoded data removed]",
      "text/plain": [
       "<Figure size 432x288 with 1 Axes>"
      ]
     },
     "metadata": {
      "needs_background": "light"
     },
     "output_type": "display_data"
    },
    {
     "data": {
      "image/png": "[encoded data removed]",
      "text/plain": [
       "<Figure size 432x288 with 1 Axes>"
      ]
     },
     "metadata": {
      "needs_background": "light"
     },
     "output_type": "display_data"
    },
    {
     "data": {
      "image/png": "[encoded data removed]",
      "text/plain": [
       "<Figure size 432x288 with 1 Axes>"
      ]
     },
     "metadata": {
      "needs_background": "light"
     },
     "output_type": "display_data"
    },
    {
     "data": {
      "image/png": "[encoded data removed]",
      "text/plain": [
       "<Figure size 432x288 with 1 Axes>"
      ]
     },
     "metadata": {
      "needs_background": "light"
     },
     "output_type": "display_data"
    },
    {
     "data": {
      "image/png": "[encoded data removed]",
      "text/plain": [
       "<Figure size 432x288 with 1 Axes>"
      ]
     },
     "metadata": {
      "needs_background": "light"
     },
     "output_type": "display_data"
    },
    {
     "data": {
      "image/png": "[encoded data removed]",
      "text/plain": [
       "<Figure size 432x288 with 1 Axes>"
      ]
     },
     "metadata": {
      "needs_background": "light"
     },
     "output_type": "display_data"
    },
    {
     "data": {
      "image/png": "[encoded data removed]",
      "text/plain": [
       "<Figure size 432x288 with 1 Axes>"
      ]
     },
     "metadata": {
      "needs_background": "light"
     },
     "output_type": "display_data"
    },
    {
     "data": {
      "image/png": "[encoded data removed]",
      "text/plain": [
       "<Figure size 432x288 with 1 Axes>"
      ]
     },
     "metadata": {
      "needs_background": "light"
     },
     "output_type": "display_data"
    },
    {
     "data": {
      "image/png": "[encoded data removed]",
      "text/plain": [
       "<Figure size 432x288 with 1 Axes>"
      ]
     },
     "metadata": {
      "needs_background": "light"
     },
     "output_type": "display_data"
    },
    {
     "data": {
      "image/png": "[encoded data removed]",
      "text/plain": [
       "<Figure size 432x288 with 1 Axes>"
      ]
     },
     "metadata": {
      "needs_background": "light"
     },
     "output_type": "display_data"
    },
    {
     "data": {
      "image/png": "[encoded data removed]",
      "text/plain": [
       "<Figure size 432x288 with 1 Axes>"
      ]
     },
     "metadata": {
      "needs_background": "light"
     },
     "output_type": "display_data"
    },
    {
     "data": {
      "image/png": "[encoded data removed]",
      "text/plain": [
       "<Figure size 432x288 with 1 Axes>"
      ]
     },
     "metadata": {
      "needs_background": "light"
     },
     "output_type": "display_data"
    },
    {
     "data": {
      "image/png": "[encoded data removed]",
      "text/plain": [
       "<Figure size 432x288 with 1 Axes>"
      ]
     },
     "metadata": {
      "needs_background": "light"
     },
     "output_type": "display_data"
    },
    {
     "data": {
      "image/png": "[encoded data removed]",
      "text/plain": [
       "<Figure size 432x288 with 1 Axes>"
      ]
     },
     "metadata": {
      "needs_background": "light"
     },
     "output_type": "display_data"
    },
    {
     "data": {
      "image/png": "[encoded data removed]",
      "text/plain": [
       "<Figure size 432x288 with 1 Axes>"
      ]
     },
     "metadata": {
      "needs_background": "light"
     },
     "output_type": "display_data"
    }
   ],
   "source": [
    "for col in dfnew.columns:\n",
    "    if col in numeric_feature:\n",
    "        try:\n",
    "            fig = plt.figure()\n",
    "            ax = fig.add_subplot()\n",
    "            ax.boxplot(dfnew[col])\n",
    "            ax.set_xlabel(col)\n",
    "            ax.set_ylabel('values')\n",
    "            ax.set_title('Outlier analysis')\n",
    "            plt.savefig(f'box_{col}.png')\n",
    "        except:\n",
    "            print(f'Error: box_{col}.png' )"
   ]
  },
  {
   "cell_type": "code",
   "execution_count": 34,
   "id": "c2b620fa",
   "metadata": {},
   "outputs": [
    {
     "data": {
      "image/png": "[encoded data removed]",
      "text/plain": [
       "<Figure size 1080x576 with 1 Axes>"
      ]
     },
     "metadata": {
      "needs_background": "light"
     },
     "output_type": "display_data"
    },
    {
     "data": {
      "image/png": "[encoded data removed]",
      "text/plain": [
       "<Figure size 1080x576 with 1 Axes>"
      ]
     },
     "metadata": {
      "needs_background": "light"
     },
     "output_type": "display_data"
    },
    {
     "data": {
      "image/png": "[encoded data removed]",
      "text/plain": [
       "<Figure size 1080x576 with 1 Axes>"
      ]
     },
     "metadata": {
      "needs_background": "light"
     },
     "output_type": "display_data"
    },
    {
     "data": {
      "image/png": "[encoded data removed]",
      "text/plain": [
       "<Figure size 1080x576 with 1 Axes>"
      ]
     },
     "metadata": {
      "needs_background": "light"
     },
     "output_type": "display_data"
    },
    {
     "data": {
      "image/png": "[encoded data removed]",
      "text/plain": [
       "<Figure size 1080x576 with 1 Axes>"
      ]
     },
     "metadata": {
      "needs_background": "light"
     },
     "output_type": "display_data"
    },
    {
     "data": {
      "image/png": "[encoded data removed]",
      "text/plain": [
       "<Figure size 1080x576 with 1 Axes>"
      ]
     },
     "metadata": {
      "needs_background": "light"
     },
     "output_type": "display_data"
    },
    {
     "data": {
      "image/png": "[encoded data removed]",
      "text/plain": [
       "<Figure size 1080x576 with 1 Axes>"
      ]
     },
     "metadata": {
      "needs_background": "light"
     },
     "output_type": "display_data"
    },
    {
     "data": {
      "image/png": "[encoded data removed]",
      "text/plain": [
       "<Figure size 1080x576 with 1 Axes>"
      ]
     },
     "metadata": {
      "needs_background": "light"
     },
     "output_type": "display_data"
    },
    {
     "data": {
      "image/png": "[encoded data removed]",
      "text/plain": [
       "<Figure size 1080x576 with 1 Axes>"
      ]
     },
     "metadata": {
      "needs_background": "light"
     },
     "output_type": "display_data"
    },
    {
     "data": {
      "image/png": "[encoded data removed]",
      "text/plain": [
       "<Figure size 1080x576 with 1 Axes>"
      ]
     },
     "metadata": {
      "needs_background": "light"
     },
     "output_type": "display_data"
    },
    {
     "data": {
      "image/png": "[encoded data removed]",
      "text/plain": [
       "<Figure size 1080x576 with 1 Axes>"
      ]
     },
     "metadata": {
      "needs_background": "light"
     },
     "output_type": "display_data"
    },
    {
     "data": {
      "image/png": "[encoded data removed]",
      "text/plain": [
       "<Figure size 1080x576 with 1 Axes>"
      ]
     },
     "metadata": {
      "needs_background": "light"
     },
     "output_type": "display_data"
    },
    {
     "data": {
      "image/png": "[encoded data removed]",
      "text/plain": [
       "<Figure size 1080x576 with 1 Axes>"
      ]
     },
     "metadata": {
      "needs_background": "light"
     },
     "output_type": "display_data"
    }
   ],
   "source": [
    "for col in dfnew.columns:\n",
    "    if dfnew[col].nunique() > 1 and dfnew[col].nunique() <= 15:\n",
    "        try:\n",
    "            plt.figure(figsize = (15,8))\n",
    "            sns.histplot(dfnew[col])\n",
    "            plt.savefig(f'cat_{col}.png')\n",
    "        except:\n",
    "            print(f'Error: cat_{col}.png' )"
   ]
  },
  {
   "cell_type": "code",
   "execution_count": 35,
   "id": "8db5d2e1",
   "metadata": {},
   "outputs": [
    {
     "data": {
      "text/html": [
       "<div>\n",
       "<style scoped>\n",
       "    .dataframe tbody tr th:only-of-type {\n",
       "        vertical-align: middle;\n",
       "    }\n",
       "\n",
       "    .dataframe tbody tr th {\n",
       "        vertical-align: top;\n",
       "    }\n",
       "\n",
       "    .dataframe thead th {\n",
       "        text-align: right;\n",
       "    }\n",
       "</style>\n",
       "<table border=\"1\" class=\"dataframe\">\n",
       "  <thead>\n",
       "    <tr style=\"text-align: right;\">\n",
       "      <th></th>\n",
       "      <th>x</th>\n",
       "      <th>y</th>\n",
       "      <th>s</th>\n",
       "      <th>a</th>\n",
       "      <th>dis</th>\n",
       "      <th>o</th>\n",
       "      <th>dir</th>\n",
       "    </tr>\n",
       "  </thead>\n",
       "  <tbody>\n",
       "    <tr>\n",
       "      <th>0</th>\n",
       "      <td>37.77</td>\n",
       "      <td>24.22</td>\n",
       "      <td>0.29</td>\n",
       "      <td>0.30</td>\n",
       "      <td>0.03</td>\n",
       "      <td>165.16</td>\n",
       "      <td>84.99</td>\n",
       "    </tr>\n",
       "    <tr>\n",
       "      <th>1</th>\n",
       "      <td>37.78</td>\n",
       "      <td>24.22</td>\n",
       "      <td>0.23</td>\n",
       "      <td>0.11</td>\n",
       "      <td>0.02</td>\n",
       "      <td>164.33</td>\n",
       "      <td>92.87</td>\n",
       "    </tr>\n",
       "    <tr>\n",
       "      <th>2</th>\n",
       "      <td>37.78</td>\n",
       "      <td>24.24</td>\n",
       "      <td>0.16</td>\n",
       "      <td>0.10</td>\n",
       "      <td>0.01</td>\n",
       "      <td>160.24</td>\n",
       "      <td>68.55</td>\n",
       "    </tr>\n",
       "    <tr>\n",
       "      <th>3</th>\n",
       "      <td>37.73</td>\n",
       "      <td>24.25</td>\n",
       "      <td>0.15</td>\n",
       "      <td>0.24</td>\n",
       "      <td>0.06</td>\n",
       "      <td>152.13</td>\n",
       "      <td>296.85</td>\n",
       "    </tr>\n",
       "    <tr>\n",
       "      <th>4</th>\n",
       "      <td>37.69</td>\n",
       "      <td>24.26</td>\n",
       "      <td>0.25</td>\n",
       "      <td>0.18</td>\n",
       "      <td>0.04</td>\n",
       "      <td>148.33</td>\n",
       "      <td>287.55</td>\n",
       "    </tr>\n",
       "  </tbody>\n",
       "</table>\n",
       "</div>"
      ],
      "text/plain": [
       "       x      y     s     a   dis       o     dir\n",
       "0  37.77  24.22  0.29  0.30  0.03  165.16   84.99\n",
       "1  37.78  24.22  0.23  0.11  0.02  164.33   92.87\n",
       "2  37.78  24.24  0.16  0.10  0.01  160.24   68.55\n",
       "3  37.73  24.25  0.15  0.24  0.06  152.13  296.85\n",
       "4  37.69  24.26  0.25  0.18  0.04  148.33  287.55"
      ]
     },
     "execution_count": 35,
     "metadata": {},
     "output_type": "execute_result"
    }
   ],
   "source": [
    "dfnumbers = df.iloc[::, -8:-1]\n",
    "dfnumbers.head()"
   ]
  },
  {
   "cell_type": "code",
   "execution_count": null,
   "id": "bf330f37",
   "metadata": {},
   "outputs": [],
   "source": []
  }
 ],
 "metadata": {
  "kernelspec": {
   "display_name": "Python 3 (ipykernel)",
   "language": "python",
   "name": "python3"
  },
  "language_info": {
   "codemirror_mode": {
    "name": "ipython",
    "version": 3
   },
   "file_extension": ".py",
   "mimetype": "text/x-python",
   "name": "python",
   "nbconvert_exporter": "python",
   "pygments_lexer": "ipython3",
   "version": "3.9.12"
  }
 },
 "nbformat": 4,
 "nbformat_minor": 5
}
