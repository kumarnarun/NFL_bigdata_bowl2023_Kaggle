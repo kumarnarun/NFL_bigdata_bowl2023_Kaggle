{
 "cells": [
  {
   "cell_type": "code",
   "execution_count": 1,
   "id": "c3e1ad86",
   "metadata": {},
   "outputs": [],
   "source": [
    "import pandas as pd\n",
    "import numpy as np\n",
    "import gc\n",
    "import glob\n",
    "import os"
   ]
  },
  {
   "cell_type": "code",
   "execution_count": 2,
   "id": "0c3a7962",
   "metadata": {},
   "outputs": [],
   "source": [
    "all_files = glob.glob(\"week*.csv\")\n",
    "grouped_files = []\n",
    "\n",
    "for filename in all_files:\n",
    "    chunk = pd.read_csv(filename, index_col=None, header=0)\n",
    "    chunk.dropna(inplace=True)\n",
    "    for col in chunk.columns:\n",
    "        if chunk[col].dtype == 'float64':\n",
    "            chunk[col] = chunk[col].astype('float32')\n",
    "        if chunk[col].dtype == 'int64':\n",
    "            chunk[col] = chunk[col].astype('int32')\n",
    "    gc.collect()\n",
    "    grouped_files.append(chunk)\n",
    "\n",
    "    df = pd.concat(grouped_files, axis=0, ignore_index=True)"
   ]
  },
  {
   "cell_type": "code",
   "execution_count": 3,
   "id": "ca4fc980",
   "metadata": {
    "scrolled": true
   },
   "outputs": [
    {
     "name": "stdout",
     "output_type": "stream",
     "text": [
      "<class 'pandas.core.frame.DataFrame'>\n",
      "RangeIndex: 7952692 entries, 0 to 7952691\n",
      "Data columns (total 16 columns):\n",
      " #   Column         Dtype  \n",
      "---  ------         -----  \n",
      " 0   gameId         int32  \n",
      " 1   playId         int32  \n",
      " 2   nflId          float32\n",
      " 3   frameId        int32  \n",
      " 4   time           object \n",
      " 5   jerseyNumber   float32\n",
      " 6   team           object \n",
      " 7   playDirection  object \n",
      " 8   x              float32\n",
      " 9   y              float32\n",
      " 10  s              float32\n",
      " 11  a              float32\n",
      " 12  dis            float32\n",
      " 13  o              float32\n",
      " 14  dir            float32\n",
      " 15  event          object \n",
      "dtypes: float32(9), int32(3), object(4)\n",
      "memory usage: 606.7+ MB\n"
     ]
    }
   ],
   "source": [
    "df.info()"
   ]
  },
  {
   "cell_type": "code",
   "execution_count": 4,
   "id": "777b63eb",
   "metadata": {},
   "outputs": [],
   "source": [
    "df.to_feather(\"optimized_nfl_new.feather\")"
   ]
  },
  {
   "cell_type": "code",
   "execution_count": 5,
   "id": "7f069ea7",
   "metadata": {
    "scrolled": true
   },
   "outputs": [
    {
     "data": {
      "text/html": [
       "<div>\n",
       "<style scoped>\n",
       "    .dataframe tbody tr th:only-of-type {\n",
       "        vertical-align: middle;\n",
       "    }\n",
       "\n",
       "    .dataframe tbody tr th {\n",
       "        vertical-align: top;\n",
       "    }\n",
       "\n",
       "    .dataframe thead th {\n",
       "        text-align: right;\n",
       "    }\n",
       "</style>\n",
       "<table border=\"1\" class=\"dataframe\">\n",
       "  <thead>\n",
       "    <tr style=\"text-align: right;\">\n",
       "      <th></th>\n",
       "      <th>gameId</th>\n",
       "      <th>playId</th>\n",
       "      <th>nflId</th>\n",
       "      <th>frameId</th>\n",
       "      <th>time</th>\n",
       "      <th>jerseyNumber</th>\n",
       "      <th>team</th>\n",
       "      <th>playDirection</th>\n",
       "      <th>x</th>\n",
       "      <th>y</th>\n",
       "      <th>s</th>\n",
       "      <th>a</th>\n",
       "      <th>dis</th>\n",
       "      <th>o</th>\n",
       "      <th>dir</th>\n",
       "      <th>event</th>\n",
       "    </tr>\n",
       "  </thead>\n",
       "  <tbody>\n",
       "    <tr>\n",
       "      <th>0</th>\n",
       "      <td>2021090900</td>\n",
       "      <td>97</td>\n",
       "      <td>25511.0</td>\n",
       "      <td>1</td>\n",
       "      <td>2021-09-10T00:26:31.100</td>\n",
       "      <td>12.0</td>\n",
       "      <td>TB</td>\n",
       "      <td>right</td>\n",
       "      <td>37.770000</td>\n",
       "      <td>24.219999</td>\n",
       "      <td>0.29</td>\n",
       "      <td>0.30</td>\n",
       "      <td>0.03</td>\n",
       "      <td>165.160004</td>\n",
       "      <td>84.989998</td>\n",
       "      <td>None</td>\n",
       "    </tr>\n",
       "    <tr>\n",
       "      <th>1</th>\n",
       "      <td>2021090900</td>\n",
       "      <td>97</td>\n",
       "      <td>25511.0</td>\n",
       "      <td>2</td>\n",
       "      <td>2021-09-10T00:26:31.200</td>\n",
       "      <td>12.0</td>\n",
       "      <td>TB</td>\n",
       "      <td>right</td>\n",
       "      <td>37.779999</td>\n",
       "      <td>24.219999</td>\n",
       "      <td>0.23</td>\n",
       "      <td>0.11</td>\n",
       "      <td>0.02</td>\n",
       "      <td>164.330002</td>\n",
       "      <td>92.870003</td>\n",
       "      <td>None</td>\n",
       "    </tr>\n",
       "    <tr>\n",
       "      <th>2</th>\n",
       "      <td>2021090900</td>\n",
       "      <td>97</td>\n",
       "      <td>25511.0</td>\n",
       "      <td>3</td>\n",
       "      <td>2021-09-10T00:26:31.300</td>\n",
       "      <td>12.0</td>\n",
       "      <td>TB</td>\n",
       "      <td>right</td>\n",
       "      <td>37.779999</td>\n",
       "      <td>24.240000</td>\n",
       "      <td>0.16</td>\n",
       "      <td>0.10</td>\n",
       "      <td>0.01</td>\n",
       "      <td>160.240005</td>\n",
       "      <td>68.550003</td>\n",
       "      <td>None</td>\n",
       "    </tr>\n",
       "    <tr>\n",
       "      <th>3</th>\n",
       "      <td>2021090900</td>\n",
       "      <td>97</td>\n",
       "      <td>25511.0</td>\n",
       "      <td>4</td>\n",
       "      <td>2021-09-10T00:26:31.400</td>\n",
       "      <td>12.0</td>\n",
       "      <td>TB</td>\n",
       "      <td>right</td>\n",
       "      <td>37.730000</td>\n",
       "      <td>24.250000</td>\n",
       "      <td>0.15</td>\n",
       "      <td>0.24</td>\n",
       "      <td>0.06</td>\n",
       "      <td>152.130005</td>\n",
       "      <td>296.850006</td>\n",
       "      <td>None</td>\n",
       "    </tr>\n",
       "    <tr>\n",
       "      <th>4</th>\n",
       "      <td>2021090900</td>\n",
       "      <td>97</td>\n",
       "      <td>25511.0</td>\n",
       "      <td>5</td>\n",
       "      <td>2021-09-10T00:26:31.500</td>\n",
       "      <td>12.0</td>\n",
       "      <td>TB</td>\n",
       "      <td>right</td>\n",
       "      <td>37.689999</td>\n",
       "      <td>24.260000</td>\n",
       "      <td>0.25</td>\n",
       "      <td>0.18</td>\n",
       "      <td>0.04</td>\n",
       "      <td>148.330002</td>\n",
       "      <td>287.549988</td>\n",
       "      <td>None</td>\n",
       "    </tr>\n",
       "  </tbody>\n",
       "</table>\n",
       "</div>"
      ],
      "text/plain": [
       "       gameId  playId    nflId  frameId                     time  \\\n",
       "0  2021090900      97  25511.0        1  2021-09-10T00:26:31.100   \n",
       "1  2021090900      97  25511.0        2  2021-09-10T00:26:31.200   \n",
       "2  2021090900      97  25511.0        3  2021-09-10T00:26:31.300   \n",
       "3  2021090900      97  25511.0        4  2021-09-10T00:26:31.400   \n",
       "4  2021090900      97  25511.0        5  2021-09-10T00:26:31.500   \n",
       "\n",
       "   jerseyNumber team playDirection          x          y     s     a   dis  \\\n",
       "0          12.0   TB         right  37.770000  24.219999  0.29  0.30  0.03   \n",
       "1          12.0   TB         right  37.779999  24.219999  0.23  0.11  0.02   \n",
       "2          12.0   TB         right  37.779999  24.240000  0.16  0.10  0.01   \n",
       "3          12.0   TB         right  37.730000  24.250000  0.15  0.24  0.06   \n",
       "4          12.0   TB         right  37.689999  24.260000  0.25  0.18  0.04   \n",
       "\n",
       "            o         dir event  \n",
       "0  165.160004   84.989998  None  \n",
       "1  164.330002   92.870003  None  \n",
       "2  160.240005   68.550003  None  \n",
       "3  152.130005  296.850006  None  \n",
       "4  148.330002  287.549988  None  "
      ]
     },
     "execution_count": 5,
     "metadata": {},
     "output_type": "execute_result"
    }
   ],
   "source": [
    "dfweek = pd.read_feather('optimized_nfl_new.feather')\n",
    "dfweek.head()"
   ]
  },
  {
   "cell_type": "code",
   "execution_count": 6,
   "id": "65cbfdaf",
   "metadata": {
    "scrolled": true
   },
   "outputs": [
    {
     "name": "stdout",
     "output_type": "stream",
     "text": [
      "<class 'pandas.core.frame.DataFrame'>\n",
      "RangeIndex: 7952692 entries, 0 to 7952691\n",
      "Data columns (total 16 columns):\n",
      " #   Column         Dtype  \n",
      "---  ------         -----  \n",
      " 0   gameId         int32  \n",
      " 1   playId         int32  \n",
      " 2   nflId          float32\n",
      " 3   frameId        int32  \n",
      " 4   time           object \n",
      " 5   jerseyNumber   float32\n",
      " 6   team           object \n",
      " 7   playDirection  object \n",
      " 8   x              float32\n",
      " 9   y              float32\n",
      " 10  s              float32\n",
      " 11  a              float32\n",
      " 12  dis            float32\n",
      " 13  o              float32\n",
      " 14  dir            float32\n",
      " 15  event          object \n",
      "dtypes: float32(9), int32(3), object(4)\n",
      "memory usage: 606.7+ MB\n"
     ]
    }
   ],
   "source": [
    "dfweek.info()"
   ]
  },
  {
   "cell_type": "code",
   "execution_count": null,
   "id": "067315fb",
   "metadata": {},
   "outputs": [],
   "source": []
  },
  {
   "cell_type": "code",
   "execution_count": null,
   "id": "0034dac3",
   "metadata": {},
   "outputs": [],
   "source": []
  },
  {
   "cell_type": "code",
   "execution_count": null,
   "id": "ac0eabdb",
   "metadata": {},
   "outputs": [],
   "source": []
  },
  {
   "cell_type": "code",
   "execution_count": null,
   "id": "c0b7111c",
   "metadata": {},
   "outputs": [],
   "source": []
  }
 ],
 "metadata": {
  "kernelspec": {
   "display_name": "Python 3 (ipykernel)",
   "language": "python",
   "name": "python3"
  },
  "language_info": {
   "codemirror_mode": {
    "name": "ipython",
    "version": 3
   },
   "file_extension": ".py",
   "mimetype": "text/x-python",
   "name": "python",
   "nbconvert_exporter": "python",
   "pygments_lexer": "ipython3",
   "version": "3.9.12"
  }
 },
 "nbformat": 4,
 "nbformat_minor": 5
}
