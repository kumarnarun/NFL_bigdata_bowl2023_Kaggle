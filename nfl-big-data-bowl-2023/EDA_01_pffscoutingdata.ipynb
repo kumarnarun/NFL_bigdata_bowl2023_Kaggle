{
 "cells": [
  {
   "cell_type": "code",
   "execution_count": 3,
   "id": "2ccf71e8",
   "metadata": {},
   "outputs": [],
   "source": [
    "import pandas as pd\n",
    "import numpy as np\n",
    "import matplotlib.pyplot as plt\n",
    "import seaborn as sns"
   ]
  },
  {
   "cell_type": "code",
   "execution_count": 4,
   "id": "e8373a78",
   "metadata": {},
   "outputs": [
    {
     "data": {
      "text/html": [
       "<div>\n",
       "<style scoped>\n",
       "    .dataframe tbody tr th:only-of-type {\n",
       "        vertical-align: middle;\n",
       "    }\n",
       "\n",
       "    .dataframe tbody tr th {\n",
       "        vertical-align: top;\n",
       "    }\n",
       "\n",
       "    .dataframe thead th {\n",
       "        text-align: right;\n",
       "    }\n",
       "</style>\n",
       "<table border=\"1\" class=\"dataframe\">\n",
       "  <thead>\n",
       "    <tr style=\"text-align: right;\">\n",
       "      <th></th>\n",
       "      <th>gameId</th>\n",
       "      <th>playId</th>\n",
       "      <th>nflId</th>\n",
       "      <th>pff_role</th>\n",
       "      <th>pff_positionLinedUp</th>\n",
       "      <th>pff_hit</th>\n",
       "      <th>pff_hurry</th>\n",
       "      <th>pff_sack</th>\n",
       "      <th>pff_beatenByDefender</th>\n",
       "      <th>pff_hitAllowed</th>\n",
       "      <th>pff_hurryAllowed</th>\n",
       "      <th>pff_sackAllowed</th>\n",
       "      <th>pff_nflIdBlockedPlayer</th>\n",
       "      <th>pff_blockType</th>\n",
       "      <th>pff_backFieldBlock</th>\n",
       "    </tr>\n",
       "  </thead>\n",
       "  <tbody>\n",
       "    <tr>\n",
       "      <th>0</th>\n",
       "      <td>2021090900</td>\n",
       "      <td>97</td>\n",
       "      <td>25511</td>\n",
       "      <td>Pass</td>\n",
       "      <td>QB</td>\n",
       "      <td>NaN</td>\n",
       "      <td>NaN</td>\n",
       "      <td>NaN</td>\n",
       "      <td>NaN</td>\n",
       "      <td>NaN</td>\n",
       "      <td>NaN</td>\n",
       "      <td>NaN</td>\n",
       "      <td>NaN</td>\n",
       "      <td>NaN</td>\n",
       "      <td>NaN</td>\n",
       "    </tr>\n",
       "    <tr>\n",
       "      <th>1</th>\n",
       "      <td>2021090900</td>\n",
       "      <td>97</td>\n",
       "      <td>35481</td>\n",
       "      <td>Pass Route</td>\n",
       "      <td>TE-L</td>\n",
       "      <td>NaN</td>\n",
       "      <td>NaN</td>\n",
       "      <td>NaN</td>\n",
       "      <td>NaN</td>\n",
       "      <td>NaN</td>\n",
       "      <td>NaN</td>\n",
       "      <td>NaN</td>\n",
       "      <td>NaN</td>\n",
       "      <td>NaN</td>\n",
       "      <td>NaN</td>\n",
       "    </tr>\n",
       "    <tr>\n",
       "      <th>2</th>\n",
       "      <td>2021090900</td>\n",
       "      <td>97</td>\n",
       "      <td>35634</td>\n",
       "      <td>Pass Route</td>\n",
       "      <td>LWR</td>\n",
       "      <td>NaN</td>\n",
       "      <td>NaN</td>\n",
       "      <td>NaN</td>\n",
       "      <td>NaN</td>\n",
       "      <td>NaN</td>\n",
       "      <td>NaN</td>\n",
       "      <td>NaN</td>\n",
       "      <td>NaN</td>\n",
       "      <td>NaN</td>\n",
       "      <td>NaN</td>\n",
       "    </tr>\n",
       "    <tr>\n",
       "      <th>3</th>\n",
       "      <td>2021090900</td>\n",
       "      <td>97</td>\n",
       "      <td>39985</td>\n",
       "      <td>Pass Route</td>\n",
       "      <td>HB-R</td>\n",
       "      <td>NaN</td>\n",
       "      <td>NaN</td>\n",
       "      <td>NaN</td>\n",
       "      <td>NaN</td>\n",
       "      <td>NaN</td>\n",
       "      <td>NaN</td>\n",
       "      <td>NaN</td>\n",
       "      <td>NaN</td>\n",
       "      <td>NaN</td>\n",
       "      <td>NaN</td>\n",
       "    </tr>\n",
       "    <tr>\n",
       "      <th>4</th>\n",
       "      <td>2021090900</td>\n",
       "      <td>97</td>\n",
       "      <td>40151</td>\n",
       "      <td>Pass Block</td>\n",
       "      <td>C</td>\n",
       "      <td>NaN</td>\n",
       "      <td>NaN</td>\n",
       "      <td>NaN</td>\n",
       "      <td>0.0</td>\n",
       "      <td>0.0</td>\n",
       "      <td>0.0</td>\n",
       "      <td>0.0</td>\n",
       "      <td>44955.0</td>\n",
       "      <td>SW</td>\n",
       "      <td>0.0</td>\n",
       "    </tr>\n",
       "  </tbody>\n",
       "</table>\n",
       "</div>"
      ],
      "text/plain": [
       "       gameId  playId  nflId    pff_role pff_positionLinedUp  pff_hit  \\\n",
       "0  2021090900      97  25511        Pass                  QB      NaN   \n",
       "1  2021090900      97  35481  Pass Route                TE-L      NaN   \n",
       "2  2021090900      97  35634  Pass Route                 LWR      NaN   \n",
       "3  2021090900      97  39985  Pass Route                HB-R      NaN   \n",
       "4  2021090900      97  40151  Pass Block                   C      NaN   \n",
       "\n",
       "   pff_hurry  pff_sack  pff_beatenByDefender  pff_hitAllowed  \\\n",
       "0        NaN       NaN                   NaN             NaN   \n",
       "1        NaN       NaN                   NaN             NaN   \n",
       "2        NaN       NaN                   NaN             NaN   \n",
       "3        NaN       NaN                   NaN             NaN   \n",
       "4        NaN       NaN                   0.0             0.0   \n",
       "\n",
       "   pff_hurryAllowed  pff_sackAllowed  pff_nflIdBlockedPlayer pff_blockType  \\\n",
       "0               NaN              NaN                     NaN           NaN   \n",
       "1               NaN              NaN                     NaN           NaN   \n",
       "2               NaN              NaN                     NaN           NaN   \n",
       "3               NaN              NaN                     NaN           NaN   \n",
       "4               0.0              0.0                 44955.0            SW   \n",
       "\n",
       "   pff_backFieldBlock  \n",
       "0                 NaN  \n",
       "1                 NaN  \n",
       "2                 NaN  \n",
       "3                 NaN  \n",
       "4                 0.0  "
      ]
     },
     "execution_count": 4,
     "metadata": {},
     "output_type": "execute_result"
    }
   ],
   "source": [
    "df = pd.read_csv('pffScoutingData.csv')\n",
    "df.head()"
   ]
  },
  {
   "cell_type": "code",
   "execution_count": 5,
   "id": "f59fbe3f",
   "metadata": {},
   "outputs": [
    {
     "data": {
      "text/plain": [
       "gameId                     122\n",
       "playId                    3762\n",
       "nflId                     1679\n",
       "pff_role                     5\n",
       "pff_positionLinedUp         56\n",
       "pff_hit                      2\n",
       "pff_hurry                    2\n",
       "pff_sack                     2\n",
       "pff_beatenByDefender         2\n",
       "pff_hitAllowed               2\n",
       "pff_hurryAllowed             2\n",
       "pff_sackAllowed              2\n",
       "pff_nflIdBlockedPlayer     665\n",
       "pff_blockType               12\n",
       "pff_backFieldBlock           2\n",
       "dtype: int64"
      ]
     },
     "execution_count": 5,
     "metadata": {},
     "output_type": "execute_result"
    }
   ],
   "source": [
    "df.nunique()"
   ]
  },
  {
   "cell_type": "code",
   "execution_count": 6,
   "id": "955c769b",
   "metadata": {},
   "outputs": [
    {
     "name": "stdout",
     "output_type": "stream",
     "text": [
      "122\n",
      "3762\n",
      "1679\n",
      "5\n",
      "56\n",
      "2\n",
      "2\n",
      "2\n",
      "2\n",
      "2\n",
      "2\n",
      "2\n",
      "665\n",
      "12\n",
      "2\n"
     ]
    }
   ],
   "source": [
    "for col in df.columns:\n",
    "    \n",
    "    print(f'{df[col].nunique()}')"
   ]
  },
  {
   "cell_type": "code",
   "execution_count": 7,
   "id": "439e7c11",
   "metadata": {},
   "outputs": [
    {
     "data": {
      "text/plain": [
       "gameId                     0.000000\n",
       "playId                     0.000000\n",
       "nflId                      0.000000\n",
       "pff_role                   0.000000\n",
       "pff_positionLinedUp        0.000000\n",
       "pff_hit                   50.000000\n",
       "pff_hurry                 50.000000\n",
       "pff_sack                  50.000000\n",
       "pff_beatenByDefender      74.456320\n",
       "pff_hitAllowed            74.456320\n",
       "pff_hurryAllowed          74.456320\n",
       "pff_sackAllowed           74.456320\n",
       "pff_nflIdBlockedPlayer    75.285519\n",
       "pff_blockType             74.553529\n",
       "pff_backFieldBlock        74.554060\n",
       "dtype: float64"
      ]
     },
     "execution_count": 7,
     "metadata": {},
     "output_type": "execute_result"
    }
   ],
   "source": [
    "percent_missing = df.isnull().sum() * 100 / len(df)\n",
    "missing_value_df = pd.DataFrame({'column_name': df.columns,\n",
    "                                 'percent_missing': percent_missing})\n",
    "percent_missing"
   ]
  },
  {
   "cell_type": "code",
   "execution_count": 8,
   "id": "e2a5f65f",
   "metadata": {},
   "outputs": [
    {
     "data": {
      "text/plain": [
       "(188254, 15)"
      ]
     },
     "execution_count": 8,
     "metadata": {},
     "output_type": "execute_result"
    }
   ],
   "source": [
    "df.shape"
   ]
  },
  {
   "cell_type": "code",
   "execution_count": 9,
   "id": "9d42874c",
   "metadata": {},
   "outputs": [
    {
     "name": "stdout",
     "output_type": "stream",
     "text": [
      "<class 'pandas.core.frame.DataFrame'>\n",
      "RangeIndex: 188254 entries, 0 to 188253\n",
      "Data columns (total 15 columns):\n",
      " #   Column                  Non-Null Count   Dtype  \n",
      "---  ------                  --------------   -----  \n",
      " 0   gameId                  188254 non-null  int64  \n",
      " 1   playId                  188254 non-null  int64  \n",
      " 2   nflId                   188254 non-null  int64  \n",
      " 3   pff_role                188254 non-null  object \n",
      " 4   pff_positionLinedUp     188254 non-null  object \n",
      " 5   pff_hit                 94127 non-null   float64\n",
      " 6   pff_hurry               94127 non-null   float64\n",
      " 7   pff_sack                94127 non-null   float64\n",
      " 8   pff_beatenByDefender    48087 non-null   float64\n",
      " 9   pff_hitAllowed          48087 non-null   float64\n",
      " 10  pff_hurryAllowed        48087 non-null   float64\n",
      " 11  pff_sackAllowed         48087 non-null   float64\n",
      " 12  pff_nflIdBlockedPlayer  46526 non-null   float64\n",
      " 13  pff_blockType           47904 non-null   object \n",
      " 14  pff_backFieldBlock      47903 non-null   float64\n",
      "dtypes: float64(9), int64(3), object(3)\n",
      "memory usage: 21.5+ MB\n"
     ]
    }
   ],
   "source": [
    "df.info()"
   ]
  },
  {
   "cell_type": "code",
   "execution_count": 10,
   "id": "021584d8",
   "metadata": {},
   "outputs": [
    {
     "data": {
      "image/png": "[encoded data removed]",
      "text/plain": [
       "<Figure size 1296x432 with 1 Axes>"
      ]
     },
     "metadata": {
      "needs_background": "light"
     },
     "output_type": "display_data"
    }
   ],
   "source": [
    "sns.displot(data=df,x='pff_role',height=6,aspect=3)\n",
    "plt.show()"
   ]
  },
  {
   "cell_type": "code",
   "execution_count": 11,
   "id": "fc400959",
   "metadata": {},
   "outputs": [
    {
     "data": {
      "text/plain": [
       "(94127, 15)"
      ]
     },
     "execution_count": 11,
     "metadata": {},
     "output_type": "execute_result"
    }
   ],
   "source": [
    "df_hit = df.loc[(df['pff_hit']== 0.)|(df['pff_hit']== 1.)]\n",
    "df_hit.shape"
   ]
  },
  {
   "cell_type": "code",
   "execution_count": 12,
   "id": "c361713a",
   "metadata": {},
   "outputs": [
    {
     "data": {
      "text/html": [
       "<div>\n",
       "<style scoped>\n",
       "    .dataframe tbody tr th:only-of-type {\n",
       "        vertical-align: middle;\n",
       "    }\n",
       "\n",
       "    .dataframe tbody tr th {\n",
       "        vertical-align: top;\n",
       "    }\n",
       "\n",
       "    .dataframe thead th {\n",
       "        text-align: right;\n",
       "    }\n",
       "</style>\n",
       "<table border=\"1\" class=\"dataframe\">\n",
       "  <thead>\n",
       "    <tr style=\"text-align: right;\">\n",
       "      <th></th>\n",
       "      <th>gameId</th>\n",
       "      <th>playId</th>\n",
       "      <th>nflId</th>\n",
       "      <th>pff_role</th>\n",
       "      <th>pff_positionLinedUp</th>\n",
       "      <th>pff_hit</th>\n",
       "      <th>pff_hurry</th>\n",
       "      <th>pff_sack</th>\n",
       "      <th>pff_beatenByDefender</th>\n",
       "      <th>pff_hitAllowed</th>\n",
       "      <th>pff_hurryAllowed</th>\n",
       "      <th>pff_sackAllowed</th>\n",
       "      <th>pff_nflIdBlockedPlayer</th>\n",
       "      <th>pff_blockType</th>\n",
       "      <th>pff_backFieldBlock</th>\n",
       "    </tr>\n",
       "  </thead>\n",
       "  <tbody>\n",
       "    <tr>\n",
       "      <th>6</th>\n",
       "      <td>2021090900</td>\n",
       "      <td>97</td>\n",
       "      <td>41263</td>\n",
       "      <td>Pass Rush</td>\n",
       "      <td>LEO</td>\n",
       "      <td>0.0</td>\n",
       "      <td>1.0</td>\n",
       "      <td>0.0</td>\n",
       "      <td>NaN</td>\n",
       "      <td>NaN</td>\n",
       "      <td>NaN</td>\n",
       "      <td>NaN</td>\n",
       "      <td>NaN</td>\n",
       "      <td>NaN</td>\n",
       "      <td>NaN</td>\n",
       "    </tr>\n",
       "    <tr>\n",
       "      <th>8</th>\n",
       "      <td>2021090900</td>\n",
       "      <td>97</td>\n",
       "      <td>42403</td>\n",
       "      <td>Pass Rush</td>\n",
       "      <td>ROLB</td>\n",
       "      <td>0.0</td>\n",
       "      <td>1.0</td>\n",
       "      <td>0.0</td>\n",
       "      <td>NaN</td>\n",
       "      <td>NaN</td>\n",
       "      <td>NaN</td>\n",
       "      <td>NaN</td>\n",
       "      <td>NaN</td>\n",
       "      <td>NaN</td>\n",
       "      <td>NaN</td>\n",
       "    </tr>\n",
       "    <tr>\n",
       "      <th>10</th>\n",
       "      <td>2021090900</td>\n",
       "      <td>97</td>\n",
       "      <td>43306</td>\n",
       "      <td>Coverage</td>\n",
       "      <td>ROLB</td>\n",
       "      <td>0.0</td>\n",
       "      <td>0.0</td>\n",
       "      <td>0.0</td>\n",
       "      <td>NaN</td>\n",
       "      <td>NaN</td>\n",
       "      <td>NaN</td>\n",
       "      <td>NaN</td>\n",
       "      <td>NaN</td>\n",
       "      <td>NaN</td>\n",
       "      <td>NaN</td>\n",
       "    </tr>\n",
       "    <tr>\n",
       "      <th>11</th>\n",
       "      <td>2021090900</td>\n",
       "      <td>97</td>\n",
       "      <td>43478</td>\n",
       "      <td>Coverage</td>\n",
       "      <td>RCB</td>\n",
       "      <td>0.0</td>\n",
       "      <td>0.0</td>\n",
       "      <td>0.0</td>\n",
       "      <td>NaN</td>\n",
       "      <td>NaN</td>\n",
       "      <td>NaN</td>\n",
       "      <td>NaN</td>\n",
       "      <td>NaN</td>\n",
       "      <td>NaN</td>\n",
       "      <td>NaN</td>\n",
       "    </tr>\n",
       "    <tr>\n",
       "      <th>13</th>\n",
       "      <td>2021090900</td>\n",
       "      <td>97</td>\n",
       "      <td>44904</td>\n",
       "      <td>Coverage</td>\n",
       "      <td>SCBR</td>\n",
       "      <td>0.0</td>\n",
       "      <td>0.0</td>\n",
       "      <td>0.0</td>\n",
       "      <td>NaN</td>\n",
       "      <td>NaN</td>\n",
       "      <td>NaN</td>\n",
       "      <td>NaN</td>\n",
       "      <td>NaN</td>\n",
       "      <td>NaN</td>\n",
       "      <td>NaN</td>\n",
       "    </tr>\n",
       "  </tbody>\n",
       "</table>\n",
       "</div>"
      ],
      "text/plain": [
       "        gameId  playId  nflId   pff_role pff_positionLinedUp  pff_hit  \\\n",
       "6   2021090900      97  41263  Pass Rush                 LEO      0.0   \n",
       "8   2021090900      97  42403  Pass Rush                ROLB      0.0   \n",
       "10  2021090900      97  43306   Coverage                ROLB      0.0   \n",
       "11  2021090900      97  43478   Coverage                 RCB      0.0   \n",
       "13  2021090900      97  44904   Coverage                SCBR      0.0   \n",
       "\n",
       "    pff_hurry  pff_sack  pff_beatenByDefender  pff_hitAllowed  \\\n",
       "6         1.0       0.0                   NaN             NaN   \n",
       "8         1.0       0.0                   NaN             NaN   \n",
       "10        0.0       0.0                   NaN             NaN   \n",
       "11        0.0       0.0                   NaN             NaN   \n",
       "13        0.0       0.0                   NaN             NaN   \n",
       "\n",
       "    pff_hurryAllowed  pff_sackAllowed  pff_nflIdBlockedPlayer pff_blockType  \\\n",
       "6                NaN              NaN                     NaN           NaN   \n",
       "8                NaN              NaN                     NaN           NaN   \n",
       "10               NaN              NaN                     NaN           NaN   \n",
       "11               NaN              NaN                     NaN           NaN   \n",
       "13               NaN              NaN                     NaN           NaN   \n",
       "\n",
       "    pff_backFieldBlock  \n",
       "6                  NaN  \n",
       "8                  NaN  \n",
       "10                 NaN  \n",
       "11                 NaN  \n",
       "13                 NaN  "
      ]
     },
     "execution_count": 12,
     "metadata": {},
     "output_type": "execute_result"
    }
   ],
   "source": [
    "df_hit.head()"
   ]
  },
  {
   "cell_type": "code",
   "execution_count": 13,
   "id": "da3d5495",
   "metadata": {},
   "outputs": [
    {
     "data": {
      "text/plain": [
       "array([nan,  0.,  1.])"
      ]
     },
     "execution_count": 13,
     "metadata": {},
     "output_type": "execute_result"
    }
   ],
   "source": [
    "df['pff_hit'].unique()"
   ]
  },
  {
   "cell_type": "code",
   "execution_count": 14,
   "id": "3971a9f9",
   "metadata": {
    "scrolled": true
   },
   "outputs": [
    {
     "data": {
      "image/png": "[encoded data removed]",
      "text/plain": [
       "<Figure size 1296x432 with 1 Axes>"
      ]
     },
     "metadata": {
      "needs_background": "light"
     },
     "output_type": "display_data"
    }
   ],
   "source": [
    "sns.displot(data=df_hit,x='pff_hit',height=6,aspect=3)\n",
    "plt.show()"
   ]
  },
  {
   "cell_type": "code",
   "execution_count": 15,
   "id": "a022f5c4",
   "metadata": {},
   "outputs": [
    {
     "data": {
      "text/plain": [
       "gameId                      int64\n",
       "playId                      int64\n",
       "nflId                       int64\n",
       "pff_role                   object\n",
       "pff_positionLinedUp        object\n",
       "pff_hit                   float64\n",
       "pff_hurry                 float64\n",
       "pff_sack                  float64\n",
       "pff_beatenByDefender      float64\n",
       "pff_hitAllowed            float64\n",
       "pff_hurryAllowed          float64\n",
       "pff_sackAllowed           float64\n",
       "pff_nflIdBlockedPlayer    float64\n",
       "pff_blockType              object\n",
       "pff_backFieldBlock        float64\n",
       "dtype: object"
      ]
     },
     "execution_count": 15,
     "metadata": {},
     "output_type": "execute_result"
    }
   ],
   "source": [
    "df.dtypes"
   ]
  },
  {
   "cell_type": "code",
   "execution_count": 16,
   "id": "a18d287a",
   "metadata": {},
   "outputs": [
    {
     "data": {
      "text/plain": [
       "gameId                     122\n",
       "playId                    3762\n",
       "nflId                     1679\n",
       "pff_role                     5\n",
       "pff_positionLinedUp         56\n",
       "pff_hit                      2\n",
       "pff_hurry                    2\n",
       "pff_sack                     2\n",
       "pff_beatenByDefender         2\n",
       "pff_hitAllowed               2\n",
       "pff_hurryAllowed             2\n",
       "pff_sackAllowed              2\n",
       "pff_nflIdBlockedPlayer     665\n",
       "pff_blockType               12\n",
       "pff_backFieldBlock           2\n",
       "dtype: int64"
      ]
     },
     "execution_count": 16,
     "metadata": {},
     "output_type": "execute_result"
    }
   ],
   "source": [
    "df.nunique()"
   ]
  },
  {
   "cell_type": "code",
   "execution_count": 17,
   "id": "4f3a6d42",
   "metadata": {},
   "outputs": [
    {
     "name": "stdout",
     "output_type": "stream",
     "text": [
      "pff_hit-[nan  0.  1.]\n",
      "pff_hurry-[nan  1.  0.]\n",
      "pff_sack-[nan  0.  1.]\n",
      "pff_beatenByDefender-[nan  0.  1.]\n",
      "pff_hitAllowed-[nan  0.  1.]\n",
      "pff_hurryAllowed-[nan  0.  1.]\n",
      "pff_sackAllowed-[nan  0.  1.]\n",
      "pff_nflIdBlockedPlayer-[   nan 44955. 42403. 53441. 35454. 40074. 35441. 46081. 34777. 46132.\n",
      " 41915. 42560. 38588. 53504. 41263. 41363. 46185. 53621. 44892. 53461.\n",
      " 52587. 43323. 47788. 52453. 47882. 47890. 43757. 43306. 46219. 43378.\n",
      " 35452. 44826. 38542. 43405. 37089. 46199. 53502. 42480. 40095. 46416.\n",
      " 43361. 42346. 46127. 42497. 53611. 52455. 43341. 46269. 40039. 44893.\n",
      " 52542. 53618. 37104. 44842. 52510. 35449. 42331. 53459. 47792. 44976.\n",
      " 35470. 38548. 52640. 47975. 44886. 43319. 46165. 37841. 53674. 43638.\n",
      " 52462. 43388. 46085. 45395. 40166. 40107. 52971. 52415. 41341. 47799.\n",
      " 43791. 42368. 43301. 53053. 46204. 46249. 41243. 44825. 52446. 43308.\n",
      " 47786. 44851. 53583. 52472. 53587. 46230. 46141. 48247. 46527. 53615.\n",
      " 52592. 46205. 43407. 45042. 48364. 44915. 45226. 43455. 44877. 46146.\n",
      " 53540. 42431. 39959. 35539. 52525. 43343. 44867. 43694. 46138. 44872.\n",
      " 47855. 43376. 48145. 43641. 47973. 38559. 42388. 53935. 43516. 45006.\n",
      " 52473. 45011. 47785. 42360. 46197. 42030. 41249. 44938. 46156. 41919.\n",
      " 38544. 42444. 53501. 40171. 48462. 43775. 48123. 46139. 52605. 44834.\n",
      " 46151. 53530. 47900. 40000. 48268. 53601. 43787. 42375. 44926. 47790.\n",
      " 44880. 43333. 43356. 45007. 47944. 38556. 46255. 52481. 45021. 46098.\n",
      " 43325. 53624. 44863. 52448. 43372. 44869. 52428. 42470. 40253. 41300.\n",
      " 46487. 35562. 41786. 35493. 46148. 44818. 38577. 40825. 47915. 48198.\n",
      " 52456. 52435. 53450. 44957. 43296. 45009. 47832. 46133. 45287. 47872.\n",
      " 47871. 46618. 46105. 52759. 52556. 42543. 47848. 38551. 37084. 52539.\n",
      " 42401. 53073. 52582. 47802. 42365. 46110. 42031. 35522. 42427. 48520.\n",
      " 48671. 46091. 44968. 41403. 53565. 52522. 53529. 52416. 44848. 48032.\n",
      " 46457. 53445. 46250. 47816. 53639. 47809. 46082. 44829. 52410. 47956.\n",
      " 43441. 52637. 46232. 52641. 47811. 46153. 35485. 43292. 46117. 43377.\n",
      " 42559. 53547. 52431. 43373. 52624. 52830. 53448. 42376. 39998. 45302.\n",
      " 52792. 43326. 43338. 52585. 53487. 46144. 41348. 47867. 40051. 38667.\n",
      " 44813. 41227. 44847. 52496. 43411. 44838. 53573. 46521. 44974. 37317.\n",
      " 47948. 42816. 53481. 46122. 41502. 52464. 43321. 42370. 47796. 45274.\n",
      " 47934. 44174. 43435. 42433. 53467. 41269. 40030. 43854. 46307. 52468.\n",
      " 38555. 53447. 43503. 44991. 44944. 47860. 46142. 42436. 37308. 48476.\n",
      " 46212. 42116. 34654. 42381. 43316. 47795. 43426. 47933. 52650. 52979.\n",
      " 46438. 42465. 37097. 42553. 46083. 52665. 48599. 48544. 48537. 42467.\n",
      " 44871. 53602. 43404. 38607. 48027. 52482. 34465. 37075. 40347. 48089.\n",
      " 41464. 47854. 53479. 42349. 47800. 46135. 42355. 44837. 43332. 43420.\n",
      " 52626. 47878. 52518. 41449. 42826. 46175. 53668. 53930. 40031. 53876.\n",
      " 53438. 42935. 47016. 52835. 46264. 47917. 41239. 47939. 43335. 37087.\n",
      " 41231. 38619. 46214. 43298. 46191. 46077. 52492. 52846. 44925. 53679.\n",
      " 41279. 42443. 46313. 47844. 39976. 52563. 52479. 37145. 44859. 40042.\n",
      " 33131. 53460. 37240. 52578. 41336. 47889. 43436. 39997. 43358. 44815.\n",
      " 42535. 43354. 46259. 35442. 47868. 46958. 44999. 52436. 52506. 48565.\n",
      " 46187. 53596. 43330. 52663. 53457. 46171. 48554. 46680. 41257. 43350.\n",
      " 40001. 41947. 52515. 44922. 43497. 47863. 44964. 46162. 46121. 48780.\n",
      " 47892. 48026. 53532. 46074. 43387. 43352. 48508. 52586. 39960. 46190.\n",
      " 53465. 52478. 40096. 42390. 46775. 45203. 52445. 47828. 52422. 53620.\n",
      " 42929. 41256. 46080. 47787. 53585. 46902. 47810. 46097. 43986. 53577.\n",
      " 52527. 47877. 46186. 52805. 43533. 46088. 46086. 53039. 47971. 43318.\n",
      " 47812. 53564. 42406. 46757. 44888. 52863. 53470. 52475. 47864. 46157.\n",
      " 52498. 47837. 53437. 48008. 41599. 48566. 42378. 43474. 45045. 46267.\n",
      " 53600. 44937. 37778. 53957. 47913. 40017. 44202. 46188. 47846. 52546.\n",
      " 53489. 35466. 43700. 44905. 47888. 42421. 47826. 47891. 39908. 53645.\n",
      " 40463. 53612. 52662. 46543. 47793. 46221. 47947. 43698. 43938. 46304.\n",
      " 52493. 53051. 53534. 47823. 53509. 42391. 41338. 53681. 52886. 46652.\n",
      " 42485. 53663. 53513. 42667. 45215. 44902. 46700. 53490. 48487. 46137.\n",
      " 46672. 48482. 42382. 53978. 39008. 45038. 46073. 47938. 47881. 52566.\n",
      " 53636. 53900. 48663. 46843. 43353. 52476. 53575. 43712. 46194. 46169.\n",
      " 46657. 46229. 43294. 40008. 41358. 46209. 42389. 52503. 43393. 53533.\n",
      " 53999. 46168. 37229. 43797. 43402. 48581. 43645. 41595. 53469. 40688.\n",
      " 52932. 44845. 40077. 53535. 41387. 45533. 52651. 41235. 52538. 48447.\n",
      " 43303. 53315. 37112. 39993. 53991. 45033. 53472. 38718. 38868. 46354.\n",
      " 53609. 52945. 52444. 46796. 52471. 48034. 53494. 52438. 52829. 37100.\n",
      " 37724. 42901. 52602. 53675. 48473. 42395. 43392. 40608. 37174. 46387.\n",
      " 53581. 46786. 42869. 44887. 46504. 47940. 43522. 52887. 42386. 52591.\n",
      " 43062. 52643. 53542. 38843. 41722. 45008. 49410. 43540. 39941. 53910.\n",
      " 45063. 53688. 53605. 53740. 47830. 48117. 44885. 44840. 46183. 53546.\n",
      " 45414. 53483. 46349. 38569. 44833. 52555. 52487. 41376. 52991. 46711.\n",
      " 43409. 45004. 52633. 44827. 47996. 46772.]\n",
      "pff_backFieldBlock-[nan  0.  1.]\n"
     ]
    }
   ],
   "source": [
    "for col in df.columns:\n",
    "    if df[col].dtypes == 'float64':\n",
    "        print(f'{col}-{df[col].unique()}')"
   ]
  },
  {
   "cell_type": "code",
   "execution_count": 18,
   "id": "7f4b3f04",
   "metadata": {},
   "outputs": [
    {
     "data": {
      "text/html": [
       "<div>\n",
       "<style scoped>\n",
       "    .dataframe tbody tr th:only-of-type {\n",
       "        vertical-align: middle;\n",
       "    }\n",
       "\n",
       "    .dataframe tbody tr th {\n",
       "        vertical-align: top;\n",
       "    }\n",
       "\n",
       "    .dataframe thead th {\n",
       "        text-align: right;\n",
       "    }\n",
       "</style>\n",
       "<table border=\"1\" class=\"dataframe\">\n",
       "  <thead>\n",
       "    <tr style=\"text-align: right;\">\n",
       "      <th></th>\n",
       "      <th>gameId</th>\n",
       "      <th>playId</th>\n",
       "      <th>nflId</th>\n",
       "      <th>pff_role</th>\n",
       "      <th>pff_positionLinedUp</th>\n",
       "      <th>pff_hit</th>\n",
       "      <th>pff_hurry</th>\n",
       "      <th>pff_sack</th>\n",
       "      <th>pff_beatenByDefender</th>\n",
       "      <th>pff_hitAllowed</th>\n",
       "      <th>pff_hurryAllowed</th>\n",
       "      <th>pff_sackAllowed</th>\n",
       "      <th>pff_nflIdBlockedPlayer</th>\n",
       "      <th>pff_blockType</th>\n",
       "      <th>pff_backFieldBlock</th>\n",
       "    </tr>\n",
       "  </thead>\n",
       "  <tbody>\n",
       "    <tr>\n",
       "      <th>0</th>\n",
       "      <td>2021090900</td>\n",
       "      <td>97</td>\n",
       "      <td>25511</td>\n",
       "      <td>Pass</td>\n",
       "      <td>QB</td>\n",
       "      <td>NaN</td>\n",
       "      <td>NaN</td>\n",
       "      <td>NaN</td>\n",
       "      <td>NaN</td>\n",
       "      <td>NaN</td>\n",
       "      <td>NaN</td>\n",
       "      <td>NaN</td>\n",
       "      <td>NaN</td>\n",
       "      <td>NaN</td>\n",
       "      <td>NaN</td>\n",
       "    </tr>\n",
       "    <tr>\n",
       "      <th>1</th>\n",
       "      <td>2021090900</td>\n",
       "      <td>97</td>\n",
       "      <td>35481</td>\n",
       "      <td>Pass Route</td>\n",
       "      <td>TE-L</td>\n",
       "      <td>NaN</td>\n",
       "      <td>NaN</td>\n",
       "      <td>NaN</td>\n",
       "      <td>NaN</td>\n",
       "      <td>NaN</td>\n",
       "      <td>NaN</td>\n",
       "      <td>NaN</td>\n",
       "      <td>NaN</td>\n",
       "      <td>NaN</td>\n",
       "      <td>NaN</td>\n",
       "    </tr>\n",
       "    <tr>\n",
       "      <th>2</th>\n",
       "      <td>2021090900</td>\n",
       "      <td>97</td>\n",
       "      <td>35634</td>\n",
       "      <td>Pass Route</td>\n",
       "      <td>LWR</td>\n",
       "      <td>NaN</td>\n",
       "      <td>NaN</td>\n",
       "      <td>NaN</td>\n",
       "      <td>NaN</td>\n",
       "      <td>NaN</td>\n",
       "      <td>NaN</td>\n",
       "      <td>NaN</td>\n",
       "      <td>NaN</td>\n",
       "      <td>NaN</td>\n",
       "      <td>NaN</td>\n",
       "    </tr>\n",
       "    <tr>\n",
       "      <th>3</th>\n",
       "      <td>2021090900</td>\n",
       "      <td>97</td>\n",
       "      <td>39985</td>\n",
       "      <td>Pass Route</td>\n",
       "      <td>HB-R</td>\n",
       "      <td>NaN</td>\n",
       "      <td>NaN</td>\n",
       "      <td>NaN</td>\n",
       "      <td>NaN</td>\n",
       "      <td>NaN</td>\n",
       "      <td>NaN</td>\n",
       "      <td>NaN</td>\n",
       "      <td>NaN</td>\n",
       "      <td>NaN</td>\n",
       "      <td>NaN</td>\n",
       "    </tr>\n",
       "    <tr>\n",
       "      <th>4</th>\n",
       "      <td>2021090900</td>\n",
       "      <td>97</td>\n",
       "      <td>40151</td>\n",
       "      <td>Pass Block</td>\n",
       "      <td>C</td>\n",
       "      <td>NaN</td>\n",
       "      <td>NaN</td>\n",
       "      <td>NaN</td>\n",
       "      <td>0.0</td>\n",
       "      <td>0.0</td>\n",
       "      <td>0.0</td>\n",
       "      <td>0.0</td>\n",
       "      <td>44955.0</td>\n",
       "      <td>SW</td>\n",
       "      <td>0.0</td>\n",
       "    </tr>\n",
       "  </tbody>\n",
       "</table>\n",
       "</div>"
      ],
      "text/plain": [
       "       gameId  playId  nflId    pff_role pff_positionLinedUp  pff_hit  \\\n",
       "0  2021090900      97  25511        Pass                  QB      NaN   \n",
       "1  2021090900      97  35481  Pass Route                TE-L      NaN   \n",
       "2  2021090900      97  35634  Pass Route                 LWR      NaN   \n",
       "3  2021090900      97  39985  Pass Route                HB-R      NaN   \n",
       "4  2021090900      97  40151  Pass Block                   C      NaN   \n",
       "\n",
       "   pff_hurry  pff_sack  pff_beatenByDefender  pff_hitAllowed  \\\n",
       "0        NaN       NaN                   NaN             NaN   \n",
       "1        NaN       NaN                   NaN             NaN   \n",
       "2        NaN       NaN                   NaN             NaN   \n",
       "3        NaN       NaN                   NaN             NaN   \n",
       "4        NaN       NaN                   0.0             0.0   \n",
       "\n",
       "   pff_hurryAllowed  pff_sackAllowed  pff_nflIdBlockedPlayer pff_blockType  \\\n",
       "0               NaN              NaN                     NaN           NaN   \n",
       "1               NaN              NaN                     NaN           NaN   \n",
       "2               NaN              NaN                     NaN           NaN   \n",
       "3               NaN              NaN                     NaN           NaN   \n",
       "4               0.0              0.0                 44955.0            SW   \n",
       "\n",
       "   pff_backFieldBlock  \n",
       "0                 NaN  \n",
       "1                 NaN  \n",
       "2                 NaN  \n",
       "3                 NaN  \n",
       "4                 0.0  "
      ]
     },
     "execution_count": 18,
     "metadata": {},
     "output_type": "execute_result"
    }
   ],
   "source": [
    "df.head()"
   ]
  },
  {
   "cell_type": "code",
   "execution_count": 20,
   "id": "663ab7c0",
   "metadata": {},
   "outputs": [
    {
     "data": {
      "text/plain": [
       "array([nan, 'SW', 'PP', 'PT', 'CL', 'PA', 'PU', 'CH', 'NB', 'BH', 'UP',\n",
       "       'SR', 'PR'], dtype=object)"
      ]
     },
     "execution_count": 20,
     "metadata": {},
     "output_type": "execute_result"
    }
   ],
   "source": [
    "df['pff_blockType'].unique()"
   ]
  },
  {
   "cell_type": "code",
   "execution_count": 34,
   "id": "fa34adcd",
   "metadata": {},
   "outputs": [],
   "source": [
    "df_blocktype = df.loc[df['pff_blockType'].notnull()]"
   ]
  },
  {
   "cell_type": "code",
   "execution_count": 35,
   "id": "3d4eb040",
   "metadata": {},
   "outputs": [
    {
     "data": {
      "image/png": "[encoded data removed]",
      "text/plain": [
       "<Figure size 1080x576 with 1 Axes>"
      ]
     },
     "metadata": {
      "needs_background": "light"
     },
     "output_type": "display_data"
    }
   ],
   "source": [
    "plt.figure(figsize = (15,8))\n",
    "sns.histplot(df_blocktype['pff_blockType'])\n",
    "plt.show()"
   ]
  },
  {
   "cell_type": "code",
   "execution_count": 36,
   "id": "cff224d1",
   "metadata": {},
   "outputs": [
    {
     "data": {
      "text/plain": [
       "array([nan,  0.,  1.])"
      ]
     },
     "execution_count": 36,
     "metadata": {},
     "output_type": "execute_result"
    }
   ],
   "source": [
    "df['pff_backFieldBlock'].unique()"
   ]
  }
 ],
 "metadata": {
  "kernelspec": {
   "display_name": "Python 3 (ipykernel)",
   "language": "python",
   "name": "python3"
  },
  "language_info": {
   "codemirror_mode": {
    "name": "ipython",
    "version": 3
   },
   "file_extension": ".py",
   "mimetype": "text/x-python",
   "name": "python",
   "nbconvert_exporter": "python",
   "pygments_lexer": "ipython3",
   "version": "3.9.12"
  }
 },
 "nbformat": 4,
 "nbformat_minor": 5
}
